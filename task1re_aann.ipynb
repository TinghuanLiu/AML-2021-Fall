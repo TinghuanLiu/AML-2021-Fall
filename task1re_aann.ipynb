{
  "nbformat": 4,
  "nbformat_minor": 0,
  "metadata": {
    "interpreter": {
      "hash": "11d2696aa44a2f0a370d91ea6517e7b889927749bc2cd16347a8ce4083dc1b7d"
    },
    "kernelspec": {
      "display_name": "Python 3.9.5 64-bit ('base': conda)",
      "name": "python3"
    },
    "language_info": {
      "codemirror_mode": {
        "name": "ipython",
        "version": 3
      },
      "file_extension": ".py",
      "mimetype": "text/x-python",
      "name": "python",
      "nbconvert_exporter": "python",
      "pygments_lexer": "ipython3",
      "version": "3.9.5"
    },
    "orig_nbformat": 4,
    "colab": {
      "name": "task1re.ipynb",
      "provenance": [],
      "collapsed_sections": []
    }
  },
  "cells": [
    {
      "cell_type": "code",
      "metadata": {
        "id": "ooW5LQ6rdfYK"
      },
      "source": [
        "import pandas as pd\n",
        "from sklearn.model_selection import train_test_split\n",
        "from sklearn.ensemble import IsolationForest\n",
        "from sklearn.feature_selection import SelectKBest, chi2, RFECV, RFE, SelectFromModel\n",
        "from sklearn.impute import KNNImputer\n",
        "from sklearn.preprocessing import MinMaxScaler, StandardScaler, RobustScaler\n",
        "from sklearn.kernel_ridge import KernelRidge\n",
        "from sklearn.ensemble import RandomForestRegressor\n",
        "from sklearn.ensemble import ExtraTreesRegressor\n",
        "from sklearn.svm import SVR\n",
        "from sklearn.model_selection import GridSearchCV\n",
        "from sklearn.metrics import r2_score\n",
        "import matplotlib.pyplot as plt\n",
        "import numpy as np"
      ],
      "execution_count": 30,
      "outputs": []
    },
    {
      "cell_type": "code",
      "metadata": {
        "colab": {
          "base_uri": "https://localhost:8080/"
        },
        "id": "ZpezHrtfk1Ah",
        "outputId": "ad04eb0b-62d3-43f7-d8dc-4dc4caab32c3"
      },
      "source": [
        "from google.colab import drive\n",
        "drive.mount('/content/drive')"
      ],
      "execution_count": 31,
      "outputs": [
        {
          "output_type": "stream",
          "name": "stdout",
          "text": [
            "Drive already mounted at /content/drive; to attempt to forcibly remount, call drive.mount(\"/content/drive\", force_remount=True).\n"
          ]
        }
      ]
    },
    {
      "cell_type": "markdown",
      "metadata": {
        "id": "IALC37a0dfYS"
      },
      "source": [
        "# 1. Load training data and test data"
      ]
    },
    {
      "cell_type": "markdown",
      "metadata": {
        "id": "pxlxT0E1dfYq"
      },
      "source": [
        "# 5. Model Selection"
      ]
    },
    {
      "cell_type": "code",
      "metadata": {
        "id": "Y9mYwdJxs1Aa"
      },
      "source": [
        "X_data_3 = pd.read_csv('/content/drive/MyDrive/AML/task1/RandomForest_features_train.csv') # df stands for dataframe\n",
        "y_data = pd.read_csv('/content/drive/MyDrive/AML/task1/RandomForest_target_train.csv')\n",
        "X_test = pd.read_csv('/content/drive/MyDrive/AML/task1/RandomForest_features_test.csv')"
      ],
      "execution_count": 32,
      "outputs": []
    },
    {
      "cell_type": "code",
      "metadata": {
        "id": "yMwnxwaidfYq",
        "colab": {
          "base_uri": "https://localhost:8080/"
        },
        "outputId": "437ffbe9-ad8e-471a-f03d-42f252ea0c33"
      },
      "source": [
        "X_train, X_valid, y_train, y_valid = train_test_split(X_data_3, y_data, test_size=0.2, random_state=1)\n",
        "print(\"X_train shape: \", X_train.shape)"
      ],
      "execution_count": 33,
      "outputs": [
        {
          "output_type": "stream",
          "name": "stdout",
          "text": [
            "X_train shape:  (959, 70)\n"
          ]
        }
      ]
    },
    {
      "cell_type": "markdown",
      "metadata": {
        "id": "lMVwbmTRPc4-"
      },
      "source": [
        "## ANN"
      ]
    },
    {
      "cell_type": "code",
      "metadata": {
        "id": "xDunWMYpPfVI"
      },
      "source": [
        "import tensorflow as tf\n",
        "from tensorflow import keras\n",
        "from tensorflow.keras import regularizers"
      ],
      "execution_count": 34,
      "outputs": []
    },
    {
      "cell_type": "code",
      "metadata": {
        "id": "gu8GU5JvBS4A"
      },
      "source": [
        "from keras.models import Sequential\n",
        "from keras.layers import Dense\n",
        "from keras.layers import LeakyReLU\n",
        "from keras.layers import Dropout\n",
        "from keras import regularizers\n",
        "# fix random seed for reproducibility\n",
        "\n",
        "def coeff_determination(y_true, y_pred):\n",
        "    from keras import backend as K\n",
        "    SS_res =  K.sum(K.square( y_true-y_pred ))\n",
        "    SS_tot = K.sum(K.square( y_true - K.mean(y_true) ) )\n",
        "    return ( 1 - SS_res/(SS_tot + K.epsilon()) )"
      ],
      "execution_count": 35,
      "outputs": []
    },
    {
      "cell_type": "code",
      "metadata": {
        "id": "ORyrtHMjPgca",
        "colab": {
          "base_uri": "https://localhost:8080/"
        },
        "outputId": "45e9fe3b-b90b-4738-a536-dfc75109c364"
      },
      "source": [
        "dropout=0.1\n",
        "\n",
        "model = Sequential()\n",
        "model.add(Dense(30, input_dim=X_train.shape[1], kernel_regularizer = regularizers.l2(1), kernel_initializer='he_uniform'))\n",
        "model.add(LeakyReLU(alpha=0.1))\n",
        "model.add(Dropout(rate = dropout))\n",
        "model.add(Dense(30, input_dim=72, kernel_regularizer = regularizers.l2(1), kernel_initializer='he_uniform'))\n",
        "model.add(LeakyReLU(alpha=0.1))\n",
        "model.add(Dropout(rate = dropout))\n",
        "model.add(Dense(30, input_dim=72, kernel_regularizer = regularizers.l2(1), kernel_initializer='he_uniform'))\n",
        "model.add(LeakyReLU(alpha=0.1))\n",
        "model.add(Dropout(rate = dropout))\n",
        "model.add(Dense(30, input_dim=72, kernel_regularizer = regularizers.l2(1), kernel_initializer='he_uniform'))\n",
        "model.add(LeakyReLU(alpha=0.1))\n",
        "model.add(Dropout(rate = dropout))\n",
        "model.add(Dense(30, input_dim=72, kernel_regularizer = regularizers.l2(1), kernel_initializer='he_uniform'))\n",
        "model.add(LeakyReLU(alpha=0.1))\n",
        "model.add(Dropout(rate = dropout))\n",
        "model.add(Dense(30, input_dim=72, kernel_regularizer = regularizers.l2(1), kernel_initializer='he_uniform'))\n",
        "model.add(LeakyReLU(alpha=0.1))\n",
        "model.add(Dropout(rate = dropout))\n",
        "\n",
        "model.add(Dense(1, kernel_initializer='he_uniform'))\n",
        "# Compile model\n",
        "opt = keras.optimizers.Adam(lr=0.005, beta_1=0.9, beta_2=0.999, epsilon=None, decay=0.0, amsgrad=False)\n",
        "\n",
        "model.compile(loss='mean_squared_error', optimizer=opt, metrics=[coeff_determination])"
      ],
      "execution_count": 36,
      "outputs": [
        {
          "output_type": "stream",
          "name": "stderr",
          "text": [
            "/usr/local/lib/python3.7/dist-packages/keras/optimizer_v2/adam.py:105: UserWarning: The `lr` argument is deprecated, use `learning_rate` instead.\n",
            "  super(Adam, self).__init__(name, **kwargs)\n"
          ]
        }
      ]
    },
    {
      "cell_type": "code",
      "metadata": {
        "colab": {
          "base_uri": "https://localhost:8080/"
        },
        "id": "ejd-xbQdPnrp",
        "outputId": "a53b2672-7073-4780-a52c-738561ed20df"
      },
      "source": [
        "model.summary()"
      ],
      "execution_count": 37,
      "outputs": [
        {
          "output_type": "stream",
          "name": "stdout",
          "text": [
            "Model: \"sequential_1\"\n",
            "_________________________________________________________________\n",
            " Layer (type)                Output Shape              Param #   \n",
            "=================================================================\n",
            " dense_7 (Dense)             (None, 30)                2130      \n",
            "                                                                 \n",
            " leaky_re_lu_6 (LeakyReLU)   (None, 30)                0         \n",
            "                                                                 \n",
            " dropout_6 (Dropout)         (None, 30)                0         \n",
            "                                                                 \n",
            " dense_8 (Dense)             (None, 30)                930       \n",
            "                                                                 \n",
            " leaky_re_lu_7 (LeakyReLU)   (None, 30)                0         \n",
            "                                                                 \n",
            " dropout_7 (Dropout)         (None, 30)                0         \n",
            "                                                                 \n",
            " dense_9 (Dense)             (None, 30)                930       \n",
            "                                                                 \n",
            " leaky_re_lu_8 (LeakyReLU)   (None, 30)                0         \n",
            "                                                                 \n",
            " dropout_8 (Dropout)         (None, 30)                0         \n",
            "                                                                 \n",
            " dense_10 (Dense)            (None, 30)                930       \n",
            "                                                                 \n",
            " leaky_re_lu_9 (LeakyReLU)   (None, 30)                0         \n",
            "                                                                 \n",
            " dropout_9 (Dropout)         (None, 30)                0         \n",
            "                                                                 \n",
            " dense_11 (Dense)            (None, 30)                930       \n",
            "                                                                 \n",
            " leaky_re_lu_10 (LeakyReLU)  (None, 30)                0         \n",
            "                                                                 \n",
            " dropout_10 (Dropout)        (None, 30)                0         \n",
            "                                                                 \n",
            " dense_12 (Dense)            (None, 30)                930       \n",
            "                                                                 \n",
            " leaky_re_lu_11 (LeakyReLU)  (None, 30)                0         \n",
            "                                                                 \n",
            " dropout_11 (Dropout)        (None, 30)                0         \n",
            "                                                                 \n",
            " dense_13 (Dense)            (None, 1)                 31        \n",
            "                                                                 \n",
            "=================================================================\n",
            "Total params: 6,811\n",
            "Trainable params: 6,811\n",
            "Non-trainable params: 0\n",
            "_________________________________________________________________\n"
          ]
        }
      ]
    },
    {
      "cell_type": "code",
      "metadata": {
        "colab": {
          "base_uri": "https://localhost:8080/"
        },
        "id": "TsXBu6YKPrhk",
        "outputId": "0a4780b7-b94f-4e0e-8624-368096e9fcc6"
      },
      "source": [
        "# Fit the model\n",
        "history = model.fit(X_data_3, y_data, epochs=80, verbose=2, validation_split=0.1,\n",
        "                    shuffle=True, steps_per_epoch=60, initial_epoch=0, validation_steps=5)"
      ],
      "execution_count": 38,
      "outputs": [
        {
          "output_type": "stream",
          "name": "stdout",
          "text": [
            "Epoch 1/80\n",
            "60/60 - 1s - loss: 2081.8506 - coeff_determination: -1.9477e+01 - val_loss: 539.5435 - val_coeff_determination: -1.6814e+00 - 1s/epoch - 23ms/step\n",
            "Epoch 2/80\n",
            "60/60 - 0s - loss: 651.2236 - coeff_determination: -3.5096e+00 - val_loss: 349.1661 - val_coeff_determination: -5.9178e-02 - 157ms/epoch - 3ms/step\n",
            "Epoch 3/80\n",
            "60/60 - 0s - loss: 561.9703 - coeff_determination: -2.8418e+00 - val_loss: 309.0683 - val_coeff_determination: 0.0578 - 164ms/epoch - 3ms/step\n",
            "Epoch 4/80\n",
            "60/60 - 0s - loss: 447.2726 - coeff_determination: -1.8536e+00 - val_loss: 279.3965 - val_coeff_determination: 0.1193 - 146ms/epoch - 2ms/step\n",
            "Epoch 5/80\n",
            "60/60 - 0s - loss: 382.4242 - coeff_determination: -1.3105e+00 - val_loss: 255.7680 - val_coeff_determination: 0.1774 - 153ms/epoch - 3ms/step\n",
            "Epoch 6/80\n",
            "60/60 - 0s - loss: 353.1938 - coeff_determination: -1.2364e+00 - val_loss: 255.2616 - val_coeff_determination: -1.2004e-02 - 150ms/epoch - 2ms/step\n",
            "Epoch 7/80\n",
            "60/60 - 0s - loss: 347.8018 - coeff_determination: -1.3378e+00 - val_loss: 218.7077 - val_coeff_determination: 0.2876 - 148ms/epoch - 2ms/step\n",
            "Epoch 8/80\n",
            "60/60 - 0s - loss: 316.2839 - coeff_determination: -1.0053e+00 - val_loss: 210.0759 - val_coeff_determination: 0.2294 - 137ms/epoch - 2ms/step\n",
            "Epoch 9/80\n",
            "60/60 - 0s - loss: 275.9540 - coeff_determination: -7.2435e-01 - val_loss: 193.4185 - val_coeff_determination: 0.2972 - 157ms/epoch - 3ms/step\n",
            "Epoch 10/80\n",
            "60/60 - 0s - loss: 277.1045 - coeff_determination: -8.7879e-01 - val_loss: 207.5044 - val_coeff_determination: 0.0484 - 154ms/epoch - 3ms/step\n",
            "Epoch 11/80\n",
            "60/60 - 0s - loss: 261.3010 - coeff_determination: -8.6657e-01 - val_loss: 180.1738 - val_coeff_determination: 0.2442 - 137ms/epoch - 2ms/step\n",
            "Epoch 12/80\n",
            "60/60 - 0s - loss: 253.3931 - coeff_determination: -8.0410e-01 - val_loss: 166.0348 - val_coeff_determination: 0.3224 - 149ms/epoch - 2ms/step\n",
            "Epoch 13/80\n",
            "60/60 - 0s - loss: 233.8498 - coeff_determination: -6.7205e-01 - val_loss: 157.1381 - val_coeff_determination: 0.3434 - 142ms/epoch - 2ms/step\n",
            "Epoch 14/80\n",
            "60/60 - 0s - loss: 231.8388 - coeff_determination: -7.1950e-01 - val_loss: 161.2751 - val_coeff_determination: 0.2327 - 161ms/epoch - 3ms/step\n",
            "Epoch 15/80\n",
            "60/60 - 0s - loss: 226.7940 - coeff_determination: -7.0887e-01 - val_loss: 145.0261 - val_coeff_determination: 0.3469 - 158ms/epoch - 3ms/step\n",
            "Epoch 16/80\n",
            "60/60 - 0s - loss: 224.1464 - coeff_determination: -7.2462e-01 - val_loss: 139.9756 - val_coeff_determination: 0.3451 - 158ms/epoch - 3ms/step\n",
            "Epoch 17/80\n",
            "60/60 - 0s - loss: 203.4868 - coeff_determination: -5.1475e-01 - val_loss: 135.8694 - val_coeff_determination: 0.3278 - 157ms/epoch - 3ms/step\n",
            "Epoch 18/80\n",
            "60/60 - 0s - loss: 188.4949 - coeff_determination: -4.4481e-01 - val_loss: 128.3415 - val_coeff_determination: 0.3531 - 145ms/epoch - 2ms/step\n",
            "Epoch 19/80\n",
            "60/60 - 0s - loss: 195.3440 - coeff_determination: -5.7384e-01 - val_loss: 127.2683 - val_coeff_determination: 0.2991 - 158ms/epoch - 3ms/step\n",
            "Epoch 20/80\n",
            "60/60 - 0s - loss: 192.6333 - coeff_determination: -5.3559e-01 - val_loss: 136.5228 - val_coeff_determination: 0.1349 - 140ms/epoch - 2ms/step\n",
            "Epoch 21/80\n",
            "60/60 - 0s - loss: 183.7756 - coeff_determination: -4.8564e-01 - val_loss: 125.6699 - val_coeff_determination: 0.2277 - 171ms/epoch - 3ms/step\n",
            "Epoch 22/80\n",
            "60/60 - 0s - loss: 174.4893 - coeff_determination: -4.8154e-01 - val_loss: 123.1665 - val_coeff_determination: 0.2263 - 176ms/epoch - 3ms/step\n",
            "Epoch 23/80\n",
            "60/60 - 0s - loss: 163.2098 - coeff_determination: -3.7678e-01 - val_loss: 113.0050 - val_coeff_determination: 0.3313 - 161ms/epoch - 3ms/step\n",
            "Epoch 24/80\n",
            "60/60 - 0s - loss: 157.8416 - coeff_determination: -3.7246e-01 - val_loss: 106.2449 - val_coeff_determination: 0.3466 - 144ms/epoch - 2ms/step\n",
            "Epoch 25/80\n",
            "60/60 - 0s - loss: 149.8921 - coeff_determination: -2.4244e-01 - val_loss: 105.3764 - val_coeff_determination: 0.3212 - 161ms/epoch - 3ms/step\n",
            "Epoch 26/80\n",
            "60/60 - 0s - loss: 154.7458 - coeff_determination: -3.3330e-01 - val_loss: 98.4882 - val_coeff_determination: 0.3832 - 162ms/epoch - 3ms/step\n",
            "Epoch 27/80\n",
            "60/60 - 0s - loss: 143.8629 - coeff_determination: -2.5711e-01 - val_loss: 109.2847 - val_coeff_determination: 0.2107 - 143ms/epoch - 2ms/step\n",
            "Epoch 28/80\n",
            "60/60 - 0s - loss: 152.2142 - coeff_determination: -3.9629e-01 - val_loss: 95.1245 - val_coeff_determination: 0.3759 - 163ms/epoch - 3ms/step\n",
            "Epoch 29/80\n",
            "60/60 - 0s - loss: 143.0632 - coeff_determination: -2.9494e-01 - val_loss: 95.9237 - val_coeff_determination: 0.3405 - 160ms/epoch - 3ms/step\n",
            "Epoch 30/80\n",
            "60/60 - 0s - loss: 136.7267 - coeff_determination: -2.9988e-01 - val_loss: 95.5439 - val_coeff_determination: 0.3381 - 168ms/epoch - 3ms/step\n",
            "Epoch 31/80\n",
            "60/60 - 0s - loss: 139.1963 - coeff_determination: -2.4847e-01 - val_loss: 93.2268 - val_coeff_determination: 0.3328 - 154ms/epoch - 3ms/step\n",
            "Epoch 32/80\n",
            "60/60 - 0s - loss: 132.2036 - coeff_determination: -1.8000e-01 - val_loss: 87.4581 - val_coeff_determination: 0.3899 - 161ms/epoch - 3ms/step\n",
            "Epoch 33/80\n",
            "60/60 - 0s - loss: 135.0330 - coeff_determination: -2.5082e-01 - val_loss: 92.0554 - val_coeff_determination: 0.3211 - 160ms/epoch - 3ms/step\n",
            "Epoch 34/80\n",
            "60/60 - 0s - loss: 131.4012 - coeff_determination: -2.1543e-01 - val_loss: 95.7300 - val_coeff_determination: 0.2529 - 162ms/epoch - 3ms/step\n",
            "Epoch 35/80\n",
            "60/60 - 0s - loss: 127.4995 - coeff_determination: -2.0504e-01 - val_loss: 91.7664 - val_coeff_determination: 0.2908 - 161ms/epoch - 3ms/step\n",
            "Epoch 36/80\n",
            "60/60 - 0s - loss: 127.1940 - coeff_determination: -1.8779e-01 - val_loss: 86.0521 - val_coeff_determination: 0.3431 - 152ms/epoch - 3ms/step\n",
            "Epoch 37/80\n",
            "60/60 - 0s - loss: 120.8237 - coeff_determination: -1.2883e-01 - val_loss: 84.9750 - val_coeff_determination: 0.3553 - 156ms/epoch - 3ms/step\n",
            "Epoch 38/80\n",
            "60/60 - 0s - loss: 130.0002 - coeff_determination: -2.3173e-01 - val_loss: 95.9109 - val_coeff_determination: 0.1980 - 154ms/epoch - 3ms/step\n",
            "Epoch 39/80\n",
            "60/60 - 0s - loss: 119.5906 - coeff_determination: -1.3617e-01 - val_loss: 77.3703 - val_coeff_determination: 0.4197 - 161ms/epoch - 3ms/step\n",
            "Epoch 40/80\n",
            "60/60 - 0s - loss: 121.1547 - coeff_determination: -1.9683e-01 - val_loss: 81.5630 - val_coeff_determination: 0.3550 - 157ms/epoch - 3ms/step\n",
            "Epoch 41/80\n",
            "60/60 - 0s - loss: 119.7740 - coeff_determination: -2.1062e-01 - val_loss: 78.5845 - val_coeff_determination: 0.3822 - 180ms/epoch - 3ms/step\n",
            "Epoch 42/80\n",
            "60/60 - 0s - loss: 118.5217 - coeff_determination: -1.5930e-01 - val_loss: 98.8890 - val_coeff_determination: 0.1582 - 143ms/epoch - 2ms/step\n",
            "Epoch 43/80\n",
            "60/60 - 0s - loss: 120.5202 - coeff_determination: -3.1165e-01 - val_loss: 80.7019 - val_coeff_determination: 0.3540 - 154ms/epoch - 3ms/step\n",
            "Epoch 44/80\n",
            "60/60 - 0s - loss: 110.0148 - coeff_determination: -9.8324e-02 - val_loss: 91.1428 - val_coeff_determination: 0.2013 - 150ms/epoch - 2ms/step\n",
            "Epoch 45/80\n",
            "60/60 - 0s - loss: 109.2942 - coeff_determination: -5.5553e-02 - val_loss: 77.9856 - val_coeff_determination: 0.3760 - 154ms/epoch - 3ms/step\n",
            "Epoch 46/80\n",
            "60/60 - 0s - loss: 113.4670 - coeff_determination: -1.5060e-01 - val_loss: 83.5398 - val_coeff_determination: 0.3126 - 139ms/epoch - 2ms/step\n",
            "Epoch 47/80\n",
            "60/60 - 0s - loss: 108.3214 - coeff_determination: -4.2613e-02 - val_loss: 87.4942 - val_coeff_determination: 0.2404 - 162ms/epoch - 3ms/step\n",
            "Epoch 48/80\n",
            "60/60 - 0s - loss: 113.4803 - coeff_determination: -9.0041e-02 - val_loss: 86.9008 - val_coeff_determination: 0.2699 - 170ms/epoch - 3ms/step\n",
            "Epoch 49/80\n",
            "60/60 - 0s - loss: 107.3281 - coeff_determination: -9.1746e-02 - val_loss: 100.3722 - val_coeff_determination: 0.0688 - 145ms/epoch - 2ms/step\n",
            "Epoch 50/80\n",
            "60/60 - 0s - loss: 111.0447 - coeff_determination: -9.5546e-02 - val_loss: 92.4299 - val_coeff_determination: 0.1621 - 167ms/epoch - 3ms/step\n",
            "Epoch 51/80\n",
            "60/60 - 0s - loss: 105.1774 - coeff_determination: -3.3491e-02 - val_loss: 87.0217 - val_coeff_determination: 0.2563 - 150ms/epoch - 3ms/step\n",
            "Epoch 52/80\n",
            "60/60 - 0s - loss: 109.3892 - coeff_determination: -8.7453e-02 - val_loss: 79.0003 - val_coeff_determination: 0.3377 - 153ms/epoch - 3ms/step\n",
            "Epoch 53/80\n",
            "60/60 - 0s - loss: 106.2773 - coeff_determination: -6.2099e-02 - val_loss: 78.3694 - val_coeff_determination: 0.3236 - 142ms/epoch - 2ms/step\n",
            "Epoch 54/80\n",
            "60/60 - 0s - loss: 98.1158 - coeff_determination: 0.0236 - val_loss: 84.9057 - val_coeff_determination: 0.2339 - 157ms/epoch - 3ms/step\n",
            "Epoch 55/80\n",
            "60/60 - 0s - loss: 102.5708 - coeff_determination: -1.0378e-02 - val_loss: 74.5657 - val_coeff_determination: 0.3685 - 156ms/epoch - 3ms/step\n",
            "Epoch 56/80\n",
            "60/60 - 0s - loss: 98.4021 - coeff_determination: -1.6896e-02 - val_loss: 78.7665 - val_coeff_determination: 0.3086 - 160ms/epoch - 3ms/step\n",
            "Epoch 57/80\n",
            "60/60 - 0s - loss: 99.8732 - coeff_determination: -4.6732e-02 - val_loss: 80.1550 - val_coeff_determination: 0.3070 - 167ms/epoch - 3ms/step\n",
            "Epoch 58/80\n",
            "60/60 - 0s - loss: 99.1319 - coeff_determination: -3.4252e-02 - val_loss: 74.3190 - val_coeff_determination: 0.3599 - 151ms/epoch - 3ms/step\n",
            "Epoch 59/80\n",
            "60/60 - 0s - loss: 96.5950 - coeff_determination: 0.0427 - val_loss: 72.7920 - val_coeff_determination: 0.3928 - 146ms/epoch - 2ms/step\n",
            "Epoch 60/80\n",
            "60/60 - 0s - loss: 95.8283 - coeff_determination: 0.0488 - val_loss: 74.5109 - val_coeff_determination: 0.3654 - 154ms/epoch - 3ms/step\n",
            "Epoch 61/80\n",
            "60/60 - 0s - loss: 100.7429 - coeff_determination: 0.0227 - val_loss: 75.7187 - val_coeff_determination: 0.3565 - 153ms/epoch - 3ms/step\n",
            "Epoch 62/80\n",
            "60/60 - 0s - loss: 90.5780 - coeff_determination: 0.1009 - val_loss: 80.9345 - val_coeff_determination: 0.2806 - 165ms/epoch - 3ms/step\n",
            "Epoch 63/80\n",
            "60/60 - 0s - loss: 99.6450 - coeff_determination: -2.9487e-03 - val_loss: 78.4795 - val_coeff_determination: 0.3041 - 167ms/epoch - 3ms/step\n",
            "Epoch 64/80\n",
            "60/60 - 0s - loss: 93.5280 - coeff_determination: 0.0739 - val_loss: 80.7746 - val_coeff_determination: 0.2727 - 165ms/epoch - 3ms/step\n",
            "Epoch 65/80\n",
            "60/60 - 0s - loss: 90.3740 - coeff_determination: 0.1051 - val_loss: 70.9377 - val_coeff_determination: 0.3960 - 160ms/epoch - 3ms/step\n",
            "Epoch 66/80\n",
            "60/60 - 0s - loss: 96.9847 - coeff_determination: 0.0206 - val_loss: 73.0209 - val_coeff_determination: 0.3658 - 151ms/epoch - 3ms/step\n",
            "Epoch 67/80\n",
            "60/60 - 0s - loss: 97.8198 - coeff_determination: -2.5810e-02 - val_loss: 89.0790 - val_coeff_determination: 0.1710 - 152ms/epoch - 3ms/step\n",
            "Epoch 68/80\n",
            "60/60 - 0s - loss: 98.2724 - coeff_determination: -5.5232e-03 - val_loss: 76.4719 - val_coeff_determination: 0.3223 - 162ms/epoch - 3ms/step\n",
            "Epoch 69/80\n",
            "60/60 - 0s - loss: 94.0085 - coeff_determination: 0.0820 - val_loss: 71.1679 - val_coeff_determination: 0.3975 - 152ms/epoch - 3ms/step\n",
            "Epoch 70/80\n",
            "60/60 - 0s - loss: 90.6441 - coeff_determination: 0.1163 - val_loss: 76.7433 - val_coeff_determination: 0.3273 - 157ms/epoch - 3ms/step\n",
            "Epoch 71/80\n",
            "60/60 - 0s - loss: 96.0481 - coeff_determination: 0.0277 - val_loss: 71.0492 - val_coeff_determination: 0.3993 - 143ms/epoch - 2ms/step\n",
            "Epoch 72/80\n",
            "60/60 - 0s - loss: 94.8479 - coeff_determination: 0.0487 - val_loss: 76.4080 - val_coeff_determination: 0.3305 - 159ms/epoch - 3ms/step\n",
            "Epoch 73/80\n",
            "60/60 - 0s - loss: 92.4902 - coeff_determination: 0.0708 - val_loss: 81.0299 - val_coeff_determination: 0.2798 - 154ms/epoch - 3ms/step\n",
            "Epoch 74/80\n",
            "60/60 - 0s - loss: 95.6516 - coeff_determination: 0.0135 - val_loss: 72.4580 - val_coeff_determination: 0.3747 - 149ms/epoch - 2ms/step\n",
            "Epoch 75/80\n",
            "60/60 - 0s - loss: 97.6668 - coeff_determination: 0.0270 - val_loss: 72.5954 - val_coeff_determination: 0.3826 - 166ms/epoch - 3ms/step\n",
            "Epoch 76/80\n",
            "60/60 - 0s - loss: 93.5264 - coeff_determination: 0.0463 - val_loss: 78.2614 - val_coeff_determination: 0.3295 - 171ms/epoch - 3ms/step\n",
            "Epoch 77/80\n",
            "60/60 - 0s - loss: 88.2294 - coeff_determination: 0.1474 - val_loss: 72.3107 - val_coeff_determination: 0.3708 - 174ms/epoch - 3ms/step\n",
            "Epoch 78/80\n",
            "60/60 - 0s - loss: 90.7635 - coeff_determination: 0.1024 - val_loss: 74.9459 - val_coeff_determination: 0.3549 - 152ms/epoch - 3ms/step\n",
            "Epoch 79/80\n",
            "60/60 - 0s - loss: 92.6805 - coeff_determination: 0.1059 - val_loss: 82.0170 - val_coeff_determination: 0.2566 - 158ms/epoch - 3ms/step\n",
            "Epoch 80/80\n",
            "60/60 - 0s - loss: 83.7345 - coeff_determination: 0.1603 - val_loss: 74.2207 - val_coeff_determination: 0.3416 - 156ms/epoch - 3ms/step\n"
          ]
        }
      ]
    },
    {
      "cell_type": "code",
      "metadata": {
        "id": "04ugJnzVlhgC",
        "colab": {
          "base_uri": "https://localhost:8080/",
          "height": 500
        },
        "outputId": "a2010fc0-7890-46c0-9484-ff7bd9fa3541"
      },
      "source": [
        "pd.DataFrame(history.history).plot(figsize=(12, 8))"
      ],
      "execution_count": 39,
      "outputs": [
        {
          "output_type": "execute_result",
          "data": {
            "text/plain": [
              "<matplotlib.axes._subplots.AxesSubplot at 0x7f0e8ab4ffd0>"
            ]
          },
          "metadata": {},
          "execution_count": 39
        },
        {
          "output_type": "display_data",
          "data": {
            "image/png": "[encoded data removed]",
            "text/plain": [
              "<Figure size 864x576 with 1 Axes>"
            ]
          },
          "metadata": {
            "needs_background": "light"
          }
        }
      ]
    },
    {
      "cell_type": "code",
      "metadata": {
        "id": "biFUuFOEZ5QK",
        "colab": {
          "base_uri": "https://localhost:8080/",
          "height": 483
        },
        "outputId": "69ba32c9-0ca9-4d08-eb4f-86af5d29bc41"
      },
      "source": [
        "data = pd.DataFrame(history.history)\n",
        "data[\"val_coeff_determination\"].plot(figsize=(12, 8))\n",
        "data[\"coeff_determination\"].plot(figsize=(12, 8))\n",
        "plt.grid(True)"
      ],
      "execution_count": 40,
      "outputs": [
        {
          "output_type": "display_data",
          "data": {
            "image/png": "[encoded data removed]",
            "text/plain": [
              "<Figure size 864x576 with 1 Axes>"
            ]
          },
          "metadata": {
            "needs_background": "light"
          }
        }
      ]
    },
    {
      "cell_type": "code",
      "metadata": {
        "id": "EhnP133ZEs3A"
      },
      "source": [
        ""
      ],
      "execution_count": 40,
      "outputs": []
    },
    {
      "cell_type": "code",
      "metadata": {
        "id": "ZHHhn_0aaXSq",
        "colab": {
          "base_uri": "https://localhost:8080/"
        },
        "outputId": "e2e018ba-7d66-4459-9eaa-091d1a1b25f5"
      },
      "source": [
        "y_pred = model.predict(X_valid)\n",
        "r_score = r2_score(y_valid, y_pred)\n",
        "print(\"Validation score:\", r_score)"
      ],
      "execution_count": 45,
      "outputs": [
        {
          "output_type": "stream",
          "name": "stdout",
          "text": [
            "Validation score: 0.44782790078760004\n"
          ]
        }
      ]
    },
    {
      "cell_type": "markdown",
      "metadata": {
        "id": "xetUrkygdfYu"
      },
      "source": [
        "# 6. Export the prediction"
      ]
    },
    {
      "cell_type": "code",
      "metadata": {
        "id": "vORmNt23dfYu"
      },
      "source": [
        "# rfr = grid.best_estimator_\n",
        "\n",
        "y_test = model.predict(X_test)\n",
        "data_id = X_df['id']\n",
        "result = list(zip(data_id,y_test))\n",
        "result_table = pd.DataFrame(data = result, columns = ['id', 'y'])\n",
        "result_table.tail()\n",
        "result_table.to_csv('ann.csv', index = False)"
      ],
      "execution_count": 46,
      "outputs": []
    },
    {
      "cell_type": "markdown",
      "metadata": {
        "id": "ix6RdKgyt-gm"
      },
      "source": [
        ""
      ]
    }
  ]
}