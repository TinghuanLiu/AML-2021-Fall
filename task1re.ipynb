{
  "nbformat": 4,
  "nbformat_minor": 0,
  "metadata": {
    "interpreter": {
      "hash": "11d2696aa44a2f0a370d91ea6517e7b889927749bc2cd16347a8ce4083dc1b7d"
    },
    "kernelspec": {
      "display_name": "Python 3.9.5 64-bit ('base': conda)",
      "name": "python3"
    },
    "language_info": {
      "codemirror_mode": {
        "name": "ipython",
        "version": 3
      },
      "file_extension": ".py",
      "mimetype": "text/x-python",
      "name": "python",
      "nbconvert_exporter": "python",
      "pygments_lexer": "ipython3",
      "version": "3.9.5"
    },
    "orig_nbformat": 4,
    "colab": {
      "name": "task1re.ipynb",
      "provenance": [],
      "collapsed_sections": []
    },
    "accelerator": "GPU"
  },
  "cells": [
    {
      "cell_type": "code",
      "metadata": {
        "id": "ooW5LQ6rdfYK"
      },
      "source": [
        "import pandas as pd\n",
        "from sklearn.model_selection import train_test_split\n",
        "from sklearn.ensemble import IsolationForest\n",
        "from sklearn.feature_selection import SelectKBest, chi2, RFECV, RFE, SelectFromModel\n",
        "from sklearn.impute import KNNImputer\n",
        "from sklearn.preprocessing import MinMaxScaler, StandardScaler, RobustScaler\n",
        "from sklearn.kernel_ridge import KernelRidge\n",
        "from sklearn.ensemble import RandomForestRegressor\n",
        "from sklearn.ensemble import ExtraTreesRegressor\n",
        "from sklearn.svm import SVR\n",
        "from sklearn.model_selection import GridSearchCV\n",
        "from sklearn.metrics import r2_score"
      ],
      "execution_count": 12,
      "outputs": []
    },
    {
      "cell_type": "code",
      "metadata": {
        "colab": {
          "base_uri": "https://localhost:8080/"
        },
        "id": "ZpezHrtfk1Ah",
        "outputId": "3121900e-1da8-4fcc-b965-2f5da85f844f"
      },
      "source": [
        "from google.colab import drive\n",
        "drive.mount('/content/drive')"
      ],
      "execution_count": 16,
      "outputs": [
        {
          "output_type": "stream",
          "name": "stdout",
          "text": [
            "Drive already mounted at /content/drive; to attempt to forcibly remount, call drive.mount(\"/content/drive\", force_remount=True).\n"
          ]
        }
      ]
    },
    {
      "cell_type": "markdown",
      "metadata": {
        "id": "IALC37a0dfYS"
      },
      "source": [
        "# 1. Load training data and test data"
      ]
    },
    {
      "cell_type": "markdown",
      "metadata": {
        "id": "m5YoPW9ZdfYV"
      },
      "source": [
        "## 1.1 Read the csv files and get an overview of the data"
      ]
    },
    {
      "cell_type": "code",
      "metadata": {
        "id": "Nhh0V-nkdfYW",
        "colab": {
          "base_uri": "https://localhost:8080/",
          "height": 237
        },
        "outputId": "add8042e-7719-4792-c68b-745cfa5b68c3"
      },
      "source": [
        "X_df = pd.read_csv('/content/drive/MyDrive/AML/task1/X_train.csv') # df stands for dataframe\n",
        "y_df = pd.read_csv('/content/drive/MyDrive/AML/task1/y_train.csv')\n",
        "X_test_df = pd.read_csv('/content/drive/MyDrive/AML/task1/X_test.csv')\n",
        "print(\"Dimension of X: {}\".format(X_df.shape))\n",
        "print(\"Dimension of y: {}\".format(y_df.shape))\n",
        "X_df.tail()\n",
        "y_df.tail()"
      ],
      "execution_count": 17,
      "outputs": [
        {
          "output_type": "stream",
          "name": "stdout",
          "text": [
            "Dimension of X: (1212, 833)\n",
            "Dimension of y: (1212, 2)\n"
          ]
        },
        {
          "output_type": "execute_result",
          "data": {
            "text/html": [
              "<div>\n",
              "<style scoped>\n",
              "    .dataframe tbody tr th:only-of-type {\n",
              "        vertical-align: middle;\n",
              "    }\n",
              "\n",
              "    .dataframe tbody tr th {\n",
              "        vertical-align: top;\n",
              "    }\n",
              "\n",
              "    .dataframe thead th {\n",
              "        text-align: right;\n",
              "    }\n",
              "</style>\n",
              "<table border=\"1\" class=\"dataframe\">\n",
              "  <thead>\n",
              "    <tr style=\"text-align: right;\">\n",
              "      <th></th>\n",
              "      <th>id</th>\n",
              "      <th>y</th>\n",
              "    </tr>\n",
              "  </thead>\n",
              "  <tbody>\n",
              "    <tr>\n",
              "      <th>1207</th>\n",
              "      <td>1207.0</td>\n",
              "      <td>67.0</td>\n",
              "    </tr>\n",
              "    <tr>\n",
              "      <th>1208</th>\n",
              "      <td>1208.0</td>\n",
              "      <td>48.0</td>\n",
              "    </tr>\n",
              "    <tr>\n",
              "      <th>1209</th>\n",
              "      <td>1209.0</td>\n",
              "      <td>82.0</td>\n",
              "    </tr>\n",
              "    <tr>\n",
              "      <th>1210</th>\n",
              "      <td>1210.0</td>\n",
              "      <td>76.0</td>\n",
              "    </tr>\n",
              "    <tr>\n",
              "      <th>1211</th>\n",
              "      <td>1211.0</td>\n",
              "      <td>81.0</td>\n",
              "    </tr>\n",
              "  </tbody>\n",
              "</table>\n",
              "</div>"
            ],
            "text/plain": [
              "          id     y\n",
              "1207  1207.0  67.0\n",
              "1208  1208.0  48.0\n",
              "1209  1209.0  82.0\n",
              "1210  1210.0  76.0\n",
              "1211  1211.0  81.0"
            ]
          },
          "metadata": {},
          "execution_count": 17
        }
      ]
    },
    {
      "cell_type": "markdown",
      "metadata": {
        "id": "bFjGgi4IdfYZ"
      },
      "source": [
        "## 1.2 Get rid of the id column"
      ]
    },
    {
      "cell_type": "code",
      "metadata": {
        "id": "WnkLRmSodfYa",
        "colab": {
          "base_uri": "https://localhost:8080/"
        },
        "outputId": "f6eecdcd-3068-49c3-9906-c832d4b0374b"
      },
      "source": [
        "X_data = X_df.iloc[:,1:]\n",
        "y_data = y_df.iloc[:,1:]\n",
        "X_test = X_test_df.iloc[:, 1:]\n",
        "print(\"X_data shape:\", X_data.shape)\n",
        "print(\"y_data shape:\", y_data.shape)\n",
        "print(\"X_test shape:\", X_test.shape)"
      ],
      "execution_count": 19,
      "outputs": [
        {
          "output_type": "stream",
          "name": "stdout",
          "text": [
            "X_data shape: (1212, 832)\n",
            "y_data shape: (1212, 1)\n",
            "X_test shape: (776, 832)\n"
          ]
        }
      ]
    },
    {
      "cell_type": "markdown",
      "metadata": {
        "id": "wJ4oR4S8dfYb"
      },
      "source": [
        "# 2. Fill the missing values"
      ]
    },
    {
      "cell_type": "markdown",
      "metadata": {
        "id": "E8RYQ2ewdfYc"
      },
      "source": [
        "## 2.1 Get to know how many missing values there are"
      ]
    },
    {
      "cell_type": "code",
      "metadata": {
        "id": "y1vrYI34dfYe",
        "colab": {
          "base_uri": "https://localhost:8080/"
        },
        "outputId": "7dc492ca-8378-40ea-ebda-f56c77350b79"
      },
      "source": [
        "feature_missing_values = X_data.isna().sum(axis = 0)\n",
        "print (\"Number of missing values for each feature:\\n\", feature_missing_values)\n",
        "\n",
        "record_missing_values = X_data.isna().sum(axis = 1)\n",
        "print (\"Number of missing values for each record:\\n\", record_missing_values)"
      ],
      "execution_count": 20,
      "outputs": [
        {
          "output_type": "stream",
          "name": "stdout",
          "text": [
            "Number of missing values for each feature:\n",
            " x0       94\n",
            "x1       98\n",
            "x2       95\n",
            "x3      106\n",
            "x4       95\n",
            "       ... \n",
            "x827    103\n",
            "x828     97\n",
            "x829    100\n",
            "x830     88\n",
            "x831    121\n",
            "Length: 832, dtype: int64\n",
            "Number of missing values for each record:\n",
            " 0       59\n",
            "1       67\n",
            "2       61\n",
            "3       57\n",
            "4       62\n",
            "        ..\n",
            "1207    55\n",
            "1208    76\n",
            "1209    60\n",
            "1210    51\n",
            "1211    69\n",
            "Length: 1212, dtype: int64\n"
          ]
        }
      ]
    },
    {
      "cell_type": "markdown",
      "metadata": {
        "id": "5mwUC84WdfYf"
      },
      "source": [
        "## 2.2 Using median"
      ]
    },
    {
      "cell_type": "code",
      "metadata": {
        "id": "t9dCin5bdfYg"
      },
      "source": [
        "# X_data_1 = X_data.fillna(X_data.median())\n",
        "# X_test_1 = X_test.fillna(X_test.median())\n",
        "# missing_values = X_data_1.isna().any() # any(): Return whether any element is True, potentially over an axis.\n",
        "# print (\"After filling, number of missing values for each feature:\\n\", missing_values)"
      ],
      "execution_count": 21,
      "outputs": []
    },
    {
      "cell_type": "markdown",
      "metadata": {
        "id": "RfFT_rYFdfYh"
      },
      "source": [
        "## 2.3 Using KNN"
      ]
    },
    {
      "cell_type": "code",
      "metadata": {
        "id": "pTNraXPudfYi",
        "colab": {
          "base_uri": "https://localhost:8080/"
        },
        "outputId": "54200a91-8870-4865-a834-be80b304a2b8"
      },
      "source": [
        "# To use KNN imputer, we need to first normalize our data so the distance measure of each feature is the same\n",
        "scaler = RobustScaler(quantile_range=(10, 90))\n",
        "X_data_sc = pd.DataFrame(scaler.fit_transform(X_data), columns=X_data.columns)\n",
        "X_test_sc = pd.DataFrame(scaler.fit_transform(X_test), columns=X_test.columns)\n",
        "\n",
        "imputer = KNNImputer(n_neighbors=5)\n",
        "X_data_1 = pd.DataFrame(imputer.fit_transform(X_data_sc), columns=X_data.columns)\n",
        "X_test_1 = pd.DataFrame(imputer.fit_transform(X_test_sc), columns=X_test.columns)\n",
        "\n",
        "print(\"Missing values\", X_data_1.isna().any())"
      ],
      "execution_count": 22,
      "outputs": [
        {
          "output_type": "stream",
          "name": "stdout",
          "text": [
            "Missing values x0      False\n",
            "x1      False\n",
            "x2      False\n",
            "x3      False\n",
            "x4      False\n",
            "        ...  \n",
            "x827    False\n",
            "x828    False\n",
            "x829    False\n",
            "x830    False\n",
            "x831    False\n",
            "Length: 832, dtype: bool\n"
          ]
        }
      ]
    },
    {
      "cell_type": "markdown",
      "metadata": {
        "id": "ppDH6lyLdfYj"
      },
      "source": [
        "# 3. Outlier detection"
      ]
    },
    {
      "cell_type": "markdown",
      "metadata": {
        "id": "zvOm9H3sdfYj"
      },
      "source": [
        "## 3.1 Using IsolationForest"
      ]
    },
    {
      "cell_type": "code",
      "metadata": {
        "id": "uQOicDn4dfYj",
        "colab": {
          "base_uri": "https://localhost:8080/"
        },
        "outputId": "5f554c6f-922c-4b75-f802-09235b39930b"
      },
      "source": [
        "iso_forest = IsolationForest(n_estimators=500, contamination=0.05)\n",
        "iso_forest = iso_forest.fit(X_data_1)\n",
        "isof_outliers = iso_forest.predict(X_data_1)\n",
        "X_data_2 = X_data_1.iloc[isof_outliers == 1, :]\n",
        "y_data = y_data.iloc[isof_outliers == 1].values\n",
        "print(X_data_2.shape)\n",
        "\n",
        "X_test_2 = X_test_1\n",
        "\n",
        "# # Delete nothing\n",
        "# X_data_2 = X_data_1\n",
        "# X_test_2 = X_test_1\n",
        "# y_data = y_data.values"
      ],
      "execution_count": 23,
      "outputs": [
        {
          "output_type": "stream",
          "name": "stdout",
          "text": [
            "(1151, 832)\n"
          ]
        }
      ]
    },
    {
      "cell_type": "code",
      "metadata": {
        "colab": {
          "base_uri": "https://localhost:8080/",
          "height": 0
        },
        "id": "qd7oA0Kdu1rt",
        "outputId": "a46832d0-2500-4730-eafd-220abe1d3309"
      },
      "source": [
        "X_data_2.head()"
      ],
      "execution_count": 24,
      "outputs": [
        {
          "output_type": "execute_result",
          "data": {
            "text/html": [
              "<div>\n",
              "<style scoped>\n",
              "    .dataframe tbody tr th:only-of-type {\n",
              "        vertical-align: middle;\n",
              "    }\n",
              "\n",
              "    .dataframe tbody tr th {\n",
              "        vertical-align: top;\n",
              "    }\n",
              "\n",
              "    .dataframe thead th {\n",
              "        text-align: right;\n",
              "    }\n",
              "</style>\n",
              "<table border=\"1\" class=\"dataframe\">\n",
              "  <thead>\n",
              "    <tr style=\"text-align: right;\">\n",
              "      <th></th>\n",
              "      <th>x0</th>\n",
              "      <th>x1</th>\n",
              "      <th>x2</th>\n",
              "      <th>x3</th>\n",
              "      <th>x4</th>\n",
              "      <th>x5</th>\n",
              "      <th>x6</th>\n",
              "      <th>x7</th>\n",
              "      <th>x8</th>\n",
              "      <th>x9</th>\n",
              "      <th>x10</th>\n",
              "      <th>x11</th>\n",
              "      <th>x12</th>\n",
              "      <th>x13</th>\n",
              "      <th>x14</th>\n",
              "      <th>x15</th>\n",
              "      <th>x16</th>\n",
              "      <th>x17</th>\n",
              "      <th>x18</th>\n",
              "      <th>x19</th>\n",
              "      <th>x20</th>\n",
              "      <th>x21</th>\n",
              "      <th>x22</th>\n",
              "      <th>x23</th>\n",
              "      <th>x24</th>\n",
              "      <th>x25</th>\n",
              "      <th>x26</th>\n",
              "      <th>x27</th>\n",
              "      <th>x28</th>\n",
              "      <th>x29</th>\n",
              "      <th>x30</th>\n",
              "      <th>x31</th>\n",
              "      <th>x32</th>\n",
              "      <th>x33</th>\n",
              "      <th>x34</th>\n",
              "      <th>x35</th>\n",
              "      <th>x36</th>\n",
              "      <th>x37</th>\n",
              "      <th>x38</th>\n",
              "      <th>x39</th>\n",
              "      <th>...</th>\n",
              "      <th>x792</th>\n",
              "      <th>x793</th>\n",
              "      <th>x794</th>\n",
              "      <th>x795</th>\n",
              "      <th>x796</th>\n",
              "      <th>x797</th>\n",
              "      <th>x798</th>\n",
              "      <th>x799</th>\n",
              "      <th>x800</th>\n",
              "      <th>x801</th>\n",
              "      <th>x802</th>\n",
              "      <th>x803</th>\n",
              "      <th>x804</th>\n",
              "      <th>x805</th>\n",
              "      <th>x806</th>\n",
              "      <th>x807</th>\n",
              "      <th>x808</th>\n",
              "      <th>x809</th>\n",
              "      <th>x810</th>\n",
              "      <th>x811</th>\n",
              "      <th>x812</th>\n",
              "      <th>x813</th>\n",
              "      <th>x814</th>\n",
              "      <th>x815</th>\n",
              "      <th>x816</th>\n",
              "      <th>x817</th>\n",
              "      <th>x818</th>\n",
              "      <th>x819</th>\n",
              "      <th>x820</th>\n",
              "      <th>x821</th>\n",
              "      <th>x822</th>\n",
              "      <th>x823</th>\n",
              "      <th>x824</th>\n",
              "      <th>x825</th>\n",
              "      <th>x826</th>\n",
              "      <th>x827</th>\n",
              "      <th>x828</th>\n",
              "      <th>x829</th>\n",
              "      <th>x830</th>\n",
              "      <th>x831</th>\n",
              "    </tr>\n",
              "  </thead>\n",
              "  <tbody>\n",
              "    <tr>\n",
              "      <th>0</th>\n",
              "      <td>0.366254</td>\n",
              "      <td>-0.602537</td>\n",
              "      <td>0.237168</td>\n",
              "      <td>-0.246672</td>\n",
              "      <td>0.646918</td>\n",
              "      <td>-0.356928</td>\n",
              "      <td>0.614377</td>\n",
              "      <td>-0.332445</td>\n",
              "      <td>0.563801</td>\n",
              "      <td>-0.302874</td>\n",
              "      <td>-0.498416</td>\n",
              "      <td>0.212626</td>\n",
              "      <td>-0.484550</td>\n",
              "      <td>-0.230231</td>\n",
              "      <td>-0.443511</td>\n",
              "      <td>0.323738</td>\n",
              "      <td>0.527316</td>\n",
              "      <td>-0.560667</td>\n",
              "      <td>-0.057300</td>\n",
              "      <td>-0.398784</td>\n",
              "      <td>0.331705</td>\n",
              "      <td>0.936314</td>\n",
              "      <td>0.139309</td>\n",
              "      <td>0.166117</td>\n",
              "      <td>-0.120616</td>\n",
              "      <td>-0.483488</td>\n",
              "      <td>-0.133835</td>\n",
              "      <td>-0.379148</td>\n",
              "      <td>-0.522631</td>\n",
              "      <td>0.185912</td>\n",
              "      <td>-0.310709</td>\n",
              "      <td>0.401079</td>\n",
              "      <td>-0.058608</td>\n",
              "      <td>-0.065739</td>\n",
              "      <td>0.219344</td>\n",
              "      <td>0.338877</td>\n",
              "      <td>-0.521471</td>\n",
              "      <td>-0.050881</td>\n",
              "      <td>0.821375</td>\n",
              "      <td>-0.206204</td>\n",
              "      <td>...</td>\n",
              "      <td>0.091529</td>\n",
              "      <td>0.354864</td>\n",
              "      <td>-0.000498</td>\n",
              "      <td>-0.166341</td>\n",
              "      <td>0.104771</td>\n",
              "      <td>-0.160049</td>\n",
              "      <td>0.537924</td>\n",
              "      <td>0.637074</td>\n",
              "      <td>-0.044632</td>\n",
              "      <td>0.357295</td>\n",
              "      <td>0.120632</td>\n",
              "      <td>-0.733933</td>\n",
              "      <td>0.301748</td>\n",
              "      <td>-0.519026</td>\n",
              "      <td>0.151594</td>\n",
              "      <td>-0.355137</td>\n",
              "      <td>0.804673</td>\n",
              "      <td>-0.037777</td>\n",
              "      <td>0.380540</td>\n",
              "      <td>0.172868</td>\n",
              "      <td>-0.507662</td>\n",
              "      <td>0.038349</td>\n",
              "      <td>-0.128503</td>\n",
              "      <td>-0.033035</td>\n",
              "      <td>0.065428</td>\n",
              "      <td>-0.471241</td>\n",
              "      <td>0.332334</td>\n",
              "      <td>-0.192552</td>\n",
              "      <td>0.210712</td>\n",
              "      <td>0.117579</td>\n",
              "      <td>-0.318885</td>\n",
              "      <td>0.050707</td>\n",
              "      <td>-0.196689</td>\n",
              "      <td>0.117974</td>\n",
              "      <td>0.325079</td>\n",
              "      <td>0.303604</td>\n",
              "      <td>-0.566476</td>\n",
              "      <td>-0.176145</td>\n",
              "      <td>-0.575897</td>\n",
              "      <td>-0.226159</td>\n",
              "    </tr>\n",
              "    <tr>\n",
              "      <th>2</th>\n",
              "      <td>0.432092</td>\n",
              "      <td>0.458436</td>\n",
              "      <td>-0.147386</td>\n",
              "      <td>-0.553701</td>\n",
              "      <td>-0.306695</td>\n",
              "      <td>-0.351380</td>\n",
              "      <td>-0.038824</td>\n",
              "      <td>0.109042</td>\n",
              "      <td>0.104857</td>\n",
              "      <td>-0.026660</td>\n",
              "      <td>0.175691</td>\n",
              "      <td>-0.213002</td>\n",
              "      <td>-0.400969</td>\n",
              "      <td>-0.706979</td>\n",
              "      <td>0.123232</td>\n",
              "      <td>0.132832</td>\n",
              "      <td>-0.571213</td>\n",
              "      <td>-0.142955</td>\n",
              "      <td>-0.208848</td>\n",
              "      <td>0.056125</td>\n",
              "      <td>0.031362</td>\n",
              "      <td>0.392277</td>\n",
              "      <td>-0.206804</td>\n",
              "      <td>-1.281982</td>\n",
              "      <td>0.533658</td>\n",
              "      <td>0.041791</td>\n",
              "      <td>0.163144</td>\n",
              "      <td>0.296507</td>\n",
              "      <td>-0.104647</td>\n",
              "      <td>0.064881</td>\n",
              "      <td>0.664561</td>\n",
              "      <td>-0.462420</td>\n",
              "      <td>0.311602</td>\n",
              "      <td>-0.083953</td>\n",
              "      <td>0.057019</td>\n",
              "      <td>-0.313337</td>\n",
              "      <td>0.181062</td>\n",
              "      <td>-0.149937</td>\n",
              "      <td>-0.080653</td>\n",
              "      <td>-0.422615</td>\n",
              "      <td>...</td>\n",
              "      <td>0.930956</td>\n",
              "      <td>-0.404625</td>\n",
              "      <td>-0.626460</td>\n",
              "      <td>0.177020</td>\n",
              "      <td>-0.144440</td>\n",
              "      <td>-0.184671</td>\n",
              "      <td>-0.553214</td>\n",
              "      <td>-0.199383</td>\n",
              "      <td>0.067927</td>\n",
              "      <td>-0.024507</td>\n",
              "      <td>-0.071273</td>\n",
              "      <td>-0.179701</td>\n",
              "      <td>-0.572265</td>\n",
              "      <td>-0.311823</td>\n",
              "      <td>-0.208124</td>\n",
              "      <td>0.152407</td>\n",
              "      <td>-0.187030</td>\n",
              "      <td>-0.347608</td>\n",
              "      <td>0.176291</td>\n",
              "      <td>-0.144937</td>\n",
              "      <td>0.297918</td>\n",
              "      <td>0.077217</td>\n",
              "      <td>0.084467</td>\n",
              "      <td>-0.432927</td>\n",
              "      <td>-0.368816</td>\n",
              "      <td>-0.022950</td>\n",
              "      <td>0.410962</td>\n",
              "      <td>0.504689</td>\n",
              "      <td>0.473242</td>\n",
              "      <td>-0.125366</td>\n",
              "      <td>-0.390869</td>\n",
              "      <td>-0.080001</td>\n",
              "      <td>-0.400141</td>\n",
              "      <td>0.271402</td>\n",
              "      <td>0.092331</td>\n",
              "      <td>-0.731324</td>\n",
              "      <td>0.275481</td>\n",
              "      <td>-0.381353</td>\n",
              "      <td>-0.778377</td>\n",
              "      <td>-0.086109</td>\n",
              "    </tr>\n",
              "    <tr>\n",
              "      <th>4</th>\n",
              "      <td>0.167169</td>\n",
              "      <td>-0.361734</td>\n",
              "      <td>0.396267</td>\n",
              "      <td>-0.238947</td>\n",
              "      <td>-0.019179</td>\n",
              "      <td>-0.669567</td>\n",
              "      <td>-0.078957</td>\n",
              "      <td>0.639629</td>\n",
              "      <td>0.244143</td>\n",
              "      <td>-0.432669</td>\n",
              "      <td>0.592228</td>\n",
              "      <td>0.613683</td>\n",
              "      <td>0.515475</td>\n",
              "      <td>-0.628716</td>\n",
              "      <td>0.455264</td>\n",
              "      <td>0.355937</td>\n",
              "      <td>-0.585780</td>\n",
              "      <td>-0.062891</td>\n",
              "      <td>0.372641</td>\n",
              "      <td>0.254074</td>\n",
              "      <td>-0.154041</td>\n",
              "      <td>-0.327385</td>\n",
              "      <td>0.073526</td>\n",
              "      <td>0.140675</td>\n",
              "      <td>0.011798</td>\n",
              "      <td>-0.146518</td>\n",
              "      <td>-0.484218</td>\n",
              "      <td>0.285343</td>\n",
              "      <td>0.736146</td>\n",
              "      <td>0.557712</td>\n",
              "      <td>0.024150</td>\n",
              "      <td>-0.578573</td>\n",
              "      <td>0.268679</td>\n",
              "      <td>-0.344200</td>\n",
              "      <td>0.603555</td>\n",
              "      <td>0.328378</td>\n",
              "      <td>-0.417409</td>\n",
              "      <td>-0.164655</td>\n",
              "      <td>0.181360</td>\n",
              "      <td>0.822299</td>\n",
              "      <td>...</td>\n",
              "      <td>-0.005846</td>\n",
              "      <td>0.111864</td>\n",
              "      <td>0.428670</td>\n",
              "      <td>0.284042</td>\n",
              "      <td>0.409506</td>\n",
              "      <td>0.331444</td>\n",
              "      <td>0.453075</td>\n",
              "      <td>-0.334999</td>\n",
              "      <td>0.063464</td>\n",
              "      <td>0.487918</td>\n",
              "      <td>-0.103585</td>\n",
              "      <td>0.208841</td>\n",
              "      <td>-0.609823</td>\n",
              "      <td>-0.486181</td>\n",
              "      <td>-0.146785</td>\n",
              "      <td>0.430425</td>\n",
              "      <td>-0.408727</td>\n",
              "      <td>0.660101</td>\n",
              "      <td>0.437674</td>\n",
              "      <td>0.221476</td>\n",
              "      <td>-0.279948</td>\n",
              "      <td>0.966123</td>\n",
              "      <td>-0.044372</td>\n",
              "      <td>0.514427</td>\n",
              "      <td>-0.734786</td>\n",
              "      <td>-0.081034</td>\n",
              "      <td>0.355136</td>\n",
              "      <td>0.088157</td>\n",
              "      <td>-0.825760</td>\n",
              "      <td>-0.216536</td>\n",
              "      <td>-0.232344</td>\n",
              "      <td>-0.380367</td>\n",
              "      <td>0.835558</td>\n",
              "      <td>0.049827</td>\n",
              "      <td>0.099136</td>\n",
              "      <td>0.321395</td>\n",
              "      <td>0.096218</td>\n",
              "      <td>-0.320239</td>\n",
              "      <td>0.080176</td>\n",
              "      <td>0.040857</td>\n",
              "    </tr>\n",
              "    <tr>\n",
              "      <th>5</th>\n",
              "      <td>-0.351395</td>\n",
              "      <td>0.289232</td>\n",
              "      <td>0.293071</td>\n",
              "      <td>-0.062916</td>\n",
              "      <td>0.311761</td>\n",
              "      <td>0.080699</td>\n",
              "      <td>0.063625</td>\n",
              "      <td>-0.139039</td>\n",
              "      <td>-0.100231</td>\n",
              "      <td>0.288177</td>\n",
              "      <td>0.384312</td>\n",
              "      <td>0.269270</td>\n",
              "      <td>0.249566</td>\n",
              "      <td>0.822805</td>\n",
              "      <td>-0.000842</td>\n",
              "      <td>0.574645</td>\n",
              "      <td>-0.094707</td>\n",
              "      <td>0.411075</td>\n",
              "      <td>-0.286924</td>\n",
              "      <td>-0.165425</td>\n",
              "      <td>0.175779</td>\n",
              "      <td>-0.609105</td>\n",
              "      <td>0.714758</td>\n",
              "      <td>-0.210875</td>\n",
              "      <td>0.104949</td>\n",
              "      <td>0.039135</td>\n",
              "      <td>0.280088</td>\n",
              "      <td>0.179142</td>\n",
              "      <td>-0.102233</td>\n",
              "      <td>-0.585132</td>\n",
              "      <td>-0.246189</td>\n",
              "      <td>0.467543</td>\n",
              "      <td>-0.401984</td>\n",
              "      <td>0.312369</td>\n",
              "      <td>-0.173118</td>\n",
              "      <td>0.057036</td>\n",
              "      <td>0.127081</td>\n",
              "      <td>-0.392826</td>\n",
              "      <td>-0.084236</td>\n",
              "      <td>-0.082451</td>\n",
              "      <td>...</td>\n",
              "      <td>-0.144195</td>\n",
              "      <td>-0.420541</td>\n",
              "      <td>0.516235</td>\n",
              "      <td>-0.184277</td>\n",
              "      <td>-0.147865</td>\n",
              "      <td>0.208632</td>\n",
              "      <td>-0.180598</td>\n",
              "      <td>-0.184437</td>\n",
              "      <td>0.017012</td>\n",
              "      <td>-0.357609</td>\n",
              "      <td>-0.045442</td>\n",
              "      <td>-0.037543</td>\n",
              "      <td>0.173530</td>\n",
              "      <td>-0.061712</td>\n",
              "      <td>-0.401402</td>\n",
              "      <td>0.534702</td>\n",
              "      <td>-0.702003</td>\n",
              "      <td>0.322825</td>\n",
              "      <td>0.134834</td>\n",
              "      <td>0.012196</td>\n",
              "      <td>0.369852</td>\n",
              "      <td>0.682798</td>\n",
              "      <td>-0.024586</td>\n",
              "      <td>0.559903</td>\n",
              "      <td>0.846660</td>\n",
              "      <td>-0.513810</td>\n",
              "      <td>-0.317874</td>\n",
              "      <td>-0.096279</td>\n",
              "      <td>0.043405</td>\n",
              "      <td>0.098081</td>\n",
              "      <td>-0.369659</td>\n",
              "      <td>0.215428</td>\n",
              "      <td>-0.085858</td>\n",
              "      <td>0.009466</td>\n",
              "      <td>0.110210</td>\n",
              "      <td>0.321365</td>\n",
              "      <td>0.404988</td>\n",
              "      <td>-0.001046</td>\n",
              "      <td>-0.372933</td>\n",
              "      <td>0.545064</td>\n",
              "    </tr>\n",
              "    <tr>\n",
              "      <th>6</th>\n",
              "      <td>-0.042825</td>\n",
              "      <td>-0.546083</td>\n",
              "      <td>0.238445</td>\n",
              "      <td>-0.584761</td>\n",
              "      <td>-0.027881</td>\n",
              "      <td>0.074732</td>\n",
              "      <td>0.082182</td>\n",
              "      <td>0.439288</td>\n",
              "      <td>-0.187196</td>\n",
              "      <td>0.559747</td>\n",
              "      <td>0.650666</td>\n",
              "      <td>0.452827</td>\n",
              "      <td>0.471855</td>\n",
              "      <td>-0.413128</td>\n",
              "      <td>0.290864</td>\n",
              "      <td>-0.179733</td>\n",
              "      <td>-0.260738</td>\n",
              "      <td>-0.019663</td>\n",
              "      <td>-0.040849</td>\n",
              "      <td>-0.371956</td>\n",
              "      <td>-0.245471</td>\n",
              "      <td>0.418760</td>\n",
              "      <td>0.957861</td>\n",
              "      <td>-0.375566</td>\n",
              "      <td>-0.341911</td>\n",
              "      <td>0.102844</td>\n",
              "      <td>-0.428553</td>\n",
              "      <td>0.590769</td>\n",
              "      <td>-0.052330</td>\n",
              "      <td>0.450305</td>\n",
              "      <td>0.191042</td>\n",
              "      <td>-0.205598</td>\n",
              "      <td>0.016183</td>\n",
              "      <td>0.367967</td>\n",
              "      <td>0.325781</td>\n",
              "      <td>0.362794</td>\n",
              "      <td>-0.556797</td>\n",
              "      <td>0.112994</td>\n",
              "      <td>0.464433</td>\n",
              "      <td>0.159660</td>\n",
              "      <td>...</td>\n",
              "      <td>0.276868</td>\n",
              "      <td>-0.192429</td>\n",
              "      <td>0.479095</td>\n",
              "      <td>-0.490182</td>\n",
              "      <td>-0.047360</td>\n",
              "      <td>0.195639</td>\n",
              "      <td>0.449680</td>\n",
              "      <td>-0.357008</td>\n",
              "      <td>0.268580</td>\n",
              "      <td>-0.383713</td>\n",
              "      <td>-0.233643</td>\n",
              "      <td>0.471439</td>\n",
              "      <td>-0.463445</td>\n",
              "      <td>-0.179418</td>\n",
              "      <td>-0.450622</td>\n",
              "      <td>-0.113225</td>\n",
              "      <td>0.236259</td>\n",
              "      <td>-0.162548</td>\n",
              "      <td>0.408056</td>\n",
              "      <td>0.338547</td>\n",
              "      <td>0.255864</td>\n",
              "      <td>0.656144</td>\n",
              "      <td>0.092981</td>\n",
              "      <td>-0.167417</td>\n",
              "      <td>-0.405711</td>\n",
              "      <td>-0.321657</td>\n",
              "      <td>-0.452151</td>\n",
              "      <td>0.110185</td>\n",
              "      <td>-0.151644</td>\n",
              "      <td>-0.191850</td>\n",
              "      <td>-0.141714</td>\n",
              "      <td>-0.131141</td>\n",
              "      <td>0.172552</td>\n",
              "      <td>-0.160140</td>\n",
              "      <td>0.132825</td>\n",
              "      <td>0.047903</td>\n",
              "      <td>0.087631</td>\n",
              "      <td>0.056238</td>\n",
              "      <td>0.043282</td>\n",
              "      <td>0.153107</td>\n",
              "    </tr>\n",
              "  </tbody>\n",
              "</table>\n",
              "<p>5 rows × 832 columns</p>\n",
              "</div>"
            ],
            "text/plain": [
              "         x0        x1        x2  ...      x829      x830      x831\n",
              "0  0.366254 -0.602537  0.237168  ... -0.176145 -0.575897 -0.226159\n",
              "2  0.432092  0.458436 -0.147386  ... -0.381353 -0.778377 -0.086109\n",
              "4  0.167169 -0.361734  0.396267  ... -0.320239  0.080176  0.040857\n",
              "5 -0.351395  0.289232  0.293071  ... -0.001046 -0.372933  0.545064\n",
              "6 -0.042825 -0.546083  0.238445  ...  0.056238  0.043282  0.153107\n",
              "\n",
              "[5 rows x 832 columns]"
            ]
          },
          "metadata": {},
          "execution_count": 24
        }
      ]
    },
    {
      "cell_type": "markdown",
      "metadata": {
        "id": "6cJge2LpdfYl"
      },
      "source": [
        "# 4. Feature selection"
      ]
    },
    {
      "cell_type": "code",
      "metadata": {
        "id": "Q2OzXhunlpw_"
      },
      "source": [
        "from xgboost import XGBRegressor\n",
        "from numpy.random import randint\n",
        "randomNumber = randint(100000000)\n",
        "XGB_reg = XGBRegressor(n_jobs=-1, objective ='reg:squarederror', n_estimator=100, learning_rate=0.1,subsample=0.8, colsample_bytree=0.8, reg_alpha=0.2, reg_lambda=0.2, gamma=0.1, random_state=randomNumber)\n",
        "XGB_reg_fit = XGB_reg.fit(X_data_2, y_data)"
      ],
      "execution_count": 25,
      "outputs": []
    },
    {
      "cell_type": "code",
      "metadata": {
        "colab": {
          "base_uri": "https://localhost:8080/",
          "height": 349
        },
        "id": "4F2aZPMYs1iN",
        "outputId": "f797428c-7789-44f3-96dc-0b01c568c710"
      },
      "source": [
        "import matplotlib.pyplot as plt\n",
        "import numpy as np\n",
        "# feature importance\n",
        "plt.hist(np.abs(XGB_reg.feature_importances_))"
      ],
      "execution_count": 26,
      "outputs": [
        {
          "output_type": "execute_result",
          "data": {
            "text/plain": [
              "(array([726.,  76.,  17.,   2.,   4.,   1.,   4.,   1.,   0.,   1.]),\n",
              " array([0.        , 0.00296845, 0.00593691, 0.00890536, 0.01187381,\n",
              "        0.01484226, 0.01781072, 0.02077917, 0.02374762, 0.02671608,\n",
              "        0.02968453], dtype=float32),\n",
              " <a list of 10 Patch objects>)"
            ]
          },
          "metadata": {},
          "execution_count": 26
        },
        {
          "output_type": "display_data",
          "data": {
            "image/png": "[encoded data removed]",
            "text/plain": [
              "<Figure size 432x288 with 1 Axes>"
            ]
          },
          "metadata": {
            "needs_background": "light"
          }
        }
      ]
    },
    {
      "cell_type": "code",
      "metadata": {
        "id": "l_xj1xjOvKnE"
      },
      "source": [
        "from sklearn.feature_selection import SelectFromModel\n",
        "threshold=0.003\n",
        "XGB_reg_sfm = SelectFromModel(XGB_reg, threshold=threshold).fit(X_data_2, y_data)\n",
        "X_data_3 = XGB_reg_sfm.transform(X_data_2)\n",
        "X_test_3 = XGB_reg_sfm.transform(X_test_1)"
      ],
      "execution_count": 27,
      "outputs": []
    },
    {
      "cell_type": "code",
      "metadata": {
        "colab": {
          "base_uri": "https://localhost:8080/"
        },
        "id": "0tvpdGaFvDYt",
        "outputId": "c42f9c3c-1c81-4e31-db75-a32974976718"
      },
      "source": [
        "X_train, X_valid, y_train, y_valid = train_test_split(X_data_3, y_data, test_size=0.2, random_state=1)\n",
        "print(\"X_train shape: \", X_train.shape)"
      ],
      "execution_count": 28,
      "outputs": [
        {
          "output_type": "stream",
          "name": "stdout",
          "text": [
            "X_train shape:  (920, 105)\n"
          ]
        }
      ]
    },
    {
      "cell_type": "markdown",
      "metadata": {
        "id": "XCSg-Br-dfYl"
      },
      "source": [
        "## 4.1 Using SelectKBest"
      ]
    },
    {
      "cell_type": "code",
      "metadata": {
        "id": "RvEVldnRdfYm",
        "outputId": "6ed01307-834e-43d2-da63-4df82d8c79f1"
      },
      "source": [
        "# selector = SelectKBest(score_func=chi2, k=85)\n",
        "# selector = selector.fit(X_data_2.abs(), y = y_data)\n",
        "# X_data_3 = selector.transform(X_data_2)\n",
        "# X_test_3 = selector.transform(X_test_2)\n",
        "# print(\"X_data shape\", X_data_3.shape)"
      ],
      "execution_count": null,
      "outputs": [
        {
          "name": "stdout",
          "output_type": "stream",
          "text": [
            "X_data shape (1151, 85)\n"
          ]
        }
      ]
    },
    {
      "cell_type": "markdown",
      "metadata": {
        "id": "0UkYCOG3dfYm"
      },
      "source": [
        "## 4.2 Using SelectFromModel"
      ]
    },
    {
      "cell_type": "code",
      "metadata": {
        "id": "a1H4pXiBdfYn"
      },
      "source": [
        "# For RFR\n",
        "# estimator2 = RandomForestRegressor()\n",
        "# selector2 = SelectFromModel(estimator2, max_features=150, threshold=\"mean\")\n",
        "# selector2 = selector2.fit(X_data_2, y_data)\n",
        "# X_data_3 = selector2.transform(X_data_2)\n",
        "# X_test_3 = selector2.transform(X_test_2)\n",
        "\n",
        "# For SVR\n",
        "# estimator2 = KernelRidge()\n",
        "# selector2 = SelectFromModel(estimator2, max_features=150, threshold=\"mean\", importance_getter='dual_coef_')\n",
        "# selector2 = selector2.fit(X_data_2, y_data.ravel())\n",
        "# X_data_3 = selector2.transform(X_data_2)\n",
        "# X_test_3 = selector2.transform(X_test_2)"
      ],
      "execution_count": null,
      "outputs": []
    },
    {
      "cell_type": "markdown",
      "metadata": {
        "id": "07UKviPbdfYo"
      },
      "source": [
        "## 4.3 Using RFE"
      ]
    },
    {
      "cell_type": "code",
      "metadata": {
        "id": "ZbcVlpF0dfYo",
        "colab": {
          "base_uri": "https://localhost:8080/",
          "height": 390
        },
        "outputId": "c03da61f-293d-49d4-b836-e24f09308e2b"
      },
      "source": [
        "# Make RFE faster\n",
        "selector = SelectKBest(score_func=chi2, k=300)\n",
        "selector = selector.fit(X_data_2.abs(), y = y_data)\n",
        "X_data_2_c = selector.transform(X_data_2)\n",
        "X_test_2_c = selector.transform(X_test_2)\n",
        "\n",
        "estimator = RandomForestRegressor(n_estimators=320, min_samples_split=3)\n",
        "selector = RFE(estimator, step=5, n_features_to_select=85, verbose=2)\n",
        "selector = selector.fit(X_data_2_c, y_data.ravel())\n",
        "X_data_3 = selector.transform(X_data_2_c)\n",
        "X_test_3 = selector.transform(X_test_2_c)"
      ],
      "execution_count": 53,
      "outputs": [
        {
          "output_type": "stream",
          "name": "stdout",
          "text": [
            "Fitting estimator with 300 features.\n"
          ]
        },
        {
          "output_type": "error",
          "ename": "KeyboardInterrupt",
          "evalue": "ignored",
          "traceback": [
            "\u001b[0;31m---------------------------------------------------------------------------\u001b[0m",
            "\u001b[0;31mKeyboardInterrupt\u001b[0m                         Traceback (most recent call last)",
            "\u001b[0;32m<ipython-input-53-359c0654651f>\u001b[0m in \u001b[0;36m<module>\u001b[0;34m()\u001b[0m\n\u001b[1;32m      7\u001b[0m \u001b[0mestimator\u001b[0m \u001b[0;34m=\u001b[0m \u001b[0mRandomForestRegressor\u001b[0m\u001b[0;34m(\u001b[0m\u001b[0mn_estimators\u001b[0m\u001b[0;34m=\u001b[0m\u001b[0;36m320\u001b[0m\u001b[0;34m,\u001b[0m \u001b[0mmin_samples_split\u001b[0m\u001b[0;34m=\u001b[0m\u001b[0;36m3\u001b[0m\u001b[0;34m)\u001b[0m\u001b[0;34m\u001b[0m\u001b[0;34m\u001b[0m\u001b[0m\n\u001b[1;32m      8\u001b[0m \u001b[0mselector\u001b[0m \u001b[0;34m=\u001b[0m \u001b[0mRFE\u001b[0m\u001b[0;34m(\u001b[0m\u001b[0mestimator\u001b[0m\u001b[0;34m,\u001b[0m \u001b[0mstep\u001b[0m\u001b[0;34m=\u001b[0m\u001b[0;36m5\u001b[0m\u001b[0;34m,\u001b[0m \u001b[0mn_features_to_select\u001b[0m\u001b[0;34m=\u001b[0m\u001b[0;36m85\u001b[0m\u001b[0;34m,\u001b[0m \u001b[0mverbose\u001b[0m\u001b[0;34m=\u001b[0m\u001b[0;36m2\u001b[0m\u001b[0;34m)\u001b[0m\u001b[0;34m\u001b[0m\u001b[0;34m\u001b[0m\u001b[0m\n\u001b[0;32m----> 9\u001b[0;31m \u001b[0mselector\u001b[0m \u001b[0;34m=\u001b[0m \u001b[0mselector\u001b[0m\u001b[0;34m.\u001b[0m\u001b[0mfit\u001b[0m\u001b[0;34m(\u001b[0m\u001b[0mX_data_2_c\u001b[0m\u001b[0;34m,\u001b[0m \u001b[0my_data\u001b[0m\u001b[0;34m.\u001b[0m\u001b[0mravel\u001b[0m\u001b[0;34m(\u001b[0m\u001b[0;34m)\u001b[0m\u001b[0;34m)\u001b[0m\u001b[0;34m\u001b[0m\u001b[0;34m\u001b[0m\u001b[0m\n\u001b[0m\u001b[1;32m     10\u001b[0m \u001b[0mX_data_3\u001b[0m \u001b[0;34m=\u001b[0m \u001b[0mselector\u001b[0m\u001b[0;34m.\u001b[0m\u001b[0mtransform\u001b[0m\u001b[0;34m(\u001b[0m\u001b[0mX_data_2_c\u001b[0m\u001b[0;34m)\u001b[0m\u001b[0;34m\u001b[0m\u001b[0;34m\u001b[0m\u001b[0m\n\u001b[1;32m     11\u001b[0m \u001b[0mX_test_3\u001b[0m \u001b[0;34m=\u001b[0m \u001b[0mselector\u001b[0m\u001b[0;34m.\u001b[0m\u001b[0mtransform\u001b[0m\u001b[0;34m(\u001b[0m\u001b[0mX_test_2_c\u001b[0m\u001b[0;34m)\u001b[0m\u001b[0;34m\u001b[0m\u001b[0;34m\u001b[0m\u001b[0m\n",
            "\u001b[0;32m/usr/local/lib/python3.7/dist-packages/sklearn/feature_selection/_rfe.py\u001b[0m in \u001b[0;36mfit\u001b[0;34m(self, X, y)\u001b[0m\n\u001b[1;32m    147\u001b[0m             \u001b[0mThe\u001b[0m \u001b[0mtarget\u001b[0m \u001b[0mvalues\u001b[0m\u001b[0;34m.\u001b[0m\u001b[0;34m\u001b[0m\u001b[0;34m\u001b[0m\u001b[0m\n\u001b[1;32m    148\u001b[0m         \"\"\"\n\u001b[0;32m--> 149\u001b[0;31m         \u001b[0;32mreturn\u001b[0m \u001b[0mself\u001b[0m\u001b[0;34m.\u001b[0m\u001b[0m_fit\u001b[0m\u001b[0;34m(\u001b[0m\u001b[0mX\u001b[0m\u001b[0;34m,\u001b[0m \u001b[0my\u001b[0m\u001b[0;34m)\u001b[0m\u001b[0;34m\u001b[0m\u001b[0;34m\u001b[0m\u001b[0m\n\u001b[0m\u001b[1;32m    150\u001b[0m \u001b[0;34m\u001b[0m\u001b[0m\n\u001b[1;32m    151\u001b[0m     \u001b[0;32mdef\u001b[0m \u001b[0m_fit\u001b[0m\u001b[0;34m(\u001b[0m\u001b[0mself\u001b[0m\u001b[0;34m,\u001b[0m \u001b[0mX\u001b[0m\u001b[0;34m,\u001b[0m \u001b[0my\u001b[0m\u001b[0;34m,\u001b[0m \u001b[0mstep_score\u001b[0m\u001b[0;34m=\u001b[0m\u001b[0;32mNone\u001b[0m\u001b[0;34m)\u001b[0m\u001b[0;34m:\u001b[0m\u001b[0;34m\u001b[0m\u001b[0;34m\u001b[0m\u001b[0m\n",
            "\u001b[0;32m/usr/local/lib/python3.7/dist-packages/sklearn/feature_selection/_rfe.py\u001b[0m in \u001b[0;36m_fit\u001b[0;34m(self, X, y, step_score)\u001b[0m\n\u001b[1;32m    188\u001b[0m                 \u001b[0mprint\u001b[0m\u001b[0;34m(\u001b[0m\u001b[0;34m\"Fitting estimator with %d features.\"\u001b[0m \u001b[0;34m%\u001b[0m \u001b[0mnp\u001b[0m\u001b[0;34m.\u001b[0m\u001b[0msum\u001b[0m\u001b[0;34m(\u001b[0m\u001b[0msupport_\u001b[0m\u001b[0;34m)\u001b[0m\u001b[0;34m)\u001b[0m\u001b[0;34m\u001b[0m\u001b[0;34m\u001b[0m\u001b[0m\n\u001b[1;32m    189\u001b[0m \u001b[0;34m\u001b[0m\u001b[0m\n\u001b[0;32m--> 190\u001b[0;31m             \u001b[0mestimator\u001b[0m\u001b[0;34m.\u001b[0m\u001b[0mfit\u001b[0m\u001b[0;34m(\u001b[0m\u001b[0mX\u001b[0m\u001b[0;34m[\u001b[0m\u001b[0;34m:\u001b[0m\u001b[0;34m,\u001b[0m \u001b[0mfeatures\u001b[0m\u001b[0;34m]\u001b[0m\u001b[0;34m,\u001b[0m \u001b[0my\u001b[0m\u001b[0;34m)\u001b[0m\u001b[0;34m\u001b[0m\u001b[0;34m\u001b[0m\u001b[0m\n\u001b[0m\u001b[1;32m    191\u001b[0m \u001b[0;34m\u001b[0m\u001b[0m\n\u001b[1;32m    192\u001b[0m             \u001b[0;31m# Get coefs\u001b[0m\u001b[0;34m\u001b[0m\u001b[0;34m\u001b[0m\u001b[0;34m\u001b[0m\u001b[0m\n",
            "\u001b[0;32m/usr/local/lib/python3.7/dist-packages/sklearn/ensemble/_forest.py\u001b[0m in \u001b[0;36mfit\u001b[0;34m(self, X, y, sample_weight)\u001b[0m\n\u001b[1;32m    381\u001b[0m                     \u001b[0mverbose\u001b[0m\u001b[0;34m=\u001b[0m\u001b[0mself\u001b[0m\u001b[0;34m.\u001b[0m\u001b[0mverbose\u001b[0m\u001b[0;34m,\u001b[0m \u001b[0mclass_weight\u001b[0m\u001b[0;34m=\u001b[0m\u001b[0mself\u001b[0m\u001b[0;34m.\u001b[0m\u001b[0mclass_weight\u001b[0m\u001b[0;34m,\u001b[0m\u001b[0;34m\u001b[0m\u001b[0;34m\u001b[0m\u001b[0m\n\u001b[1;32m    382\u001b[0m                     n_samples_bootstrap=n_samples_bootstrap)\n\u001b[0;32m--> 383\u001b[0;31m                 for i, t in enumerate(trees))\n\u001b[0m\u001b[1;32m    384\u001b[0m \u001b[0;34m\u001b[0m\u001b[0m\n\u001b[1;32m    385\u001b[0m             \u001b[0;31m# Collect newly grown trees\u001b[0m\u001b[0;34m\u001b[0m\u001b[0;34m\u001b[0m\u001b[0;34m\u001b[0m\u001b[0m\n",
            "\u001b[0;32m/usr/local/lib/python3.7/dist-packages/joblib/parallel.py\u001b[0m in \u001b[0;36m__call__\u001b[0;34m(self, iterable)\u001b[0m\n\u001b[1;32m   1044\u001b[0m                 \u001b[0mself\u001b[0m\u001b[0;34m.\u001b[0m\u001b[0m_iterating\u001b[0m \u001b[0;34m=\u001b[0m \u001b[0mself\u001b[0m\u001b[0;34m.\u001b[0m\u001b[0m_original_iterator\u001b[0m \u001b[0;32mis\u001b[0m \u001b[0;32mnot\u001b[0m \u001b[0;32mNone\u001b[0m\u001b[0;34m\u001b[0m\u001b[0;34m\u001b[0m\u001b[0m\n\u001b[1;32m   1045\u001b[0m \u001b[0;34m\u001b[0m\u001b[0m\n\u001b[0;32m-> 1046\u001b[0;31m             \u001b[0;32mwhile\u001b[0m \u001b[0mself\u001b[0m\u001b[0;34m.\u001b[0m\u001b[0mdispatch_one_batch\u001b[0m\u001b[0;34m(\u001b[0m\u001b[0miterator\u001b[0m\u001b[0;34m)\u001b[0m\u001b[0;34m:\u001b[0m\u001b[0;34m\u001b[0m\u001b[0;34m\u001b[0m\u001b[0m\n\u001b[0m\u001b[1;32m   1047\u001b[0m                 \u001b[0;32mpass\u001b[0m\u001b[0;34m\u001b[0m\u001b[0;34m\u001b[0m\u001b[0m\n\u001b[1;32m   1048\u001b[0m \u001b[0;34m\u001b[0m\u001b[0m\n",
            "\u001b[0;32m/usr/local/lib/python3.7/dist-packages/joblib/parallel.py\u001b[0m in \u001b[0;36mdispatch_one_batch\u001b[0;34m(self, iterator)\u001b[0m\n\u001b[1;32m    859\u001b[0m                 \u001b[0;32mreturn\u001b[0m \u001b[0;32mFalse\u001b[0m\u001b[0;34m\u001b[0m\u001b[0;34m\u001b[0m\u001b[0m\n\u001b[1;32m    860\u001b[0m             \u001b[0;32melse\u001b[0m\u001b[0;34m:\u001b[0m\u001b[0;34m\u001b[0m\u001b[0;34m\u001b[0m\u001b[0m\n\u001b[0;32m--> 861\u001b[0;31m                 \u001b[0mself\u001b[0m\u001b[0;34m.\u001b[0m\u001b[0m_dispatch\u001b[0m\u001b[0;34m(\u001b[0m\u001b[0mtasks\u001b[0m\u001b[0;34m)\u001b[0m\u001b[0;34m\u001b[0m\u001b[0;34m\u001b[0m\u001b[0m\n\u001b[0m\u001b[1;32m    862\u001b[0m                 \u001b[0;32mreturn\u001b[0m \u001b[0;32mTrue\u001b[0m\u001b[0;34m\u001b[0m\u001b[0;34m\u001b[0m\u001b[0m\n\u001b[1;32m    863\u001b[0m \u001b[0;34m\u001b[0m\u001b[0m\n",
            "\u001b[0;32m/usr/local/lib/python3.7/dist-packages/joblib/parallel.py\u001b[0m in \u001b[0;36m_dispatch\u001b[0;34m(self, batch)\u001b[0m\n\u001b[1;32m    777\u001b[0m         \u001b[0;32mwith\u001b[0m \u001b[0mself\u001b[0m\u001b[0;34m.\u001b[0m\u001b[0m_lock\u001b[0m\u001b[0;34m:\u001b[0m\u001b[0;34m\u001b[0m\u001b[0;34m\u001b[0m\u001b[0m\n\u001b[1;32m    778\u001b[0m             \u001b[0mjob_idx\u001b[0m \u001b[0;34m=\u001b[0m \u001b[0mlen\u001b[0m\u001b[0;34m(\u001b[0m\u001b[0mself\u001b[0m\u001b[0;34m.\u001b[0m\u001b[0m_jobs\u001b[0m\u001b[0;34m)\u001b[0m\u001b[0;34m\u001b[0m\u001b[0;34m\u001b[0m\u001b[0m\n\u001b[0;32m--> 779\u001b[0;31m             \u001b[0mjob\u001b[0m \u001b[0;34m=\u001b[0m \u001b[0mself\u001b[0m\u001b[0;34m.\u001b[0m\u001b[0m_backend\u001b[0m\u001b[0;34m.\u001b[0m\u001b[0mapply_async\u001b[0m\u001b[0;34m(\u001b[0m\u001b[0mbatch\u001b[0m\u001b[0;34m,\u001b[0m \u001b[0mcallback\u001b[0m\u001b[0;34m=\u001b[0m\u001b[0mcb\u001b[0m\u001b[0;34m)\u001b[0m\u001b[0;34m\u001b[0m\u001b[0;34m\u001b[0m\u001b[0m\n\u001b[0m\u001b[1;32m    780\u001b[0m             \u001b[0;31m# A job can complete so quickly than its callback is\u001b[0m\u001b[0;34m\u001b[0m\u001b[0;34m\u001b[0m\u001b[0;34m\u001b[0m\u001b[0m\n\u001b[1;32m    781\u001b[0m             \u001b[0;31m# called before we get here, causing self._jobs to\u001b[0m\u001b[0;34m\u001b[0m\u001b[0;34m\u001b[0m\u001b[0;34m\u001b[0m\u001b[0m\n",
            "\u001b[0;32m/usr/local/lib/python3.7/dist-packages/joblib/_parallel_backends.py\u001b[0m in \u001b[0;36mapply_async\u001b[0;34m(self, func, callback)\u001b[0m\n\u001b[1;32m    206\u001b[0m     \u001b[0;32mdef\u001b[0m \u001b[0mapply_async\u001b[0m\u001b[0;34m(\u001b[0m\u001b[0mself\u001b[0m\u001b[0;34m,\u001b[0m \u001b[0mfunc\u001b[0m\u001b[0;34m,\u001b[0m \u001b[0mcallback\u001b[0m\u001b[0;34m=\u001b[0m\u001b[0;32mNone\u001b[0m\u001b[0;34m)\u001b[0m\u001b[0;34m:\u001b[0m\u001b[0;34m\u001b[0m\u001b[0;34m\u001b[0m\u001b[0m\n\u001b[1;32m    207\u001b[0m         \u001b[0;34m\"\"\"Schedule a func to be run\"\"\"\u001b[0m\u001b[0;34m\u001b[0m\u001b[0;34m\u001b[0m\u001b[0m\n\u001b[0;32m--> 208\u001b[0;31m         \u001b[0mresult\u001b[0m \u001b[0;34m=\u001b[0m \u001b[0mImmediateResult\u001b[0m\u001b[0;34m(\u001b[0m\u001b[0mfunc\u001b[0m\u001b[0;34m)\u001b[0m\u001b[0;34m\u001b[0m\u001b[0;34m\u001b[0m\u001b[0m\n\u001b[0m\u001b[1;32m    209\u001b[0m         \u001b[0;32mif\u001b[0m \u001b[0mcallback\u001b[0m\u001b[0;34m:\u001b[0m\u001b[0;34m\u001b[0m\u001b[0;34m\u001b[0m\u001b[0m\n\u001b[1;32m    210\u001b[0m             \u001b[0mcallback\u001b[0m\u001b[0;34m(\u001b[0m\u001b[0mresult\u001b[0m\u001b[0;34m)\u001b[0m\u001b[0;34m\u001b[0m\u001b[0;34m\u001b[0m\u001b[0m\n",
            "\u001b[0;32m/usr/local/lib/python3.7/dist-packages/joblib/_parallel_backends.py\u001b[0m in \u001b[0;36m__init__\u001b[0;34m(self, batch)\u001b[0m\n\u001b[1;32m    570\u001b[0m         \u001b[0;31m# Don't delay the application, to avoid keeping the input\u001b[0m\u001b[0;34m\u001b[0m\u001b[0;34m\u001b[0m\u001b[0;34m\u001b[0m\u001b[0m\n\u001b[1;32m    571\u001b[0m         \u001b[0;31m# arguments in memory\u001b[0m\u001b[0;34m\u001b[0m\u001b[0;34m\u001b[0m\u001b[0;34m\u001b[0m\u001b[0m\n\u001b[0;32m--> 572\u001b[0;31m         \u001b[0mself\u001b[0m\u001b[0;34m.\u001b[0m\u001b[0mresults\u001b[0m \u001b[0;34m=\u001b[0m \u001b[0mbatch\u001b[0m\u001b[0;34m(\u001b[0m\u001b[0;34m)\u001b[0m\u001b[0;34m\u001b[0m\u001b[0;34m\u001b[0m\u001b[0m\n\u001b[0m\u001b[1;32m    573\u001b[0m \u001b[0;34m\u001b[0m\u001b[0m\n\u001b[1;32m    574\u001b[0m     \u001b[0;32mdef\u001b[0m \u001b[0mget\u001b[0m\u001b[0;34m(\u001b[0m\u001b[0mself\u001b[0m\u001b[0;34m)\u001b[0m\u001b[0;34m:\u001b[0m\u001b[0;34m\u001b[0m\u001b[0;34m\u001b[0m\u001b[0m\n",
            "\u001b[0;32m/usr/local/lib/python3.7/dist-packages/joblib/parallel.py\u001b[0m in \u001b[0;36m__call__\u001b[0;34m(self)\u001b[0m\n\u001b[1;32m    261\u001b[0m         \u001b[0;32mwith\u001b[0m \u001b[0mparallel_backend\u001b[0m\u001b[0;34m(\u001b[0m\u001b[0mself\u001b[0m\u001b[0;34m.\u001b[0m\u001b[0m_backend\u001b[0m\u001b[0;34m,\u001b[0m \u001b[0mn_jobs\u001b[0m\u001b[0;34m=\u001b[0m\u001b[0mself\u001b[0m\u001b[0;34m.\u001b[0m\u001b[0m_n_jobs\u001b[0m\u001b[0;34m)\u001b[0m\u001b[0;34m:\u001b[0m\u001b[0;34m\u001b[0m\u001b[0;34m\u001b[0m\u001b[0m\n\u001b[1;32m    262\u001b[0m             return [func(*args, **kwargs)\n\u001b[0;32m--> 263\u001b[0;31m                     for func, args, kwargs in self.items]\n\u001b[0m\u001b[1;32m    264\u001b[0m \u001b[0;34m\u001b[0m\u001b[0m\n\u001b[1;32m    265\u001b[0m     \u001b[0;32mdef\u001b[0m \u001b[0m__reduce__\u001b[0m\u001b[0;34m(\u001b[0m\u001b[0mself\u001b[0m\u001b[0;34m)\u001b[0m\u001b[0;34m:\u001b[0m\u001b[0;34m\u001b[0m\u001b[0;34m\u001b[0m\u001b[0m\n",
            "\u001b[0;32m/usr/local/lib/python3.7/dist-packages/joblib/parallel.py\u001b[0m in \u001b[0;36m<listcomp>\u001b[0;34m(.0)\u001b[0m\n\u001b[1;32m    261\u001b[0m         \u001b[0;32mwith\u001b[0m \u001b[0mparallel_backend\u001b[0m\u001b[0;34m(\u001b[0m\u001b[0mself\u001b[0m\u001b[0;34m.\u001b[0m\u001b[0m_backend\u001b[0m\u001b[0;34m,\u001b[0m \u001b[0mn_jobs\u001b[0m\u001b[0;34m=\u001b[0m\u001b[0mself\u001b[0m\u001b[0;34m.\u001b[0m\u001b[0m_n_jobs\u001b[0m\u001b[0;34m)\u001b[0m\u001b[0;34m:\u001b[0m\u001b[0;34m\u001b[0m\u001b[0;34m\u001b[0m\u001b[0m\n\u001b[1;32m    262\u001b[0m             return [func(*args, **kwargs)\n\u001b[0;32m--> 263\u001b[0;31m                     for func, args, kwargs in self.items]\n\u001b[0m\u001b[1;32m    264\u001b[0m \u001b[0;34m\u001b[0m\u001b[0m\n\u001b[1;32m    265\u001b[0m     \u001b[0;32mdef\u001b[0m \u001b[0m__reduce__\u001b[0m\u001b[0;34m(\u001b[0m\u001b[0mself\u001b[0m\u001b[0;34m)\u001b[0m\u001b[0;34m:\u001b[0m\u001b[0;34m\u001b[0m\u001b[0;34m\u001b[0m\u001b[0m\n",
            "\u001b[0;32m/usr/local/lib/python3.7/dist-packages/sklearn/ensemble/_forest.py\u001b[0m in \u001b[0;36m_parallel_build_trees\u001b[0;34m(tree, forest, X, y, sample_weight, tree_idx, n_trees, verbose, class_weight, n_samples_bootstrap)\u001b[0m\n\u001b[1;32m    163\u001b[0m             \u001b[0mcurr_sample_weight\u001b[0m \u001b[0;34m*=\u001b[0m \u001b[0mcompute_sample_weight\u001b[0m\u001b[0;34m(\u001b[0m\u001b[0;34m'balanced'\u001b[0m\u001b[0;34m,\u001b[0m \u001b[0my\u001b[0m\u001b[0;34m,\u001b[0m \u001b[0mindices\u001b[0m\u001b[0;34m)\u001b[0m\u001b[0;34m\u001b[0m\u001b[0;34m\u001b[0m\u001b[0m\n\u001b[1;32m    164\u001b[0m \u001b[0;34m\u001b[0m\u001b[0m\n\u001b[0;32m--> 165\u001b[0;31m         \u001b[0mtree\u001b[0m\u001b[0;34m.\u001b[0m\u001b[0mfit\u001b[0m\u001b[0;34m(\u001b[0m\u001b[0mX\u001b[0m\u001b[0;34m,\u001b[0m \u001b[0my\u001b[0m\u001b[0;34m,\u001b[0m \u001b[0msample_weight\u001b[0m\u001b[0;34m=\u001b[0m\u001b[0mcurr_sample_weight\u001b[0m\u001b[0;34m,\u001b[0m \u001b[0mcheck_input\u001b[0m\u001b[0;34m=\u001b[0m\u001b[0;32mFalse\u001b[0m\u001b[0;34m)\u001b[0m\u001b[0;34m\u001b[0m\u001b[0;34m\u001b[0m\u001b[0m\n\u001b[0m\u001b[1;32m    166\u001b[0m     \u001b[0;32melse\u001b[0m\u001b[0;34m:\u001b[0m\u001b[0;34m\u001b[0m\u001b[0;34m\u001b[0m\u001b[0m\n\u001b[1;32m    167\u001b[0m         \u001b[0mtree\u001b[0m\u001b[0;34m.\u001b[0m\u001b[0mfit\u001b[0m\u001b[0;34m(\u001b[0m\u001b[0mX\u001b[0m\u001b[0;34m,\u001b[0m \u001b[0my\u001b[0m\u001b[0;34m,\u001b[0m \u001b[0msample_weight\u001b[0m\u001b[0;34m=\u001b[0m\u001b[0msample_weight\u001b[0m\u001b[0;34m,\u001b[0m \u001b[0mcheck_input\u001b[0m\u001b[0;34m=\u001b[0m\u001b[0;32mFalse\u001b[0m\u001b[0;34m)\u001b[0m\u001b[0;34m\u001b[0m\u001b[0;34m\u001b[0m\u001b[0m\n",
            "\u001b[0;32m/usr/local/lib/python3.7/dist-packages/sklearn/tree/_classes.py\u001b[0m in \u001b[0;36mfit\u001b[0;34m(self, X, y, sample_weight, check_input, X_idx_sorted)\u001b[0m\n\u001b[1;32m   1223\u001b[0m             \u001b[0msample_weight\u001b[0m\u001b[0;34m=\u001b[0m\u001b[0msample_weight\u001b[0m\u001b[0;34m,\u001b[0m\u001b[0;34m\u001b[0m\u001b[0;34m\u001b[0m\u001b[0m\n\u001b[1;32m   1224\u001b[0m             \u001b[0mcheck_input\u001b[0m\u001b[0;34m=\u001b[0m\u001b[0mcheck_input\u001b[0m\u001b[0;34m,\u001b[0m\u001b[0;34m\u001b[0m\u001b[0;34m\u001b[0m\u001b[0m\n\u001b[0;32m-> 1225\u001b[0;31m             X_idx_sorted=X_idx_sorted)\n\u001b[0m\u001b[1;32m   1226\u001b[0m         \u001b[0;32mreturn\u001b[0m \u001b[0mself\u001b[0m\u001b[0;34m\u001b[0m\u001b[0;34m\u001b[0m\u001b[0m\n\u001b[1;32m   1227\u001b[0m \u001b[0;34m\u001b[0m\u001b[0m\n",
            "\u001b[0;32m/usr/local/lib/python3.7/dist-packages/sklearn/tree/_classes.py\u001b[0m in \u001b[0;36mfit\u001b[0;34m(self, X, y, sample_weight, check_input, X_idx_sorted)\u001b[0m\n\u001b[1;32m    365\u001b[0m                                            min_impurity_split)\n\u001b[1;32m    366\u001b[0m \u001b[0;34m\u001b[0m\u001b[0m\n\u001b[0;32m--> 367\u001b[0;31m         \u001b[0mbuilder\u001b[0m\u001b[0;34m.\u001b[0m\u001b[0mbuild\u001b[0m\u001b[0;34m(\u001b[0m\u001b[0mself\u001b[0m\u001b[0;34m.\u001b[0m\u001b[0mtree_\u001b[0m\u001b[0;34m,\u001b[0m \u001b[0mX\u001b[0m\u001b[0;34m,\u001b[0m \u001b[0my\u001b[0m\u001b[0;34m,\u001b[0m \u001b[0msample_weight\u001b[0m\u001b[0;34m,\u001b[0m \u001b[0mX_idx_sorted\u001b[0m\u001b[0;34m)\u001b[0m\u001b[0;34m\u001b[0m\u001b[0;34m\u001b[0m\u001b[0m\n\u001b[0m\u001b[1;32m    368\u001b[0m \u001b[0;34m\u001b[0m\u001b[0m\n\u001b[1;32m    369\u001b[0m         \u001b[0;32mif\u001b[0m \u001b[0mself\u001b[0m\u001b[0;34m.\u001b[0m\u001b[0mn_outputs_\u001b[0m \u001b[0;34m==\u001b[0m \u001b[0;36m1\u001b[0m \u001b[0;32mand\u001b[0m \u001b[0mis_classifier\u001b[0m\u001b[0;34m(\u001b[0m\u001b[0mself\u001b[0m\u001b[0;34m)\u001b[0m\u001b[0;34m:\u001b[0m\u001b[0;34m\u001b[0m\u001b[0;34m\u001b[0m\u001b[0m\n",
            "\u001b[0;31mKeyboardInterrupt\u001b[0m: "
          ]
        }
      ]
    },
    {
      "cell_type": "code",
      "metadata": {
        "id": "E7OMQzHgdfYp"
      },
      "source": [
        "# estimator = RandomForestRegressor(n_estimators=200, min_samples_split=3)\n",
        "# selector = RFE(estimator, step=5, n_features_to_select=85, verbose=2)\n",
        "# selector = selector.fit(X_data_2, y_data.ravel())\n",
        "# X_data_3 = selector.transform(X_data_2)\n",
        "# X_test_3 = selector.transform(X_test_2)"
      ],
      "execution_count": null,
      "outputs": []
    },
    {
      "cell_type": "markdown",
      "metadata": {
        "id": "dC3iZFJ7dfYp"
      },
      "source": [
        "## 4.4 Using RFECV"
      ]
    },
    {
      "cell_type": "code",
      "metadata": {
        "id": "yKnAaHDydfYq"
      },
      "source": [
        "selector = SelectKBest(score_func=chi2, k=400)\n",
        "selector = selector.fit(X_data_2.abs(), y = y_data)\n",
        "X_data_2_c = selector.transform(X_data_2)\n",
        "X_test_2_c = selector.transform(X_test_2)\n",
        "\n",
        "estimator = RandomForestRegressor(n_estimators=320, min_samples_split=3)\n",
        "selector = RFECV(estimator, step=10, cv=5, n_features_to_select=85, verbose=2)\n",
        "selector = selector.fit(X_data_2_c, y_data.ravel())\n",
        "X_data_3 = selector.transform(X_data_2_c)\n",
        "X_test_3 = selector.transform(X_test_2_c)"
      ],
      "execution_count": null,
      "outputs": []
    },
    {
      "cell_type": "markdown",
      "metadata": {
        "id": "pxlxT0E1dfYq"
      },
      "source": [
        "# 5. Model Selection"
      ]
    },
    {
      "cell_type": "code",
      "metadata": {
        "id": "yMwnxwaidfYq",
        "colab": {
          "base_uri": "https://localhost:8080/"
        },
        "outputId": "da110516-277e-4ddf-91f1-2b7748b2d2f3"
      },
      "source": [
        "X_train, X_valid, y_train, y_valid = train_test_split(X_data_3, y_data, test_size=0.2, random_state=1)\n",
        "print(\"X_train shape: \", X_train.shape)"
      ],
      "execution_count": 46,
      "outputs": [
        {
          "output_type": "stream",
          "name": "stdout",
          "text": [
            "X_train shape:  (920, 105)\n"
          ]
        }
      ]
    },
    {
      "cell_type": "markdown",
      "metadata": {
        "id": "hzzNaenaPY_U"
      },
      "source": [
        "## XGB"
      ]
    },
    {
      "cell_type": "code",
      "metadata": {
        "colab": {
          "base_uri": "https://localhost:8080/"
        },
        "id": "f6-FkHiq2JnL",
        "outputId": "29cdd8e5-222d-4a62-a230-0e7b38230272"
      },
      "source": [
        "XGB_reg_fit = XGB_reg.fit(X_train, y_train)\n",
        "y_pred = XGB_reg.predict(X_valid)\n",
        "r_score = r2_score(y_valid, y_pred)\n",
        "print(\"Validation score:\", r_score)"
      ],
      "execution_count": 57,
      "outputs": [
        {
          "output_type": "stream",
          "name": "stdout",
          "text": [
            "Validation score: 0.5837417724034193\n"
          ]
        }
      ]
    },
    {
      "cell_type": "markdown",
      "metadata": {
        "id": "lMVwbmTRPc4-"
      },
      "source": [
        "## ANN"
      ]
    },
    {
      "cell_type": "code",
      "metadata": {
        "id": "xDunWMYpPfVI"
      },
      "source": [
        "import tensorflow as tf\n",
        "from tensorflow import keras\n",
        "from tensorflow.keras import regularizers"
      ],
      "execution_count": 47,
      "outputs": []
    },
    {
      "cell_type": "code",
      "metadata": {
        "id": "ORyrtHMjPgca"
      },
      "source": [
        "firANN = keras.models.Sequential()\n",
        "firANN.add(keras.layers.Dense(16,input_dim=X_train.shape[1], kernel_regularizer = regularizers.l2(1), kernel_initializer='RandomUniform'))\n",
        "firANN.add(keras.layers.Dense(16, activation = \"relu\",\n",
        "               kernel_initializer='he_uniform',\n",
        "               kernel_regularizer=regularizers.l1_l2(l1=1e-5, l2=1e-4),\n",
        "               bias_regularizer=regularizers.l2(1e-4),\n",
        "               activity_regularizer=regularizers.l2(1e-5)\n",
        "               ))\n",
        "firANN.add(keras.layers.Dropout(0.2))\n",
        "firANN.add(keras.layers.Dense(16, activation = \"relu\",\n",
        "               kernel_initializer='he_uniform',\n",
        "               kernel_regularizer=regularizers.l1_l2(l1=1e-5, l2=1e-4),\n",
        "               bias_regularizer=regularizers.l2(1e-4),\n",
        "               activity_regularizer=regularizers.l2(1e-5)\n",
        "               ))\n",
        "firANN.add(keras.layers.Dropout(0.2))\n",
        "firANN.add(keras.layers.Dense(16, activation = \"relu\",\n",
        "               kernel_initializer='he_uniform',\n",
        "               kernel_regularizer=regularizers.l1_l2(l1=1e-5, l2=1e-4),\n",
        "               bias_regularizer=regularizers.l2(1e-4),\n",
        "               activity_regularizer=regularizers.l2(1e-5)\n",
        "               ))\n",
        "firANN.add(keras.layers.Dropout(0.2))\n",
        "firANN.add(keras.layers.Dense(1))\n"
      ],
      "execution_count": 53,
      "outputs": []
    },
    {
      "cell_type": "code",
      "metadata": {
        "colab": {
          "base_uri": "https://localhost:8080/",
          "height": 181
        },
        "id": "ejd-xbQdPnrp",
        "outputId": "bb07527e-3956-4859-9f26-8331bbb0d86b"
      },
      "source": [
        "firANN.compile(loss = \"mean_squared_error\",\n",
        "              optimizer = keras.optimizers.Adam(0.001), metrics=[coeff_determination])"
      ],
      "execution_count": 58,
      "outputs": [
        {
          "output_type": "error",
          "ename": "NameError",
          "evalue": "ignored",
          "traceback": [
            "\u001b[0;31m---------------------------------------------------------------------------\u001b[0m",
            "\u001b[0;31mNameError\u001b[0m                                 Traceback (most recent call last)",
            "\u001b[0;32m<ipython-input-58-33a0e2d0d75c>\u001b[0m in \u001b[0;36m<module>\u001b[0;34m()\u001b[0m\n\u001b[1;32m      1\u001b[0m firANN.compile(loss = \"mean_squared_error\",\n\u001b[0;32m----> 2\u001b[0;31m               optimizer = keras.optimizers.Adam(0.001), metrics=[coeff_determination])\n\u001b[0m",
            "\u001b[0;31mNameError\u001b[0m: name 'coeff_determination' is not defined"
          ]
        }
      ]
    },
    {
      "cell_type": "code",
      "metadata": {
        "id": "pz8y5gxJPoav"
      },
      "source": [
        ""
      ],
      "execution_count": null,
      "outputs": []
    },
    {
      "cell_type": "code",
      "metadata": {
        "colab": {
          "base_uri": "https://localhost:8080/"
        },
        "id": "TsXBu6YKPrhk",
        "outputId": "2aca1ac5-6570-4063-de2b-9390ff53bd18"
      },
      "source": [
        "early_stopping_cb = keras.callbacks.EarlyStopping(patience=4, restore_best_weights=True)\n",
        "history = firANN.fit(X_train, y_train, batch_size=32, epochs=30, \n",
        "                    validation_data=(X_valid, y_valid), \n",
        "                    callbacks=[early_stopping_cb])"
      ],
      "execution_count": 55,
      "outputs": [
        {
          "output_type": "stream",
          "name": "stdout",
          "text": [
            "Epoch 1/30\n",
            "29/29 [==============================] - 2s 17ms/step - loss: 5026.7637 - val_loss: 4695.7886\n",
            "Epoch 2/30\n",
            "29/29 [==============================] - 0s 8ms/step - loss: 4974.2646 - val_loss: 4607.6572\n",
            "Epoch 3/30\n",
            "29/29 [==============================] - 0s 8ms/step - loss: 4732.1206 - val_loss: 4058.9031\n",
            "Epoch 4/30\n",
            "29/29 [==============================] - 0s 8ms/step - loss: 3651.8994 - val_loss: 2467.2097\n",
            "Epoch 5/30\n",
            "29/29 [==============================] - 0s 8ms/step - loss: 2265.8308 - val_loss: 2049.9707\n",
            "Epoch 6/30\n",
            "29/29 [==============================] - 0s 8ms/step - loss: 1953.4274 - val_loss: 1832.1820\n",
            "Epoch 7/30\n",
            "29/29 [==============================] - 0s 9ms/step - loss: 1855.1940 - val_loss: 1558.4904\n",
            "Epoch 8/30\n",
            "29/29 [==============================] - 0s 10ms/step - loss: 1539.9625 - val_loss: 1276.9010\n",
            "Epoch 9/30\n",
            "29/29 [==============================] - 0s 8ms/step - loss: 1244.9579 - val_loss: 982.8246\n",
            "Epoch 10/30\n",
            "29/29 [==============================] - 0s 9ms/step - loss: 1018.9473 - val_loss: 749.4024\n",
            "Epoch 11/30\n",
            "29/29 [==============================] - 0s 9ms/step - loss: 907.5256 - val_loss: 526.2418\n",
            "Epoch 12/30\n",
            "29/29 [==============================] - 0s 9ms/step - loss: 753.4624 - val_loss: 382.4697\n",
            "Epoch 13/30\n",
            "29/29 [==============================] - 0s 8ms/step - loss: 626.5998 - val_loss: 307.7353\n",
            "Epoch 14/30\n",
            "29/29 [==============================] - 0s 8ms/step - loss: 580.3217 - val_loss: 250.5247\n",
            "Epoch 15/30\n",
            "29/29 [==============================] - 0s 9ms/step - loss: 569.9359 - val_loss: 222.5740\n",
            "Epoch 16/30\n",
            "29/29 [==============================] - 0s 8ms/step - loss: 541.6642 - val_loss: 177.3317\n",
            "Epoch 17/30\n",
            "29/29 [==============================] - 0s 8ms/step - loss: 493.8558 - val_loss: 174.1726\n",
            "Epoch 18/30\n",
            "29/29 [==============================] - 0s 10ms/step - loss: 495.8764 - val_loss: 157.2199\n",
            "Epoch 19/30\n",
            "29/29 [==============================] - 0s 9ms/step - loss: 513.3362 - val_loss: 138.7913\n",
            "Epoch 20/30\n",
            "29/29 [==============================] - 0s 9ms/step - loss: 501.0663 - val_loss: 122.7609\n",
            "Epoch 21/30\n",
            "29/29 [==============================] - 0s 9ms/step - loss: 443.3223 - val_loss: 137.0115\n",
            "Epoch 22/30\n",
            "29/29 [==============================] - 0s 10ms/step - loss: 440.9664 - val_loss: 127.8354\n",
            "Epoch 23/30\n",
            "29/29 [==============================] - 0s 10ms/step - loss: 424.9047 - val_loss: 108.3501\n",
            "Epoch 24/30\n",
            "29/29 [==============================] - 0s 9ms/step - loss: 416.2176 - val_loss: 107.0466\n",
            "Epoch 25/30\n",
            "29/29 [==============================] - 0s 8ms/step - loss: 440.3659 - val_loss: 107.4771\n",
            "Epoch 26/30\n",
            "29/29 [==============================] - 0s 10ms/step - loss: 397.1123 - val_loss: 100.1747\n",
            "Epoch 27/30\n",
            "29/29 [==============================] - 0s 8ms/step - loss: 418.4612 - val_loss: 104.4168\n",
            "Epoch 28/30\n",
            "29/29 [==============================] - 0s 8ms/step - loss: 419.6331 - val_loss: 110.9473\n",
            "Epoch 29/30\n",
            "29/29 [==============================] - 0s 8ms/step - loss: 377.6280 - val_loss: 136.5607\n",
            "Epoch 30/30\n",
            "29/29 [==============================] - 0s 9ms/step - loss: 376.0050 - val_loss: 107.7799\n"
          ]
        }
      ]
    },
    {
      "cell_type": "code",
      "metadata": {
        "id": "biFUuFOEZ5QK",
        "outputId": "be9ff53b-29b9-4d98-a810-2e72a94983d4",
        "colab": {
          "base_uri": "https://localhost:8080/",
          "height": 483
        }
      },
      "source": [
        "pd.DataFrame(history.history).plot(figsize=(12, 8))\n",
        "plt.grid(True)"
      ],
      "execution_count": 56,
      "outputs": [
        {
          "output_type": "display_data",
          "data": {
            "image/png": "[encoded data removed]",
            "text/plain": [
              "<Figure size 864x576 with 1 Axes>"
            ]
          },
          "metadata": {
            "needs_background": "light"
          }
        }
      ]
    },
    {
      "cell_type": "code",
      "metadata": {
        "id": "ZHHhn_0aaXSq",
        "outputId": "5d305314-2385-4f93-a323-48fdfa8e4040",
        "colab": {
          "base_uri": "https://localhost:8080/"
        }
      },
      "source": [
        "y_pred = firANN.predict(X_valid)\n",
        "r_score = r2_score(y_valid, y_pred)\n",
        "print(\"Validation score:\", r_score)"
      ],
      "execution_count": 57,
      "outputs": [
        {
          "output_type": "stream",
          "name": "stdout",
          "text": [
            "Validation score: 0.02620318052363435\n"
          ]
        }
      ]
    },
    {
      "cell_type": "markdown",
      "metadata": {
        "id": "XHIMBLLWdfYr"
      },
      "source": [
        "## 5.1 KernelRidgeRegression\n",
        "Not good at all. Best score ~0.2"
      ]
    },
    {
      "cell_type": "code",
      "metadata": {
        "id": "QU8Q7CETdfYr"
      },
      "source": [
        "# model = KernelRidge()\n",
        "# parameters = {'alpha':[0.01, 0.05, 0.1, 0.2, 0.5, 0.8, 1.0, 3.0, 5.0], 'kernel':['chi2', 'rbf', 'sigmoid', 'laplacian'], 'gamma':[0.1, 1, 5, 10]}\n",
        "# grid = GridSearchCV(model, parameters, scoring='r2', cv=5, verbose=3, n_jobs=-1)\n",
        "# grid.fit(X_train, y_train.ravel())\n",
        "# print(grid.best_estimator_)\n",
        "# print(grid.best_score_)\n",
        "\n",
        "# y_pred = grid.predict(X_valid)\n",
        "# r_score = r2_score(y_valid, y_pred)\n",
        "# print(\"Validation score:\", r_score)"
      ],
      "execution_count": null,
      "outputs": []
    },
    {
      "cell_type": "markdown",
      "metadata": {
        "id": "-FPMn0jOdfYr"
      },
      "source": [
        "## 5.2 ExtraTreesRegression"
      ]
    },
    {
      "cell_type": "code",
      "metadata": {
        "id": "zthBRwH_dfYs"
      },
      "source": [
        "# model = ExtraTreesRegressor()\n",
        "# parameters = {'n_estimators':[100, 125, 150, 175, 200, 300, 325, 350,400], 'min_samples_split':[2, 3, 4]}\n",
        "# grid = GridSearchCV(model, parameters, scoring='r2', cv=5, verbose=3, n_jobs=-1)\n",
        "# grid.fit(X_train, y_train)\n",
        "# print(grid.best_estimator_)\n",
        "# print(grid.best_score_)\n",
        "\n",
        "# y_pred = grid.predict(X_valid)\n",
        "# r_score = r2_score(y_valid, y_pred)\n",
        "# print(\"Validation score:\", r_score)"
      ],
      "execution_count": null,
      "outputs": []
    },
    {
      "cell_type": "markdown",
      "metadata": {
        "id": "RQGOgd3OdfYs"
      },
      "source": [
        "## 5.3 RandomForestRegression"
      ]
    },
    {
      "cell_type": "code",
      "metadata": {
        "id": "xSshk4rtdfYs",
        "colab": {
          "base_uri": "https://localhost:8080/",
          "height": 406
        },
        "outputId": "bef9a9b3-4f09-4ba4-9086-e16a6aacc9d3"
      },
      "source": [
        "model = RandomForestRegressor()\n",
        "parameters = {'n_estimators':[200, 300, 325, 350, 400, 430, 450, 500], 'min_samples_split':[2, 3, 4, 5]}\n",
        "grid = GridSearchCV(model, parameters, scoring='r2', verbose=1, cv=5, n_jobs=-1)\n",
        "grid.fit(X_train, y_train.ravel())\n",
        "print(grid.best_estimator_)\n",
        "print(grid.best_score_)\n",
        "\n",
        "y_pred = grid.predict(X_valid)\n",
        "r_score = r2_score(y_valid, y_pred)\n",
        "print(\"Validation score:\", r_score)\n"
      ],
      "execution_count": 35,
      "outputs": [
        {
          "output_type": "stream",
          "name": "stdout",
          "text": [
            "Fitting 5 folds for each of 32 candidates, totalling 160 fits\n"
          ]
        },
        {
          "output_type": "stream",
          "name": "stderr",
          "text": [
            "[Parallel(n_jobs=-1)]: Using backend LokyBackend with 2 concurrent workers.\n"
          ]
        },
        {
          "output_type": "error",
          "ename": "KeyboardInterrupt",
          "evalue": "ignored",
          "traceback": [
            "\u001b[0;31m---------------------------------------------------------------------------\u001b[0m",
            "\u001b[0;31mKeyboardInterrupt\u001b[0m                         Traceback (most recent call last)",
            "\u001b[0;32m<ipython-input-35-4380346b3860>\u001b[0m in \u001b[0;36m<module>\u001b[0;34m()\u001b[0m\n\u001b[1;32m      2\u001b[0m \u001b[0mparameters\u001b[0m \u001b[0;34m=\u001b[0m \u001b[0;34m{\u001b[0m\u001b[0;34m'n_estimators'\u001b[0m\u001b[0;34m:\u001b[0m\u001b[0;34m[\u001b[0m\u001b[0;36m200\u001b[0m\u001b[0;34m,\u001b[0m \u001b[0;36m300\u001b[0m\u001b[0;34m,\u001b[0m \u001b[0;36m325\u001b[0m\u001b[0;34m,\u001b[0m \u001b[0;36m350\u001b[0m\u001b[0;34m,\u001b[0m \u001b[0;36m400\u001b[0m\u001b[0;34m,\u001b[0m \u001b[0;36m430\u001b[0m\u001b[0;34m,\u001b[0m \u001b[0;36m450\u001b[0m\u001b[0;34m,\u001b[0m \u001b[0;36m500\u001b[0m\u001b[0;34m]\u001b[0m\u001b[0;34m,\u001b[0m \u001b[0;34m'min_samples_split'\u001b[0m\u001b[0;34m:\u001b[0m\u001b[0;34m[\u001b[0m\u001b[0;36m2\u001b[0m\u001b[0;34m,\u001b[0m \u001b[0;36m3\u001b[0m\u001b[0;34m,\u001b[0m \u001b[0;36m4\u001b[0m\u001b[0;34m,\u001b[0m \u001b[0;36m5\u001b[0m\u001b[0;34m]\u001b[0m\u001b[0;34m}\u001b[0m\u001b[0;34m\u001b[0m\u001b[0;34m\u001b[0m\u001b[0m\n\u001b[1;32m      3\u001b[0m \u001b[0mgrid\u001b[0m \u001b[0;34m=\u001b[0m \u001b[0mGridSearchCV\u001b[0m\u001b[0;34m(\u001b[0m\u001b[0mmodel\u001b[0m\u001b[0;34m,\u001b[0m \u001b[0mparameters\u001b[0m\u001b[0;34m,\u001b[0m \u001b[0mscoring\u001b[0m\u001b[0;34m=\u001b[0m\u001b[0;34m'r2'\u001b[0m\u001b[0;34m,\u001b[0m \u001b[0mverbose\u001b[0m\u001b[0;34m=\u001b[0m\u001b[0;36m1\u001b[0m\u001b[0;34m,\u001b[0m \u001b[0mcv\u001b[0m\u001b[0;34m=\u001b[0m\u001b[0;36m5\u001b[0m\u001b[0;34m,\u001b[0m \u001b[0mn_jobs\u001b[0m\u001b[0;34m=\u001b[0m\u001b[0;34m-\u001b[0m\u001b[0;36m1\u001b[0m\u001b[0;34m)\u001b[0m\u001b[0;34m\u001b[0m\u001b[0;34m\u001b[0m\u001b[0m\n\u001b[0;32m----> 4\u001b[0;31m \u001b[0mgrid\u001b[0m\u001b[0;34m.\u001b[0m\u001b[0mfit\u001b[0m\u001b[0;34m(\u001b[0m\u001b[0mX_train\u001b[0m\u001b[0;34m,\u001b[0m \u001b[0my_train\u001b[0m\u001b[0;34m.\u001b[0m\u001b[0mravel\u001b[0m\u001b[0;34m(\u001b[0m\u001b[0;34m)\u001b[0m\u001b[0;34m)\u001b[0m\u001b[0;34m\u001b[0m\u001b[0;34m\u001b[0m\u001b[0m\n\u001b[0m\u001b[1;32m      5\u001b[0m \u001b[0mprint\u001b[0m\u001b[0;34m(\u001b[0m\u001b[0mgrid\u001b[0m\u001b[0;34m.\u001b[0m\u001b[0mbest_estimator_\u001b[0m\u001b[0;34m)\u001b[0m\u001b[0;34m\u001b[0m\u001b[0;34m\u001b[0m\u001b[0m\n\u001b[1;32m      6\u001b[0m \u001b[0mprint\u001b[0m\u001b[0;34m(\u001b[0m\u001b[0mgrid\u001b[0m\u001b[0;34m.\u001b[0m\u001b[0mbest_score_\u001b[0m\u001b[0;34m)\u001b[0m\u001b[0;34m\u001b[0m\u001b[0;34m\u001b[0m\u001b[0m\n",
            "\u001b[0;32m/usr/local/lib/python3.7/dist-packages/sklearn/model_selection/_search.py\u001b[0m in \u001b[0;36mfit\u001b[0;34m(self, X, y, groups, **fit_params)\u001b[0m\n\u001b[1;32m    708\u001b[0m                 \u001b[0;32mreturn\u001b[0m \u001b[0mresults\u001b[0m\u001b[0;34m\u001b[0m\u001b[0;34m\u001b[0m\u001b[0m\n\u001b[1;32m    709\u001b[0m \u001b[0;34m\u001b[0m\u001b[0m\n\u001b[0;32m--> 710\u001b[0;31m             \u001b[0mself\u001b[0m\u001b[0;34m.\u001b[0m\u001b[0m_run_search\u001b[0m\u001b[0;34m(\u001b[0m\u001b[0mevaluate_candidates\u001b[0m\u001b[0;34m)\u001b[0m\u001b[0;34m\u001b[0m\u001b[0;34m\u001b[0m\u001b[0m\n\u001b[0m\u001b[1;32m    711\u001b[0m \u001b[0;34m\u001b[0m\u001b[0m\n\u001b[1;32m    712\u001b[0m         \u001b[0;31m# For multi-metric evaluation, store the best_index_, best_params_ and\u001b[0m\u001b[0;34m\u001b[0m\u001b[0;34m\u001b[0m\u001b[0;34m\u001b[0m\u001b[0m\n",
            "\u001b[0;32m/usr/local/lib/python3.7/dist-packages/sklearn/model_selection/_search.py\u001b[0m in \u001b[0;36m_run_search\u001b[0;34m(self, evaluate_candidates)\u001b[0m\n\u001b[1;32m   1149\u001b[0m     \u001b[0;32mdef\u001b[0m \u001b[0m_run_search\u001b[0m\u001b[0;34m(\u001b[0m\u001b[0mself\u001b[0m\u001b[0;34m,\u001b[0m \u001b[0mevaluate_candidates\u001b[0m\u001b[0;34m)\u001b[0m\u001b[0;34m:\u001b[0m\u001b[0;34m\u001b[0m\u001b[0;34m\u001b[0m\u001b[0m\n\u001b[1;32m   1150\u001b[0m         \u001b[0;34m\"\"\"Search all candidates in param_grid\"\"\"\u001b[0m\u001b[0;34m\u001b[0m\u001b[0;34m\u001b[0m\u001b[0m\n\u001b[0;32m-> 1151\u001b[0;31m         \u001b[0mevaluate_candidates\u001b[0m\u001b[0;34m(\u001b[0m\u001b[0mParameterGrid\u001b[0m\u001b[0;34m(\u001b[0m\u001b[0mself\u001b[0m\u001b[0;34m.\u001b[0m\u001b[0mparam_grid\u001b[0m\u001b[0;34m)\u001b[0m\u001b[0;34m)\u001b[0m\u001b[0;34m\u001b[0m\u001b[0;34m\u001b[0m\u001b[0m\n\u001b[0m\u001b[1;32m   1152\u001b[0m \u001b[0;34m\u001b[0m\u001b[0m\n\u001b[1;32m   1153\u001b[0m \u001b[0;34m\u001b[0m\u001b[0m\n",
            "\u001b[0;32m/usr/local/lib/python3.7/dist-packages/sklearn/model_selection/_search.py\u001b[0m in \u001b[0;36mevaluate_candidates\u001b[0;34m(candidate_params)\u001b[0m\n\u001b[1;32m    687\u001b[0m                                \u001b[0;32mfor\u001b[0m \u001b[0mparameters\u001b[0m\u001b[0;34m,\u001b[0m \u001b[0;34m(\u001b[0m\u001b[0mtrain\u001b[0m\u001b[0;34m,\u001b[0m \u001b[0mtest\u001b[0m\u001b[0;34m)\u001b[0m\u001b[0;34m\u001b[0m\u001b[0;34m\u001b[0m\u001b[0m\n\u001b[1;32m    688\u001b[0m                                in product(candidate_params,\n\u001b[0;32m--> 689\u001b[0;31m                                           cv.split(X, y, groups)))\n\u001b[0m\u001b[1;32m    690\u001b[0m \u001b[0;34m\u001b[0m\u001b[0m\n\u001b[1;32m    691\u001b[0m                 \u001b[0;32mif\u001b[0m \u001b[0mlen\u001b[0m\u001b[0;34m(\u001b[0m\u001b[0mout\u001b[0m\u001b[0;34m)\u001b[0m \u001b[0;34m<\u001b[0m \u001b[0;36m1\u001b[0m\u001b[0;34m:\u001b[0m\u001b[0;34m\u001b[0m\u001b[0;34m\u001b[0m\u001b[0m\n",
            "\u001b[0;32m/usr/local/lib/python3.7/dist-packages/joblib/parallel.py\u001b[0m in \u001b[0;36m__call__\u001b[0;34m(self, iterable)\u001b[0m\n\u001b[1;32m   1054\u001b[0m \u001b[0;34m\u001b[0m\u001b[0m\n\u001b[1;32m   1055\u001b[0m             \u001b[0;32mwith\u001b[0m \u001b[0mself\u001b[0m\u001b[0;34m.\u001b[0m\u001b[0m_backend\u001b[0m\u001b[0;34m.\u001b[0m\u001b[0mretrieval_context\u001b[0m\u001b[0;34m(\u001b[0m\u001b[0;34m)\u001b[0m\u001b[0;34m:\u001b[0m\u001b[0;34m\u001b[0m\u001b[0;34m\u001b[0m\u001b[0m\n\u001b[0;32m-> 1056\u001b[0;31m                 \u001b[0mself\u001b[0m\u001b[0;34m.\u001b[0m\u001b[0mretrieve\u001b[0m\u001b[0;34m(\u001b[0m\u001b[0;34m)\u001b[0m\u001b[0;34m\u001b[0m\u001b[0;34m\u001b[0m\u001b[0m\n\u001b[0m\u001b[1;32m   1057\u001b[0m             \u001b[0;31m# Make sure that we get a last message telling us we are done\u001b[0m\u001b[0;34m\u001b[0m\u001b[0;34m\u001b[0m\u001b[0;34m\u001b[0m\u001b[0m\n\u001b[1;32m   1058\u001b[0m             \u001b[0melapsed_time\u001b[0m \u001b[0;34m=\u001b[0m \u001b[0mtime\u001b[0m\u001b[0;34m.\u001b[0m\u001b[0mtime\u001b[0m\u001b[0;34m(\u001b[0m\u001b[0;34m)\u001b[0m \u001b[0;34m-\u001b[0m \u001b[0mself\u001b[0m\u001b[0;34m.\u001b[0m\u001b[0m_start_time\u001b[0m\u001b[0;34m\u001b[0m\u001b[0;34m\u001b[0m\u001b[0m\n",
            "\u001b[0;32m/usr/local/lib/python3.7/dist-packages/joblib/parallel.py\u001b[0m in \u001b[0;36mretrieve\u001b[0;34m(self)\u001b[0m\n\u001b[1;32m    933\u001b[0m             \u001b[0;32mtry\u001b[0m\u001b[0;34m:\u001b[0m\u001b[0;34m\u001b[0m\u001b[0;34m\u001b[0m\u001b[0m\n\u001b[1;32m    934\u001b[0m                 \u001b[0;32mif\u001b[0m \u001b[0mgetattr\u001b[0m\u001b[0;34m(\u001b[0m\u001b[0mself\u001b[0m\u001b[0;34m.\u001b[0m\u001b[0m_backend\u001b[0m\u001b[0;34m,\u001b[0m \u001b[0;34m'supports_timeout'\u001b[0m\u001b[0;34m,\u001b[0m \u001b[0;32mFalse\u001b[0m\u001b[0;34m)\u001b[0m\u001b[0;34m:\u001b[0m\u001b[0;34m\u001b[0m\u001b[0;34m\u001b[0m\u001b[0m\n\u001b[0;32m--> 935\u001b[0;31m                     \u001b[0mself\u001b[0m\u001b[0;34m.\u001b[0m\u001b[0m_output\u001b[0m\u001b[0;34m.\u001b[0m\u001b[0mextend\u001b[0m\u001b[0;34m(\u001b[0m\u001b[0mjob\u001b[0m\u001b[0;34m.\u001b[0m\u001b[0mget\u001b[0m\u001b[0;34m(\u001b[0m\u001b[0mtimeout\u001b[0m\u001b[0;34m=\u001b[0m\u001b[0mself\u001b[0m\u001b[0;34m.\u001b[0m\u001b[0mtimeout\u001b[0m\u001b[0;34m)\u001b[0m\u001b[0;34m)\u001b[0m\u001b[0;34m\u001b[0m\u001b[0;34m\u001b[0m\u001b[0m\n\u001b[0m\u001b[1;32m    936\u001b[0m                 \u001b[0;32melse\u001b[0m\u001b[0;34m:\u001b[0m\u001b[0;34m\u001b[0m\u001b[0;34m\u001b[0m\u001b[0m\n\u001b[1;32m    937\u001b[0m                     \u001b[0mself\u001b[0m\u001b[0;34m.\u001b[0m\u001b[0m_output\u001b[0m\u001b[0;34m.\u001b[0m\u001b[0mextend\u001b[0m\u001b[0;34m(\u001b[0m\u001b[0mjob\u001b[0m\u001b[0;34m.\u001b[0m\u001b[0mget\u001b[0m\u001b[0;34m(\u001b[0m\u001b[0;34m)\u001b[0m\u001b[0;34m)\u001b[0m\u001b[0;34m\u001b[0m\u001b[0;34m\u001b[0m\u001b[0m\n",
            "\u001b[0;32m/usr/local/lib/python3.7/dist-packages/joblib/_parallel_backends.py\u001b[0m in \u001b[0;36mwrap_future_result\u001b[0;34m(future, timeout)\u001b[0m\n\u001b[1;32m    540\u001b[0m         AsyncResults.get from multiprocessing.\"\"\"\n\u001b[1;32m    541\u001b[0m         \u001b[0;32mtry\u001b[0m\u001b[0;34m:\u001b[0m\u001b[0;34m\u001b[0m\u001b[0;34m\u001b[0m\u001b[0m\n\u001b[0;32m--> 542\u001b[0;31m             \u001b[0;32mreturn\u001b[0m \u001b[0mfuture\u001b[0m\u001b[0;34m.\u001b[0m\u001b[0mresult\u001b[0m\u001b[0;34m(\u001b[0m\u001b[0mtimeout\u001b[0m\u001b[0;34m=\u001b[0m\u001b[0mtimeout\u001b[0m\u001b[0;34m)\u001b[0m\u001b[0;34m\u001b[0m\u001b[0;34m\u001b[0m\u001b[0m\n\u001b[0m\u001b[1;32m    543\u001b[0m         \u001b[0;32mexcept\u001b[0m \u001b[0mCfTimeoutError\u001b[0m \u001b[0;32mas\u001b[0m \u001b[0me\u001b[0m\u001b[0;34m:\u001b[0m\u001b[0;34m\u001b[0m\u001b[0;34m\u001b[0m\u001b[0m\n\u001b[1;32m    544\u001b[0m             \u001b[0;32mraise\u001b[0m \u001b[0mTimeoutError\u001b[0m \u001b[0;32mfrom\u001b[0m \u001b[0me\u001b[0m\u001b[0;34m\u001b[0m\u001b[0;34m\u001b[0m\u001b[0m\n",
            "\u001b[0;32m/usr/lib/python3.7/concurrent/futures/_base.py\u001b[0m in \u001b[0;36mresult\u001b[0;34m(self, timeout)\u001b[0m\n\u001b[1;32m    428\u001b[0m                 \u001b[0;32mreturn\u001b[0m \u001b[0mself\u001b[0m\u001b[0;34m.\u001b[0m\u001b[0m__get_result\u001b[0m\u001b[0;34m(\u001b[0m\u001b[0;34m)\u001b[0m\u001b[0;34m\u001b[0m\u001b[0;34m\u001b[0m\u001b[0m\n\u001b[1;32m    429\u001b[0m \u001b[0;34m\u001b[0m\u001b[0m\n\u001b[0;32m--> 430\u001b[0;31m             \u001b[0mself\u001b[0m\u001b[0;34m.\u001b[0m\u001b[0m_condition\u001b[0m\u001b[0;34m.\u001b[0m\u001b[0mwait\u001b[0m\u001b[0;34m(\u001b[0m\u001b[0mtimeout\u001b[0m\u001b[0;34m)\u001b[0m\u001b[0;34m\u001b[0m\u001b[0;34m\u001b[0m\u001b[0m\n\u001b[0m\u001b[1;32m    431\u001b[0m \u001b[0;34m\u001b[0m\u001b[0m\n\u001b[1;32m    432\u001b[0m             \u001b[0;32mif\u001b[0m \u001b[0mself\u001b[0m\u001b[0;34m.\u001b[0m\u001b[0m_state\u001b[0m \u001b[0;32min\u001b[0m \u001b[0;34m[\u001b[0m\u001b[0mCANCELLED\u001b[0m\u001b[0;34m,\u001b[0m \u001b[0mCANCELLED_AND_NOTIFIED\u001b[0m\u001b[0;34m]\u001b[0m\u001b[0;34m:\u001b[0m\u001b[0;34m\u001b[0m\u001b[0;34m\u001b[0m\u001b[0m\n",
            "\u001b[0;32m/usr/lib/python3.7/threading.py\u001b[0m in \u001b[0;36mwait\u001b[0;34m(self, timeout)\u001b[0m\n\u001b[1;32m    294\u001b[0m         \u001b[0;32mtry\u001b[0m\u001b[0;34m:\u001b[0m    \u001b[0;31m# restore state no matter what (e.g., KeyboardInterrupt)\u001b[0m\u001b[0;34m\u001b[0m\u001b[0;34m\u001b[0m\u001b[0m\n\u001b[1;32m    295\u001b[0m             \u001b[0;32mif\u001b[0m \u001b[0mtimeout\u001b[0m \u001b[0;32mis\u001b[0m \u001b[0;32mNone\u001b[0m\u001b[0;34m:\u001b[0m\u001b[0;34m\u001b[0m\u001b[0;34m\u001b[0m\u001b[0m\n\u001b[0;32m--> 296\u001b[0;31m                 \u001b[0mwaiter\u001b[0m\u001b[0;34m.\u001b[0m\u001b[0macquire\u001b[0m\u001b[0;34m(\u001b[0m\u001b[0;34m)\u001b[0m\u001b[0;34m\u001b[0m\u001b[0;34m\u001b[0m\u001b[0m\n\u001b[0m\u001b[1;32m    297\u001b[0m                 \u001b[0mgotit\u001b[0m \u001b[0;34m=\u001b[0m \u001b[0;32mTrue\u001b[0m\u001b[0;34m\u001b[0m\u001b[0;34m\u001b[0m\u001b[0m\n\u001b[1;32m    298\u001b[0m             \u001b[0;32melse\u001b[0m\u001b[0;34m:\u001b[0m\u001b[0;34m\u001b[0m\u001b[0;34m\u001b[0m\u001b[0m\n",
            "\u001b[0;31mKeyboardInterrupt\u001b[0m: "
          ]
        }
      ]
    },
    {
      "cell_type": "code",
      "metadata": {
        "id": "LdH88kvcdfYt"
      },
      "source": [
        "# estimator2 = grid.best_estimator_\n",
        "# selector2 = SelectFromModel(estimator2, max_features=150, threshold=\"mean\")\n",
        "# selector2 = selector2.fit(X_data_2, y_data.ravel())\n",
        "# X_data_3 = selector2.transform(X_data_2)\n",
        "# X_test_3 = selector2.transform(X_test_2)\n",
        "\n",
        "# X_train, X_valid, y_train, y_valid = train_test_split(X_data_3, y_data, test_size=0.2, random_state=1)\n",
        "# print(\"X_train shape: \", X_train.shape)\n",
        "\n",
        "# rfr = estimator2.fit(X_train, y_train.ravel())\n",
        "# y_pred = rfr.predict(X_valid)\n",
        "# r_score = r2_score(y_valid,y_pred)\n",
        "# print(\"Validation score:\", r_score)\n"
      ],
      "execution_count": null,
      "outputs": []
    },
    {
      "cell_type": "code",
      "metadata": {
        "id": "ZfalK3gldfYt"
      },
      "source": [
        "rfr = estimator.fit(X_train, y_train)\n",
        "y_pred = rfr.predict(X_valid)\n",
        "r_score = r2_score(y_valid,y_pred)\n",
        "print(\"Validation score:\", r_score)"
      ],
      "execution_count": null,
      "outputs": []
    },
    {
      "cell_type": "markdown",
      "metadata": {
        "id": "YJqkvh0ldfYt"
      },
      "source": [
        "## 5.4 SupportVectorRegression\n",
        "score ~ 0.5"
      ]
    },
    {
      "cell_type": "code",
      "metadata": {
        "id": "ZWnZvVUydfYu"
      },
      "source": [
        "# model = SVR()\n",
        "# parameters = {'kernel':['sigmoid', 'rbf', 'poly'], 'degree':[3, 4, 5, 7, 9], 'gamma':[0.005, 0.01, 0.05, 0.1, 1], 'C':[0.01, 0.05, 0.1, 1, 2]}\n",
        "# grid = GridSearchCV(model, parameters, scoring='r2', cv=5, verbose=1, n_jobs=8)\n",
        "# grid.fit(X_train, y_train.ravel())\n",
        "# print(grid.best_estimator_)\n",
        "# print(grid.best_score_)\n",
        "\n",
        "# y_pred = grid.predict(X_valid)\n",
        "# r_score = r2_score(y_valid, y_pred)\n",
        "# print(\"Validation score:\", r_score)"
      ],
      "execution_count": null,
      "outputs": []
    },
    {
      "cell_type": "markdown",
      "metadata": {
        "id": "xetUrkygdfYu"
      },
      "source": [
        "# 6. Export the prediction"
      ]
    },
    {
      "cell_type": "code",
      "metadata": {
        "id": "vORmNt23dfYu"
      },
      "source": [
        "# rfr = grid.best_estimator_\n",
        "rfr = XGB_reg.fit(X_data_3, y_data.ravel())\n",
        "\n",
        "y_test = rfr.predict(X_test_3)\n",
        "data_id = X_df['id']\n",
        "result = list(zip(data_id,y_test))\n",
        "result_table = pd.DataFrame(data = result, columns = ['id', 'y'])\n",
        "result_table.tail()\n",
        "result_table.to_csv('rfr7.csv', index = False)"
      ],
      "execution_count": 59,
      "outputs": []
    }
  ]
}