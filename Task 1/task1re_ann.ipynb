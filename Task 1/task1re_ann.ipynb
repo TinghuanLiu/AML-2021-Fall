{
  "nbformat": 4,
  "nbformat_minor": 0,
  "metadata": {
    "interpreter": {
      "hash": "11d2696aa44a2f0a370d91ea6517e7b889927749bc2cd16347a8ce4083dc1b7d"
    },
    "kernelspec": {
      "display_name": "Python 3.9.5 64-bit ('base': conda)",
      "name": "python3"
    },
    "language_info": {
      "codemirror_mode": {
        "name": "ipython",
        "version": 3
      },
      "file_extension": ".py",
      "mimetype": "text/x-python",
      "name": "python",
      "nbconvert_exporter": "python",
      "pygments_lexer": "ipython3",
      "version": "3.9.5"
    },
    "orig_nbformat": 4,
    "colab": {
      "name": "task1re.ipynb",
      "provenance": [],
      "collapsed_sections": []
    }
  },
  "cells": [
    {
      "cell_type": "code",
      "metadata": {
        "id": "ooW5LQ6rdfYK"
      },
      "source": [
        "import pandas as pd\n",
        "from sklearn.model_selection import train_test_split\n",
        "from sklearn.ensemble import IsolationForest\n",
        "from sklearn.feature_selection import SelectKBest, chi2, RFECV, RFE, SelectFromModel\n",
        "from sklearn.impute import KNNImputer\n",
        "from sklearn.preprocessing import MinMaxScaler, StandardScaler, RobustScaler\n",
        "from sklearn.kernel_ridge import KernelRidge\n",
        "from sklearn.ensemble import RandomForestRegressor\n",
        "from sklearn.ensemble import ExtraTreesRegressor\n",
        "from sklearn.svm import SVR\n",
        "from sklearn.model_selection import GridSearchCV\n",
        "from sklearn.metrics import r2_score"
      ],
      "execution_count": 78,
      "outputs": []
    },
    {
      "cell_type": "code",
      "metadata": {
        "colab": {
          "base_uri": "https://localhost:8080/"
        },
        "id": "ZpezHrtfk1Ah",
        "outputId": "e62a5548-df80-476a-d635-8b1c6cb2529a"
      },
      "source": [
        "from google.colab import drive\n",
        "drive.mount('/content/drive')"
      ],
      "execution_count": 79,
      "outputs": [
        {
          "output_type": "stream",
          "name": "stdout",
          "text": [
            "Drive already mounted at /content/drive; to attempt to forcibly remount, call drive.mount(\"/content/drive\", force_remount=True).\n"
          ]
        }
      ]
    },
    {
      "cell_type": "markdown",
      "metadata": {
        "id": "IALC37a0dfYS"
      },
      "source": [
        "# 1. Load training data and test data"
      ]
    },
    {
      "cell_type": "markdown",
      "metadata": {
        "id": "m5YoPW9ZdfYV"
      },
      "source": [
        "## 1.1 Read the csv files and get an overview of the data"
      ]
    },
    {
      "cell_type": "code",
      "metadata": {
        "id": "Nhh0V-nkdfYW",
        "colab": {
          "base_uri": "https://localhost:8080/",
          "height": 0
        },
        "outputId": "ff1c2a07-06d5-4165-d3a1-d0f6b3631129"
      },
      "source": [
        "X_df = pd.read_csv('/content/drive/MyDrive/AML/task1/X_train.csv') # df stands for dataframe\n",
        "y_df = pd.read_csv('/content/drive/MyDrive/AML/task1/y_train.csv')\n",
        "X_test_df = pd.read_csv('/content/drive/MyDrive/AML/task1/X_test.csv')\n",
        "print(\"Dimension of X: {}\".format(X_df.shape))\n",
        "print(\"Dimension of y: {}\".format(y_df.shape))\n",
        "X_df.tail()\n",
        "y_df.tail()"
      ],
      "execution_count": 80,
      "outputs": [
        {
          "output_type": "stream",
          "name": "stdout",
          "text": [
            "Dimension of X: (1212, 833)\n",
            "Dimension of y: (1212, 2)\n"
          ]
        },
        {
          "output_type": "execute_result",
          "data": {
            "text/html": [
              "<div>\n",
              "<style scoped>\n",
              "    .dataframe tbody tr th:only-of-type {\n",
              "        vertical-align: middle;\n",
              "    }\n",
              "\n",
              "    .dataframe tbody tr th {\n",
              "        vertical-align: top;\n",
              "    }\n",
              "\n",
              "    .dataframe thead th {\n",
              "        text-align: right;\n",
              "    }\n",
              "</style>\n",
              "<table border=\"1\" class=\"dataframe\">\n",
              "  <thead>\n",
              "    <tr style=\"text-align: right;\">\n",
              "      <th></th>\n",
              "      <th>id</th>\n",
              "      <th>y</th>\n",
              "    </tr>\n",
              "  </thead>\n",
              "  <tbody>\n",
              "    <tr>\n",
              "      <th>1207</th>\n",
              "      <td>1207.0</td>\n",
              "      <td>67.0</td>\n",
              "    </tr>\n",
              "    <tr>\n",
              "      <th>1208</th>\n",
              "      <td>1208.0</td>\n",
              "      <td>48.0</td>\n",
              "    </tr>\n",
              "    <tr>\n",
              "      <th>1209</th>\n",
              "      <td>1209.0</td>\n",
              "      <td>82.0</td>\n",
              "    </tr>\n",
              "    <tr>\n",
              "      <th>1210</th>\n",
              "      <td>1210.0</td>\n",
              "      <td>76.0</td>\n",
              "    </tr>\n",
              "    <tr>\n",
              "      <th>1211</th>\n",
              "      <td>1211.0</td>\n",
              "      <td>81.0</td>\n",
              "    </tr>\n",
              "  </tbody>\n",
              "</table>\n",
              "</div>"
            ],
            "text/plain": [
              "          id     y\n",
              "1207  1207.0  67.0\n",
              "1208  1208.0  48.0\n",
              "1209  1209.0  82.0\n",
              "1210  1210.0  76.0\n",
              "1211  1211.0  81.0"
            ]
          },
          "metadata": {},
          "execution_count": 80
        }
      ]
    },
    {
      "cell_type": "markdown",
      "metadata": {
        "id": "bFjGgi4IdfYZ"
      },
      "source": [
        "## 1.2 Get rid of the id column"
      ]
    },
    {
      "cell_type": "code",
      "metadata": {
        "id": "WnkLRmSodfYa",
        "colab": {
          "base_uri": "https://localhost:8080/"
        },
        "outputId": "3e45355d-5fea-4574-f793-1081e9dd4962"
      },
      "source": [
        "X_data = X_df.iloc[:,1:]\n",
        "y_data = y_df.iloc[:,1:]\n",
        "X_test = X_test_df.iloc[:, 1:]\n",
        "print(\"X_data shape:\", X_data.shape)\n",
        "print(\"y_data shape:\", y_data.shape)\n",
        "print(\"X_test shape:\", X_test.shape)"
      ],
      "execution_count": 81,
      "outputs": [
        {
          "output_type": "stream",
          "name": "stdout",
          "text": [
            "X_data shape: (1212, 832)\n",
            "y_data shape: (1212, 1)\n",
            "X_test shape: (776, 832)\n"
          ]
        }
      ]
    },
    {
      "cell_type": "markdown",
      "metadata": {
        "id": "wJ4oR4S8dfYb"
      },
      "source": [
        "# 2. Fill the missing values"
      ]
    },
    {
      "cell_type": "markdown",
      "metadata": {
        "id": "E8RYQ2ewdfYc"
      },
      "source": [
        "## 2.1 Get to know how many missing values there are"
      ]
    },
    {
      "cell_type": "code",
      "metadata": {
        "id": "y1vrYI34dfYe",
        "colab": {
          "base_uri": "https://localhost:8080/"
        },
        "outputId": "1cef9304-51b9-476c-a761-7569c0f8d1a2"
      },
      "source": [
        "feature_missing_values = X_data.isna().sum(axis = 0)\n",
        "print (\"Number of missing values for each feature:\\n\", feature_missing_values)\n",
        "\n",
        "record_missing_values = X_data.isna().sum(axis = 1)\n",
        "print (\"Number of missing values for each record:\\n\", record_missing_values)"
      ],
      "execution_count": 82,
      "outputs": [
        {
          "output_type": "stream",
          "name": "stdout",
          "text": [
            "Number of missing values for each feature:\n",
            " x0       94\n",
            "x1       98\n",
            "x2       95\n",
            "x3      106\n",
            "x4       95\n",
            "       ... \n",
            "x827    103\n",
            "x828     97\n",
            "x829    100\n",
            "x830     88\n",
            "x831    121\n",
            "Length: 832, dtype: int64\n",
            "Number of missing values for each record:\n",
            " 0       59\n",
            "1       67\n",
            "2       61\n",
            "3       57\n",
            "4       62\n",
            "        ..\n",
            "1207    55\n",
            "1208    76\n",
            "1209    60\n",
            "1210    51\n",
            "1211    69\n",
            "Length: 1212, dtype: int64\n"
          ]
        }
      ]
    },
    {
      "cell_type": "markdown",
      "metadata": {
        "id": "5mwUC84WdfYf"
      },
      "source": [
        "## 2.2 Using median"
      ]
    },
    {
      "cell_type": "code",
      "metadata": {
        "id": "t9dCin5bdfYg"
      },
      "source": [
        "# X_data_1 = X_data.fillna(X_data.median())\n",
        "# X_test_1 = X_test.fillna(X_test.median())\n",
        "# missing_values = X_data_1.isna().any() # any(): Return whether any element is True, potentially over an axis.\n",
        "# print (\"After filling, number of missing values for each feature:\\n\", missing_values)"
      ],
      "execution_count": 83,
      "outputs": []
    },
    {
      "cell_type": "markdown",
      "metadata": {
        "id": "RfFT_rYFdfYh"
      },
      "source": [
        "## 2.3 Using KNN"
      ]
    },
    {
      "cell_type": "code",
      "metadata": {
        "id": "pTNraXPudfYi",
        "colab": {
          "base_uri": "https://localhost:8080/"
        },
        "outputId": "8ee363ac-4d9d-4178-91c3-a995bfae19e0"
      },
      "source": [
        "# To use KNN imputer, we need to first normalize our data so the distance measure of each feature is the same\n",
        "scaler = RobustScaler(quantile_range=(10, 90))\n",
        "X_data_sc = pd.DataFrame(scaler.fit_transform(X_data), columns=X_data.columns)\n",
        "X_test_sc = pd.DataFrame(scaler.fit_transform(X_test), columns=X_test.columns)\n",
        "\n",
        "imputer = KNNImputer(n_neighbors=5)\n",
        "X_data_1 = pd.DataFrame(imputer.fit_transform(X_data_sc), columns=X_data.columns)\n",
        "X_test_1 = pd.DataFrame(imputer.fit_transform(X_test_sc), columns=X_test.columns)\n",
        "\n",
        "print(\"Missing values\", X_data_1.isna().any())"
      ],
      "execution_count": 84,
      "outputs": [
        {
          "output_type": "stream",
          "name": "stdout",
          "text": [
            "Missing values x0      False\n",
            "x1      False\n",
            "x2      False\n",
            "x3      False\n",
            "x4      False\n",
            "        ...  \n",
            "x827    False\n",
            "x828    False\n",
            "x829    False\n",
            "x830    False\n",
            "x831    False\n",
            "Length: 832, dtype: bool\n"
          ]
        }
      ]
    },
    {
      "cell_type": "markdown",
      "metadata": {
        "id": "ppDH6lyLdfYj"
      },
      "source": [
        "# 3. Outlier detection"
      ]
    },
    {
      "cell_type": "markdown",
      "metadata": {
        "id": "zvOm9H3sdfYj"
      },
      "source": [
        "## 3.1 Using IsolationForest"
      ]
    },
    {
      "cell_type": "code",
      "metadata": {
        "id": "uQOicDn4dfYj",
        "colab": {
          "base_uri": "https://localhost:8080/"
        },
        "outputId": "7611fae0-60ba-422e-a58c-61ac3a46c35e"
      },
      "source": [
        "iso_forest = IsolationForest(n_estimators=500, contamination=0.05)\n",
        "iso_forest = iso_forest.fit(X_data_1)\n",
        "isof_outliers = iso_forest.predict(X_data_1)\n",
        "X_data_2 = X_data_1.iloc[isof_outliers == 1, :]\n",
        "y_data = y_data.iloc[isof_outliers == 1].values\n",
        "print(X_data_2.shape)\n",
        "\n",
        "X_test_2 = X_test_1\n",
        "\n",
        "# # Delete nothing\n",
        "# X_data_2 = X_data_1\n",
        "# X_test_2 = X_test_1\n",
        "# y_data = y_data.values"
      ],
      "execution_count": 85,
      "outputs": [
        {
          "output_type": "stream",
          "name": "stdout",
          "text": [
            "(1151, 832)\n"
          ]
        }
      ]
    },
    {
      "cell_type": "code",
      "metadata": {
        "colab": {
          "base_uri": "https://localhost:8080/",
          "height": 0
        },
        "id": "qd7oA0Kdu1rt",
        "outputId": "2154fde0-68d4-4c36-caef-7cb6ee259367"
      },
      "source": [
        "X_data_2.head()"
      ],
      "execution_count": 86,
      "outputs": [
        {
          "output_type": "execute_result",
          "data": {
            "text/html": [
              "<div>\n",
              "<style scoped>\n",
              "    .dataframe tbody tr th:only-of-type {\n",
              "        vertical-align: middle;\n",
              "    }\n",
              "\n",
              "    .dataframe tbody tr th {\n",
              "        vertical-align: top;\n",
              "    }\n",
              "\n",
              "    .dataframe thead th {\n",
              "        text-align: right;\n",
              "    }\n",
              "</style>\n",
              "<table border=\"1\" class=\"dataframe\">\n",
              "  <thead>\n",
              "    <tr style=\"text-align: right;\">\n",
              "      <th></th>\n",
              "      <th>x0</th>\n",
              "      <th>x1</th>\n",
              "      <th>x2</th>\n",
              "      <th>x3</th>\n",
              "      <th>x4</th>\n",
              "      <th>x5</th>\n",
              "      <th>x6</th>\n",
              "      <th>x7</th>\n",
              "      <th>x8</th>\n",
              "      <th>x9</th>\n",
              "      <th>x10</th>\n",
              "      <th>x11</th>\n",
              "      <th>x12</th>\n",
              "      <th>x13</th>\n",
              "      <th>x14</th>\n",
              "      <th>x15</th>\n",
              "      <th>x16</th>\n",
              "      <th>x17</th>\n",
              "      <th>x18</th>\n",
              "      <th>x19</th>\n",
              "      <th>x20</th>\n",
              "      <th>x21</th>\n",
              "      <th>x22</th>\n",
              "      <th>x23</th>\n",
              "      <th>x24</th>\n",
              "      <th>x25</th>\n",
              "      <th>x26</th>\n",
              "      <th>x27</th>\n",
              "      <th>x28</th>\n",
              "      <th>x29</th>\n",
              "      <th>x30</th>\n",
              "      <th>x31</th>\n",
              "      <th>x32</th>\n",
              "      <th>x33</th>\n",
              "      <th>x34</th>\n",
              "      <th>x35</th>\n",
              "      <th>x36</th>\n",
              "      <th>x37</th>\n",
              "      <th>x38</th>\n",
              "      <th>x39</th>\n",
              "      <th>...</th>\n",
              "      <th>x792</th>\n",
              "      <th>x793</th>\n",
              "      <th>x794</th>\n",
              "      <th>x795</th>\n",
              "      <th>x796</th>\n",
              "      <th>x797</th>\n",
              "      <th>x798</th>\n",
              "      <th>x799</th>\n",
              "      <th>x800</th>\n",
              "      <th>x801</th>\n",
              "      <th>x802</th>\n",
              "      <th>x803</th>\n",
              "      <th>x804</th>\n",
              "      <th>x805</th>\n",
              "      <th>x806</th>\n",
              "      <th>x807</th>\n",
              "      <th>x808</th>\n",
              "      <th>x809</th>\n",
              "      <th>x810</th>\n",
              "      <th>x811</th>\n",
              "      <th>x812</th>\n",
              "      <th>x813</th>\n",
              "      <th>x814</th>\n",
              "      <th>x815</th>\n",
              "      <th>x816</th>\n",
              "      <th>x817</th>\n",
              "      <th>x818</th>\n",
              "      <th>x819</th>\n",
              "      <th>x820</th>\n",
              "      <th>x821</th>\n",
              "      <th>x822</th>\n",
              "      <th>x823</th>\n",
              "      <th>x824</th>\n",
              "      <th>x825</th>\n",
              "      <th>x826</th>\n",
              "      <th>x827</th>\n",
              "      <th>x828</th>\n",
              "      <th>x829</th>\n",
              "      <th>x830</th>\n",
              "      <th>x831</th>\n",
              "    </tr>\n",
              "  </thead>\n",
              "  <tbody>\n",
              "    <tr>\n",
              "      <th>0</th>\n",
              "      <td>0.366254</td>\n",
              "      <td>-0.602537</td>\n",
              "      <td>0.237168</td>\n",
              "      <td>-0.246672</td>\n",
              "      <td>0.646918</td>\n",
              "      <td>-0.356928</td>\n",
              "      <td>0.614377</td>\n",
              "      <td>-0.332445</td>\n",
              "      <td>0.563801</td>\n",
              "      <td>-0.302874</td>\n",
              "      <td>-0.498416</td>\n",
              "      <td>0.212626</td>\n",
              "      <td>-0.484550</td>\n",
              "      <td>-0.230231</td>\n",
              "      <td>-0.443511</td>\n",
              "      <td>0.323738</td>\n",
              "      <td>0.527316</td>\n",
              "      <td>-0.560667</td>\n",
              "      <td>-0.057300</td>\n",
              "      <td>-0.398784</td>\n",
              "      <td>0.331705</td>\n",
              "      <td>0.936314</td>\n",
              "      <td>0.139309</td>\n",
              "      <td>0.166117</td>\n",
              "      <td>-0.120616</td>\n",
              "      <td>-0.483488</td>\n",
              "      <td>-0.133835</td>\n",
              "      <td>-0.379148</td>\n",
              "      <td>-0.522631</td>\n",
              "      <td>0.185912</td>\n",
              "      <td>-0.310709</td>\n",
              "      <td>0.401079</td>\n",
              "      <td>-0.058608</td>\n",
              "      <td>-0.065739</td>\n",
              "      <td>0.219344</td>\n",
              "      <td>0.338877</td>\n",
              "      <td>-0.521471</td>\n",
              "      <td>-0.050881</td>\n",
              "      <td>0.821375</td>\n",
              "      <td>-0.206204</td>\n",
              "      <td>...</td>\n",
              "      <td>0.091529</td>\n",
              "      <td>0.354864</td>\n",
              "      <td>-0.000498</td>\n",
              "      <td>-0.166341</td>\n",
              "      <td>0.104771</td>\n",
              "      <td>-0.160049</td>\n",
              "      <td>0.537924</td>\n",
              "      <td>0.637074</td>\n",
              "      <td>-0.044632</td>\n",
              "      <td>0.357295</td>\n",
              "      <td>0.120632</td>\n",
              "      <td>-0.733933</td>\n",
              "      <td>0.301748</td>\n",
              "      <td>-0.519026</td>\n",
              "      <td>0.151594</td>\n",
              "      <td>-0.355137</td>\n",
              "      <td>0.804673</td>\n",
              "      <td>-0.037777</td>\n",
              "      <td>0.380540</td>\n",
              "      <td>0.172868</td>\n",
              "      <td>-0.507662</td>\n",
              "      <td>0.038349</td>\n",
              "      <td>-0.128503</td>\n",
              "      <td>-0.033035</td>\n",
              "      <td>0.065428</td>\n",
              "      <td>-0.471241</td>\n",
              "      <td>0.332334</td>\n",
              "      <td>-0.192552</td>\n",
              "      <td>0.210712</td>\n",
              "      <td>0.117579</td>\n",
              "      <td>-0.318885</td>\n",
              "      <td>0.050707</td>\n",
              "      <td>-0.196689</td>\n",
              "      <td>0.117974</td>\n",
              "      <td>0.325079</td>\n",
              "      <td>0.303604</td>\n",
              "      <td>-0.566476</td>\n",
              "      <td>-0.176145</td>\n",
              "      <td>-0.575897</td>\n",
              "      <td>-0.226159</td>\n",
              "    </tr>\n",
              "    <tr>\n",
              "      <th>2</th>\n",
              "      <td>0.432092</td>\n",
              "      <td>0.458436</td>\n",
              "      <td>-0.147386</td>\n",
              "      <td>-0.553701</td>\n",
              "      <td>-0.306695</td>\n",
              "      <td>-0.351380</td>\n",
              "      <td>-0.038824</td>\n",
              "      <td>0.109042</td>\n",
              "      <td>0.104857</td>\n",
              "      <td>-0.026660</td>\n",
              "      <td>0.175691</td>\n",
              "      <td>-0.213002</td>\n",
              "      <td>-0.400969</td>\n",
              "      <td>-0.706979</td>\n",
              "      <td>0.123232</td>\n",
              "      <td>0.132832</td>\n",
              "      <td>-0.571213</td>\n",
              "      <td>-0.142955</td>\n",
              "      <td>-0.208848</td>\n",
              "      <td>0.056125</td>\n",
              "      <td>0.031362</td>\n",
              "      <td>0.392277</td>\n",
              "      <td>-0.206804</td>\n",
              "      <td>-1.281982</td>\n",
              "      <td>0.533658</td>\n",
              "      <td>0.041791</td>\n",
              "      <td>0.163144</td>\n",
              "      <td>0.296507</td>\n",
              "      <td>-0.104647</td>\n",
              "      <td>0.064881</td>\n",
              "      <td>0.664561</td>\n",
              "      <td>-0.462420</td>\n",
              "      <td>0.311602</td>\n",
              "      <td>-0.083953</td>\n",
              "      <td>0.057019</td>\n",
              "      <td>-0.313337</td>\n",
              "      <td>0.181062</td>\n",
              "      <td>-0.149937</td>\n",
              "      <td>-0.080653</td>\n",
              "      <td>-0.422615</td>\n",
              "      <td>...</td>\n",
              "      <td>0.930956</td>\n",
              "      <td>-0.404625</td>\n",
              "      <td>-0.626460</td>\n",
              "      <td>0.177020</td>\n",
              "      <td>-0.144440</td>\n",
              "      <td>-0.184671</td>\n",
              "      <td>-0.553214</td>\n",
              "      <td>-0.199383</td>\n",
              "      <td>0.067927</td>\n",
              "      <td>-0.024507</td>\n",
              "      <td>-0.071273</td>\n",
              "      <td>-0.179701</td>\n",
              "      <td>-0.572265</td>\n",
              "      <td>-0.311823</td>\n",
              "      <td>-0.208124</td>\n",
              "      <td>0.152407</td>\n",
              "      <td>-0.187030</td>\n",
              "      <td>-0.347608</td>\n",
              "      <td>0.176291</td>\n",
              "      <td>-0.144937</td>\n",
              "      <td>0.297918</td>\n",
              "      <td>0.077217</td>\n",
              "      <td>0.084467</td>\n",
              "      <td>-0.432927</td>\n",
              "      <td>-0.368816</td>\n",
              "      <td>-0.022950</td>\n",
              "      <td>0.410962</td>\n",
              "      <td>0.504689</td>\n",
              "      <td>0.473242</td>\n",
              "      <td>-0.125366</td>\n",
              "      <td>-0.390869</td>\n",
              "      <td>-0.080001</td>\n",
              "      <td>-0.400141</td>\n",
              "      <td>0.271402</td>\n",
              "      <td>0.092331</td>\n",
              "      <td>-0.731324</td>\n",
              "      <td>0.275481</td>\n",
              "      <td>-0.381353</td>\n",
              "      <td>-0.778377</td>\n",
              "      <td>-0.086109</td>\n",
              "    </tr>\n",
              "    <tr>\n",
              "      <th>4</th>\n",
              "      <td>0.167169</td>\n",
              "      <td>-0.361734</td>\n",
              "      <td>0.396267</td>\n",
              "      <td>-0.238947</td>\n",
              "      <td>-0.019179</td>\n",
              "      <td>-0.669567</td>\n",
              "      <td>-0.078957</td>\n",
              "      <td>0.639629</td>\n",
              "      <td>0.244143</td>\n",
              "      <td>-0.432669</td>\n",
              "      <td>0.592228</td>\n",
              "      <td>0.613683</td>\n",
              "      <td>0.515475</td>\n",
              "      <td>-0.628716</td>\n",
              "      <td>0.455264</td>\n",
              "      <td>0.355937</td>\n",
              "      <td>-0.585780</td>\n",
              "      <td>-0.062891</td>\n",
              "      <td>0.372641</td>\n",
              "      <td>0.254074</td>\n",
              "      <td>-0.154041</td>\n",
              "      <td>-0.327385</td>\n",
              "      <td>0.073526</td>\n",
              "      <td>0.140675</td>\n",
              "      <td>0.011798</td>\n",
              "      <td>-0.146518</td>\n",
              "      <td>-0.484218</td>\n",
              "      <td>0.285343</td>\n",
              "      <td>0.736146</td>\n",
              "      <td>0.557712</td>\n",
              "      <td>0.024150</td>\n",
              "      <td>-0.578573</td>\n",
              "      <td>0.268679</td>\n",
              "      <td>-0.344200</td>\n",
              "      <td>0.603555</td>\n",
              "      <td>0.328378</td>\n",
              "      <td>-0.417409</td>\n",
              "      <td>-0.164655</td>\n",
              "      <td>0.181360</td>\n",
              "      <td>0.822299</td>\n",
              "      <td>...</td>\n",
              "      <td>-0.005846</td>\n",
              "      <td>0.111864</td>\n",
              "      <td>0.428670</td>\n",
              "      <td>0.284042</td>\n",
              "      <td>0.409506</td>\n",
              "      <td>0.331444</td>\n",
              "      <td>0.453075</td>\n",
              "      <td>-0.334999</td>\n",
              "      <td>0.063464</td>\n",
              "      <td>0.487918</td>\n",
              "      <td>-0.103585</td>\n",
              "      <td>0.208841</td>\n",
              "      <td>-0.609823</td>\n",
              "      <td>-0.486181</td>\n",
              "      <td>-0.146785</td>\n",
              "      <td>0.430425</td>\n",
              "      <td>-0.408727</td>\n",
              "      <td>0.660101</td>\n",
              "      <td>0.437674</td>\n",
              "      <td>0.221476</td>\n",
              "      <td>-0.279948</td>\n",
              "      <td>0.966123</td>\n",
              "      <td>-0.044372</td>\n",
              "      <td>0.514427</td>\n",
              "      <td>-0.734786</td>\n",
              "      <td>-0.081034</td>\n",
              "      <td>0.355136</td>\n",
              "      <td>0.088157</td>\n",
              "      <td>-0.825760</td>\n",
              "      <td>-0.216536</td>\n",
              "      <td>-0.232344</td>\n",
              "      <td>-0.380367</td>\n",
              "      <td>0.835558</td>\n",
              "      <td>0.049827</td>\n",
              "      <td>0.099136</td>\n",
              "      <td>0.321395</td>\n",
              "      <td>0.096218</td>\n",
              "      <td>-0.320239</td>\n",
              "      <td>0.080176</td>\n",
              "      <td>0.040857</td>\n",
              "    </tr>\n",
              "    <tr>\n",
              "      <th>5</th>\n",
              "      <td>-0.351395</td>\n",
              "      <td>0.289232</td>\n",
              "      <td>0.293071</td>\n",
              "      <td>-0.062916</td>\n",
              "      <td>0.311761</td>\n",
              "      <td>0.080699</td>\n",
              "      <td>0.063625</td>\n",
              "      <td>-0.139039</td>\n",
              "      <td>-0.100231</td>\n",
              "      <td>0.288177</td>\n",
              "      <td>0.384312</td>\n",
              "      <td>0.269270</td>\n",
              "      <td>0.249566</td>\n",
              "      <td>0.822805</td>\n",
              "      <td>-0.000842</td>\n",
              "      <td>0.574645</td>\n",
              "      <td>-0.094707</td>\n",
              "      <td>0.411075</td>\n",
              "      <td>-0.286924</td>\n",
              "      <td>-0.165425</td>\n",
              "      <td>0.175779</td>\n",
              "      <td>-0.609105</td>\n",
              "      <td>0.714758</td>\n",
              "      <td>-0.210875</td>\n",
              "      <td>0.104949</td>\n",
              "      <td>0.039135</td>\n",
              "      <td>0.280088</td>\n",
              "      <td>0.179142</td>\n",
              "      <td>-0.102233</td>\n",
              "      <td>-0.585132</td>\n",
              "      <td>-0.246189</td>\n",
              "      <td>0.467543</td>\n",
              "      <td>-0.401984</td>\n",
              "      <td>0.312369</td>\n",
              "      <td>-0.173118</td>\n",
              "      <td>0.057036</td>\n",
              "      <td>0.127081</td>\n",
              "      <td>-0.392826</td>\n",
              "      <td>-0.084236</td>\n",
              "      <td>-0.082451</td>\n",
              "      <td>...</td>\n",
              "      <td>-0.144195</td>\n",
              "      <td>-0.420541</td>\n",
              "      <td>0.516235</td>\n",
              "      <td>-0.184277</td>\n",
              "      <td>-0.147865</td>\n",
              "      <td>0.208632</td>\n",
              "      <td>-0.180598</td>\n",
              "      <td>-0.184437</td>\n",
              "      <td>0.017012</td>\n",
              "      <td>-0.357609</td>\n",
              "      <td>-0.045442</td>\n",
              "      <td>-0.037543</td>\n",
              "      <td>0.173530</td>\n",
              "      <td>-0.061712</td>\n",
              "      <td>-0.401402</td>\n",
              "      <td>0.534702</td>\n",
              "      <td>-0.702003</td>\n",
              "      <td>0.322825</td>\n",
              "      <td>0.134834</td>\n",
              "      <td>0.012196</td>\n",
              "      <td>0.369852</td>\n",
              "      <td>0.682798</td>\n",
              "      <td>-0.024586</td>\n",
              "      <td>0.559903</td>\n",
              "      <td>0.846660</td>\n",
              "      <td>-0.513810</td>\n",
              "      <td>-0.317874</td>\n",
              "      <td>-0.096279</td>\n",
              "      <td>0.043405</td>\n",
              "      <td>0.098081</td>\n",
              "      <td>-0.369659</td>\n",
              "      <td>0.215428</td>\n",
              "      <td>-0.085858</td>\n",
              "      <td>0.009466</td>\n",
              "      <td>0.110210</td>\n",
              "      <td>0.321365</td>\n",
              "      <td>0.404988</td>\n",
              "      <td>-0.001046</td>\n",
              "      <td>-0.372933</td>\n",
              "      <td>0.545064</td>\n",
              "    </tr>\n",
              "    <tr>\n",
              "      <th>6</th>\n",
              "      <td>-0.042825</td>\n",
              "      <td>-0.546083</td>\n",
              "      <td>0.238445</td>\n",
              "      <td>-0.584761</td>\n",
              "      <td>-0.027881</td>\n",
              "      <td>0.074732</td>\n",
              "      <td>0.082182</td>\n",
              "      <td>0.439288</td>\n",
              "      <td>-0.187196</td>\n",
              "      <td>0.559747</td>\n",
              "      <td>0.650666</td>\n",
              "      <td>0.452827</td>\n",
              "      <td>0.471855</td>\n",
              "      <td>-0.413128</td>\n",
              "      <td>0.290864</td>\n",
              "      <td>-0.179733</td>\n",
              "      <td>-0.260738</td>\n",
              "      <td>-0.019663</td>\n",
              "      <td>-0.040849</td>\n",
              "      <td>-0.371956</td>\n",
              "      <td>-0.245471</td>\n",
              "      <td>0.418760</td>\n",
              "      <td>0.957861</td>\n",
              "      <td>-0.375566</td>\n",
              "      <td>-0.341911</td>\n",
              "      <td>0.102844</td>\n",
              "      <td>-0.428553</td>\n",
              "      <td>0.590769</td>\n",
              "      <td>-0.052330</td>\n",
              "      <td>0.450305</td>\n",
              "      <td>0.191042</td>\n",
              "      <td>-0.205598</td>\n",
              "      <td>0.016183</td>\n",
              "      <td>0.367967</td>\n",
              "      <td>0.325781</td>\n",
              "      <td>0.362794</td>\n",
              "      <td>-0.556797</td>\n",
              "      <td>0.112994</td>\n",
              "      <td>0.464433</td>\n",
              "      <td>0.159660</td>\n",
              "      <td>...</td>\n",
              "      <td>0.276868</td>\n",
              "      <td>-0.192429</td>\n",
              "      <td>0.479095</td>\n",
              "      <td>-0.490182</td>\n",
              "      <td>-0.047360</td>\n",
              "      <td>0.195639</td>\n",
              "      <td>0.449680</td>\n",
              "      <td>-0.357008</td>\n",
              "      <td>0.268580</td>\n",
              "      <td>-0.383713</td>\n",
              "      <td>-0.233643</td>\n",
              "      <td>0.471439</td>\n",
              "      <td>-0.463445</td>\n",
              "      <td>-0.179418</td>\n",
              "      <td>-0.450622</td>\n",
              "      <td>-0.113225</td>\n",
              "      <td>0.236259</td>\n",
              "      <td>-0.162548</td>\n",
              "      <td>0.408056</td>\n",
              "      <td>0.338547</td>\n",
              "      <td>0.255864</td>\n",
              "      <td>0.656144</td>\n",
              "      <td>0.092981</td>\n",
              "      <td>-0.167417</td>\n",
              "      <td>-0.405711</td>\n",
              "      <td>-0.321657</td>\n",
              "      <td>-0.452151</td>\n",
              "      <td>0.110185</td>\n",
              "      <td>-0.151644</td>\n",
              "      <td>-0.191850</td>\n",
              "      <td>-0.141714</td>\n",
              "      <td>-0.131141</td>\n",
              "      <td>0.172552</td>\n",
              "      <td>-0.160140</td>\n",
              "      <td>0.132825</td>\n",
              "      <td>0.047903</td>\n",
              "      <td>0.087631</td>\n",
              "      <td>0.056238</td>\n",
              "      <td>0.043282</td>\n",
              "      <td>0.153107</td>\n",
              "    </tr>\n",
              "  </tbody>\n",
              "</table>\n",
              "<p>5 rows × 832 columns</p>\n",
              "</div>"
            ],
            "text/plain": [
              "         x0        x1        x2  ...      x829      x830      x831\n",
              "0  0.366254 -0.602537  0.237168  ... -0.176145 -0.575897 -0.226159\n",
              "2  0.432092  0.458436 -0.147386  ... -0.381353 -0.778377 -0.086109\n",
              "4  0.167169 -0.361734  0.396267  ... -0.320239  0.080176  0.040857\n",
              "5 -0.351395  0.289232  0.293071  ... -0.001046 -0.372933  0.545064\n",
              "6 -0.042825 -0.546083  0.238445  ...  0.056238  0.043282  0.153107\n",
              "\n",
              "[5 rows x 832 columns]"
            ]
          },
          "metadata": {},
          "execution_count": 86
        }
      ]
    },
    {
      "cell_type": "markdown",
      "metadata": {
        "id": "6cJge2LpdfYl"
      },
      "source": [
        "# 4. Feature selection"
      ]
    },
    {
      "cell_type": "code",
      "metadata": {
        "id": "Q2OzXhunlpw_"
      },
      "source": [
        "from xgboost import XGBRegressor\n",
        "from numpy.random import randint\n",
        "randomNumber = randint(100000000)\n",
        "XGB_reg = XGBRegressor(n_jobs=-1, objective ='reg:squarederror', \n",
        "    n_estimator=100, learning_rate=0.1,subsample=0.8, colsample_bytree=0.8, reg_alpha=0.2,\n",
        "    reg_lambda=0.2, gamma=0.1, random_state=randomNumber)\n",
        "XGB_reg_fit = XGB_reg.fit(X_data_2, y_data)"
      ],
      "execution_count": 87,
      "outputs": []
    },
    {
      "cell_type": "code",
      "metadata": {
        "colab": {
          "base_uri": "https://localhost:8080/",
          "height": 349
        },
        "id": "4F2aZPMYs1iN",
        "outputId": "da7acaba-b17e-4c75-cc88-0dd26383183c"
      },
      "source": [
        "import matplotlib.pyplot as plt\n",
        "import numpy as np\n",
        "# feature importance\n",
        "plt.hist(np.abs(XGB_reg.feature_importances_))"
      ],
      "execution_count": 88,
      "outputs": [
        {
          "output_type": "execute_result",
          "data": {
            "text/plain": [
              "(array([752.,  47.,  17.,   8.,   3.,   2.,   1.,   0.,   1.,   1.]),\n",
              " array([0.        , 0.00322485, 0.0064497 , 0.00967456, 0.01289941,\n",
              "        0.01612426, 0.01934911, 0.02257397, 0.02579882, 0.02902367,\n",
              "        0.03224852], dtype=float32),\n",
              " <a list of 10 Patch objects>)"
            ]
          },
          "metadata": {},
          "execution_count": 88
        },
        {
          "output_type": "display_data",
          "data": {
            "image/png": "[encoded data removed]",
            "text/plain": [
              "<Figure size 432x288 with 1 Axes>"
            ]
          },
          "metadata": {
            "needs_background": "light"
          }
        }
      ]
    },
    {
      "cell_type": "code",
      "metadata": {
        "id": "l_xj1xjOvKnE"
      },
      "source": [
        "from sklearn.feature_selection import SelectFromModel\n",
        "threshold=0.003\n",
        "XGB_reg_sfm = SelectFromModel(XGB_reg, threshold=threshold).fit(X_data_2, y_data)\n",
        "X_data_3 = XGB_reg_sfm.transform(X_data_2)\n",
        "X_test_3 = XGB_reg_sfm.transform(X_test_1)"
      ],
      "execution_count": 89,
      "outputs": []
    },
    {
      "cell_type": "code",
      "metadata": {
        "colab": {
          "base_uri": "https://localhost:8080/"
        },
        "id": "0tvpdGaFvDYt",
        "outputId": "58a699a6-3586-43de-887f-b1a7b839a457"
      },
      "source": [
        "X_train, X_valid, y_train, y_valid = train_test_split(X_data_3, y_data, test_size=0.2, random_state=1)\n",
        "print(\"X_train shape: \", X_train.shape)"
      ],
      "execution_count": 90,
      "outputs": [
        {
          "output_type": "stream",
          "name": "stdout",
          "text": [
            "X_train shape:  (920, 90)\n"
          ]
        }
      ]
    },
    {
      "cell_type": "markdown",
      "metadata": {
        "id": "pxlxT0E1dfYq"
      },
      "source": [
        "# 5. Model Selection"
      ]
    },
    {
      "cell_type": "code",
      "metadata": {
        "id": "yMwnxwaidfYq",
        "colab": {
          "base_uri": "https://localhost:8080/"
        },
        "outputId": "61852fd5-c8ae-42ae-dc19-af236645b7aa"
      },
      "source": [
        "X_train, X_valid, y_train, y_valid = train_test_split(X_data_3, y_data, test_size=0.2, random_state=1)\n",
        "print(\"X_train shape: \", X_train.shape)"
      ],
      "execution_count": 91,
      "outputs": [
        {
          "output_type": "stream",
          "name": "stdout",
          "text": [
            "X_train shape:  (920, 90)\n"
          ]
        }
      ]
    },
    {
      "cell_type": "markdown",
      "metadata": {
        "id": "hzzNaenaPY_U"
      },
      "source": [
        "## XGB"
      ]
    },
    {
      "cell_type": "code",
      "metadata": {
        "colab": {
          "base_uri": "https://localhost:8080/"
        },
        "id": "f6-FkHiq2JnL",
        "outputId": "99c2d199-bd90-436b-d827-2883c25c2742"
      },
      "source": [
        "XGB_reg_fit = XGB_reg.fit(X_train, y_train)\n",
        "y_pred = XGB_reg.predict(X_valid)\n",
        "r_score = r2_score(y_valid, y_pred)\n",
        "print(\"Validation score:\", r_score)"
      ],
      "execution_count": 92,
      "outputs": [
        {
          "output_type": "stream",
          "name": "stdout",
          "text": [
            "Validation score: 0.5366803736792634\n"
          ]
        }
      ]
    },
    {
      "cell_type": "markdown",
      "metadata": {
        "id": "lMVwbmTRPc4-"
      },
      "source": [
        "## ANN"
      ]
    },
    {
      "cell_type": "code",
      "metadata": {
        "id": "xDunWMYpPfVI"
      },
      "source": [
        "import tensorflow as tf\n",
        "from tensorflow import keras\n",
        "from tensorflow.keras import regularizers"
      ],
      "execution_count": 93,
      "outputs": []
    },
    {
      "cell_type": "code",
      "metadata": {
        "id": "gu8GU5JvBS4A"
      },
      "source": [
        "from keras.models import Sequential\n",
        "from keras.layers import Dense\n",
        "from keras.layers import LeakyReLU\n",
        "from keras.layers import Dropout\n",
        "from keras import regularizers\n",
        "# fix random seed for reproducibility\n",
        "\n",
        "def coeff_determination(y_true, y_pred):\n",
        "    from keras import backend as K\n",
        "    SS_res =  K.sum(K.square( y_true-y_pred ))\n",
        "    SS_tot = K.sum(K.square( y_true - K.mean(y_true) ) )\n",
        "    return ( 1 - SS_res/(SS_tot + K.epsilon()) )"
      ],
      "execution_count": 94,
      "outputs": []
    },
    {
      "cell_type": "code",
      "metadata": {
        "id": "ORyrtHMjPgca",
        "outputId": "8a62af72-26a6-447e-d4e8-d4cbcec0106f",
        "colab": {
          "base_uri": "https://localhost:8080/"
        }
      },
      "source": [
        "dropout=0.1\n",
        "\n",
        "model = Sequential()\n",
        "model.add(Dense(30, input_dim=X_train.shape[1], kernel_regularizer = regularizers.l2(1), kernel_initializer='he_uniform'))\n",
        "model.add(LeakyReLU(alpha=0.1))\n",
        "model.add(Dropout(rate = dropout))\n",
        "model.add(Dense(30, input_dim=72, kernel_regularizer = regularizers.l2(1), kernel_initializer='he_uniform'))\n",
        "model.add(LeakyReLU(alpha=0.1))\n",
        "model.add(Dropout(rate = dropout))\n",
        "model.add(Dense(30, input_dim=72, kernel_regularizer = regularizers.l2(1), kernel_initializer='he_uniform'))\n",
        "model.add(LeakyReLU(alpha=0.1))\n",
        "model.add(Dropout(rate = dropout))\n",
        "model.add(Dense(30, input_dim=72, kernel_regularizer = regularizers.l2(1), kernel_initializer='he_uniform'))\n",
        "model.add(LeakyReLU(alpha=0.1))\n",
        "model.add(Dropout(rate = dropout))\n",
        "model.add(Dense(30, input_dim=72, kernel_regularizer = regularizers.l2(1), kernel_initializer='he_uniform'))\n",
        "model.add(LeakyReLU(alpha=0.1))\n",
        "model.add(Dropout(rate = dropout))\n",
        "model.add(Dense(30, input_dim=72, kernel_regularizer = regularizers.l2(1), kernel_initializer='he_uniform'))\n",
        "model.add(LeakyReLU(alpha=0.1))\n",
        "model.add(Dropout(rate = dropout))\n",
        "\n",
        "model.add(Dense(1, kernel_initializer='he_uniform'))\n",
        "# Compile model\n",
        "opt = keras.optimizers.Adam(lr=0.005, beta_1=0.9, beta_2=0.999, epsilon=None, decay=0.0, amsgrad=False)\n",
        "\n",
        "model.compile(loss='mean_squared_error', optimizer=opt, metrics=[coeff_determination])"
      ],
      "execution_count": 102,
      "outputs": [
        {
          "output_type": "stream",
          "name": "stderr",
          "text": [
            "/usr/local/lib/python3.7/dist-packages/keras/optimizer_v2/adam.py:105: UserWarning: The `lr` argument is deprecated, use `learning_rate` instead.\n",
            "  super(Adam, self).__init__(name, **kwargs)\n"
          ]
        }
      ]
    },
    {
      "cell_type": "code",
      "metadata": {
        "colab": {
          "base_uri": "https://localhost:8080/"
        },
        "id": "ejd-xbQdPnrp",
        "outputId": "b2f57032-6c77-4d06-bb6e-2458fd9b6423"
      },
      "source": [
        "model.summary()"
      ],
      "execution_count": 103,
      "outputs": [
        {
          "output_type": "stream",
          "name": "stdout",
          "text": [
            "Model: \"sequential_9\"\n",
            "_________________________________________________________________\n",
            " Layer (type)                Output Shape              Param #   \n",
            "=================================================================\n",
            " dense_73 (Dense)            (None, 30)                2730      \n",
            "                                                                 \n",
            " leaky_re_lu_64 (LeakyReLU)  (None, 30)                0         \n",
            "                                                                 \n",
            " dropout_64 (Dropout)        (None, 30)                0         \n",
            "                                                                 \n",
            " dense_74 (Dense)            (None, 30)                930       \n",
            "                                                                 \n",
            " leaky_re_lu_65 (LeakyReLU)  (None, 30)                0         \n",
            "                                                                 \n",
            " dropout_65 (Dropout)        (None, 30)                0         \n",
            "                                                                 \n",
            " dense_75 (Dense)            (None, 30)                930       \n",
            "                                                                 \n",
            " leaky_re_lu_66 (LeakyReLU)  (None, 30)                0         \n",
            "                                                                 \n",
            " dropout_66 (Dropout)        (None, 30)                0         \n",
            "                                                                 \n",
            " dense_76 (Dense)            (None, 30)                930       \n",
            "                                                                 \n",
            " leaky_re_lu_67 (LeakyReLU)  (None, 30)                0         \n",
            "                                                                 \n",
            " dropout_67 (Dropout)        (None, 30)                0         \n",
            "                                                                 \n",
            " dense_77 (Dense)            (None, 30)                930       \n",
            "                                                                 \n",
            " leaky_re_lu_68 (LeakyReLU)  (None, 30)                0         \n",
            "                                                                 \n",
            " dropout_68 (Dropout)        (None, 30)                0         \n",
            "                                                                 \n",
            " dense_78 (Dense)            (None, 30)                930       \n",
            "                                                                 \n",
            " leaky_re_lu_69 (LeakyReLU)  (None, 30)                0         \n",
            "                                                                 \n",
            " dropout_69 (Dropout)        (None, 30)                0         \n",
            "                                                                 \n",
            " dense_79 (Dense)            (None, 1)                 31        \n",
            "                                                                 \n",
            "=================================================================\n",
            "Total params: 7,411\n",
            "Trainable params: 7,411\n",
            "Non-trainable params: 0\n",
            "_________________________________________________________________\n"
          ]
        }
      ]
    },
    {
      "cell_type": "code",
      "metadata": {
        "id": "pz8y5gxJPoav"
      },
      "source": [
        ""
      ],
      "execution_count": 96,
      "outputs": []
    },
    {
      "cell_type": "code",
      "metadata": {
        "colab": {
          "base_uri": "https://localhost:8080/"
        },
        "id": "TsXBu6YKPrhk",
        "outputId": "b9eca141-64a8-4f1a-fae5-7913d55dd981"
      },
      "source": [
        "# Fit the model\n",
        "history = model.fit(X_data_3, y_data, epochs=80, verbose=2, validation_split=0.1,\n",
        "                    shuffle=True, steps_per_epoch=60, initial_epoch=0, validation_steps=5)"
      ],
      "execution_count": 107,
      "outputs": [
        {
          "output_type": "stream",
          "name": "stdout",
          "text": [
            "Epoch 1/80\n",
            "60/60 - 0s - loss: 90.0223 - coeff_determination: 0.0665 - val_loss: 70.6503 - val_coeff_determination: 0.3558 - 175ms/epoch - 3ms/step\n",
            "Epoch 2/80\n",
            "60/60 - 0s - loss: 78.8334 - coeff_determination: 0.2184 - val_loss: 68.2860 - val_coeff_determination: 0.3830 - 155ms/epoch - 3ms/step\n",
            "Epoch 3/80\n",
            "60/60 - 0s - loss: 87.9446 - coeff_determination: 0.0355 - val_loss: 72.0926 - val_coeff_determination: 0.3387 - 161ms/epoch - 3ms/step\n",
            "Epoch 4/80\n",
            "60/60 - 0s - loss: 85.6021 - coeff_determination: 0.1824 - val_loss: 83.3014 - val_coeff_determination: 0.1920 - 144ms/epoch - 2ms/step\n",
            "Epoch 5/80\n",
            "60/60 - 0s - loss: 82.1952 - coeff_determination: 0.1215 - val_loss: 76.0315 - val_coeff_determination: 0.2788 - 165ms/epoch - 3ms/step\n",
            "Epoch 6/80\n",
            "60/60 - 0s - loss: 79.7604 - coeff_determination: 0.1998 - val_loss: 73.3863 - val_coeff_determination: 0.3053 - 161ms/epoch - 3ms/step\n",
            "Epoch 7/80\n",
            "60/60 - 0s - loss: 84.4248 - coeff_determination: 0.1542 - val_loss: 71.4226 - val_coeff_determination: 0.3484 - 163ms/epoch - 3ms/step\n",
            "Epoch 8/80\n",
            "60/60 - 0s - loss: 81.6869 - coeff_determination: 0.1099 - val_loss: 67.9412 - val_coeff_determination: 0.3817 - 170ms/epoch - 3ms/step\n",
            "Epoch 9/80\n",
            "60/60 - 0s - loss: 85.2310 - coeff_determination: 0.1400 - val_loss: 68.1344 - val_coeff_determination: 0.3833 - 145ms/epoch - 2ms/step\n",
            "Epoch 10/80\n",
            "60/60 - 0s - loss: 80.6001 - coeff_determination: 0.1793 - val_loss: 70.8243 - val_coeff_determination: 0.3362 - 137ms/epoch - 2ms/step\n",
            "Epoch 11/80\n",
            "60/60 - 0s - loss: 88.7312 - coeff_determination: 0.1415 - val_loss: 67.9315 - val_coeff_determination: 0.3874 - 167ms/epoch - 3ms/step\n",
            "Epoch 12/80\n",
            "60/60 - 0s - loss: 78.6700 - coeff_determination: 0.2490 - val_loss: 68.5104 - val_coeff_determination: 0.3729 - 159ms/epoch - 3ms/step\n",
            "Epoch 13/80\n",
            "60/60 - 0s - loss: 79.4909 - coeff_determination: 0.1847 - val_loss: 71.4491 - val_coeff_determination: 0.3250 - 150ms/epoch - 2ms/step\n",
            "Epoch 14/80\n",
            "60/60 - 0s - loss: 81.2090 - coeff_determination: 0.1521 - val_loss: 71.0310 - val_coeff_determination: 0.3350 - 153ms/epoch - 3ms/step\n",
            "Epoch 15/80\n",
            "60/60 - 0s - loss: 86.6723 - coeff_determination: 0.1175 - val_loss: 68.4080 - val_coeff_determination: 0.3844 - 168ms/epoch - 3ms/step\n",
            "Epoch 16/80\n",
            "60/60 - 0s - loss: 83.3758 - coeff_determination: 0.1303 - val_loss: 78.6173 - val_coeff_determination: 0.2583 - 163ms/epoch - 3ms/step\n",
            "Epoch 17/80\n",
            "60/60 - 0s - loss: 84.1039 - coeff_determination: 0.0720 - val_loss: 72.8976 - val_coeff_determination: 0.3219 - 154ms/epoch - 3ms/step\n",
            "Epoch 18/80\n",
            "60/60 - 0s - loss: 89.4512 - coeff_determination: 0.1092 - val_loss: 67.7062 - val_coeff_determination: 0.3856 - 168ms/epoch - 3ms/step\n",
            "Epoch 19/80\n",
            "60/60 - 0s - loss: 81.8012 - coeff_determination: 0.1173 - val_loss: 72.2471 - val_coeff_determination: 0.3197 - 158ms/epoch - 3ms/step\n",
            "Epoch 20/80\n",
            "60/60 - 0s - loss: 80.0594 - coeff_determination: 0.1879 - val_loss: 75.1952 - val_coeff_determination: 0.2832 - 162ms/epoch - 3ms/step\n",
            "Epoch 21/80\n",
            "60/60 - 0s - loss: 83.6631 - coeff_determination: 0.1356 - val_loss: 75.1307 - val_coeff_determination: 0.2694 - 165ms/epoch - 3ms/step\n",
            "Epoch 22/80\n",
            "60/60 - 0s - loss: 81.1176 - coeff_determination: 0.2368 - val_loss: 91.2441 - val_coeff_determination: 0.1175 - 159ms/epoch - 3ms/step\n",
            "Epoch 23/80\n",
            "60/60 - 0s - loss: 81.3910 - coeff_determination: 0.1376 - val_loss: 69.6111 - val_coeff_determination: 0.3594 - 160ms/epoch - 3ms/step\n",
            "Epoch 24/80\n",
            "60/60 - 0s - loss: 85.0702 - coeff_determination: 0.1383 - val_loss: 69.9511 - val_coeff_determination: 0.3444 - 181ms/epoch - 3ms/step\n",
            "Epoch 25/80\n",
            "60/60 - 0s - loss: 81.6548 - coeff_determination: 0.1435 - val_loss: 70.8144 - val_coeff_determination: 0.3337 - 162ms/epoch - 3ms/step\n",
            "Epoch 26/80\n",
            "60/60 - 0s - loss: 79.6306 - coeff_determination: 0.1877 - val_loss: 68.2515 - val_coeff_determination: 0.3616 - 144ms/epoch - 2ms/step\n",
            "Epoch 27/80\n",
            "60/60 - 0s - loss: 76.4914 - coeff_determination: 0.2502 - val_loss: 74.1654 - val_coeff_determination: 0.2888 - 157ms/epoch - 3ms/step\n",
            "Epoch 28/80\n",
            "60/60 - 0s - loss: 79.3501 - coeff_determination: 0.2357 - val_loss: 71.3583 - val_coeff_determination: 0.3295 - 157ms/epoch - 3ms/step\n",
            "Epoch 29/80\n",
            "60/60 - 0s - loss: 81.9515 - coeff_determination: 0.1391 - val_loss: 65.6146 - val_coeff_determination: 0.3927 - 172ms/epoch - 3ms/step\n",
            "Epoch 30/80\n",
            "60/60 - 0s - loss: 83.0367 - coeff_determination: 0.1437 - val_loss: 68.8442 - val_coeff_determination: 0.3573 - 154ms/epoch - 3ms/step\n",
            "Epoch 31/80\n",
            "60/60 - 0s - loss: 82.7147 - coeff_determination: 0.1832 - val_loss: 75.3596 - val_coeff_determination: 0.2718 - 165ms/epoch - 3ms/step\n",
            "Epoch 32/80\n",
            "60/60 - 0s - loss: 90.3341 - coeff_determination: 0.0469 - val_loss: 68.9298 - val_coeff_determination: 0.3754 - 158ms/epoch - 3ms/step\n",
            "Epoch 33/80\n",
            "60/60 - 0s - loss: 75.3045 - coeff_determination: 0.2300 - val_loss: 69.8742 - val_coeff_determination: 0.3575 - 167ms/epoch - 3ms/step\n",
            "Epoch 34/80\n",
            "60/60 - 0s - loss: 87.0851 - coeff_determination: 0.1423 - val_loss: 71.5031 - val_coeff_determination: 0.3311 - 158ms/epoch - 3ms/step\n",
            "Epoch 35/80\n",
            "60/60 - 0s - loss: 78.3894 - coeff_determination: 0.1472 - val_loss: 81.1533 - val_coeff_determination: 0.2326 - 152ms/epoch - 3ms/step\n",
            "Epoch 36/80\n",
            "60/60 - 0s - loss: 77.2177 - coeff_determination: 0.2684 - val_loss: 70.4133 - val_coeff_determination: 0.3400 - 160ms/epoch - 3ms/step\n",
            "Epoch 37/80\n",
            "60/60 - 0s - loss: 80.1988 - coeff_determination: 0.1357 - val_loss: 75.6348 - val_coeff_determination: 0.2865 - 140ms/epoch - 2ms/step\n",
            "Epoch 38/80\n",
            "60/60 - 0s - loss: 85.0690 - coeff_determination: 0.1061 - val_loss: 73.7501 - val_coeff_determination: 0.3107 - 161ms/epoch - 3ms/step\n",
            "Epoch 39/80\n",
            "60/60 - 0s - loss: 85.0013 - coeff_determination: 0.1426 - val_loss: 66.6190 - val_coeff_determination: 0.3981 - 162ms/epoch - 3ms/step\n",
            "Epoch 40/80\n",
            "60/60 - 0s - loss: 72.7882 - coeff_determination: 0.2345 - val_loss: 70.3293 - val_coeff_determination: 0.3421 - 150ms/epoch - 3ms/step\n",
            "Epoch 41/80\n",
            "60/60 - 0s - loss: 79.3297 - coeff_determination: 0.2143 - val_loss: 74.4950 - val_coeff_determination: 0.2901 - 160ms/epoch - 3ms/step\n",
            "Epoch 42/80\n",
            "60/60 - 0s - loss: 78.9877 - coeff_determination: 0.2129 - val_loss: 69.5260 - val_coeff_determination: 0.3521 - 149ms/epoch - 2ms/step\n",
            "Epoch 43/80\n",
            "60/60 - 0s - loss: 76.7370 - coeff_determination: 0.2456 - val_loss: 65.3604 - val_coeff_determination: 0.4026 - 166ms/epoch - 3ms/step\n",
            "Epoch 44/80\n",
            "60/60 - 0s - loss: 76.7418 - coeff_determination: 0.2339 - val_loss: 64.7749 - val_coeff_determination: 0.4191 - 155ms/epoch - 3ms/step\n",
            "Epoch 45/80\n",
            "60/60 - 0s - loss: 72.4847 - coeff_determination: 0.2585 - val_loss: 69.5963 - val_coeff_determination: 0.3412 - 143ms/epoch - 2ms/step\n",
            "Epoch 46/80\n",
            "60/60 - 0s - loss: 78.6464 - coeff_determination: 0.1414 - val_loss: 70.9129 - val_coeff_determination: 0.3311 - 148ms/epoch - 2ms/step\n",
            "Epoch 47/80\n",
            "60/60 - 0s - loss: 83.7896 - coeff_determination: 0.1289 - val_loss: 69.0140 - val_coeff_determination: 0.3534 - 149ms/epoch - 2ms/step\n",
            "Epoch 48/80\n",
            "60/60 - 0s - loss: 78.4868 - coeff_determination: 0.1758 - val_loss: 69.0525 - val_coeff_determination: 0.3497 - 165ms/epoch - 3ms/step\n",
            "Epoch 49/80\n",
            "60/60 - 0s - loss: 79.9434 - coeff_determination: 0.2215 - val_loss: 72.8290 - val_coeff_determination: 0.2965 - 159ms/epoch - 3ms/step\n",
            "Epoch 50/80\n",
            "60/60 - 0s - loss: 79.7585 - coeff_determination: 0.1598 - val_loss: 69.0466 - val_coeff_determination: 0.3557 - 169ms/epoch - 3ms/step\n",
            "Epoch 51/80\n",
            "60/60 - 0s - loss: 80.8885 - coeff_determination: 0.1595 - val_loss: 73.5464 - val_coeff_determination: 0.3137 - 158ms/epoch - 3ms/step\n",
            "Epoch 52/80\n",
            "60/60 - 0s - loss: 74.4550 - coeff_determination: 0.2530 - val_loss: 66.3064 - val_coeff_determination: 0.3960 - 174ms/epoch - 3ms/step\n",
            "Epoch 53/80\n",
            "60/60 - 0s - loss: 78.7075 - coeff_determination: 0.1849 - val_loss: 74.1484 - val_coeff_determination: 0.2884 - 160ms/epoch - 3ms/step\n",
            "Epoch 54/80\n",
            "60/60 - 0s - loss: 81.4988 - coeff_determination: 0.1885 - val_loss: 72.5548 - val_coeff_determination: 0.3063 - 151ms/epoch - 3ms/step\n",
            "Epoch 55/80\n",
            "60/60 - 0s - loss: 75.0698 - coeff_determination: 0.2375 - val_loss: 70.8142 - val_coeff_determination: 0.3327 - 163ms/epoch - 3ms/step\n",
            "Epoch 56/80\n",
            "60/60 - 0s - loss: 78.2908 - coeff_determination: 0.2212 - val_loss: 68.2115 - val_coeff_determination: 0.3681 - 174ms/epoch - 3ms/step\n",
            "Epoch 57/80\n",
            "60/60 - 0s - loss: 79.2944 - coeff_determination: 0.1819 - val_loss: 69.6825 - val_coeff_determination: 0.3341 - 174ms/epoch - 3ms/step\n",
            "Epoch 58/80\n",
            "60/60 - 0s - loss: 77.9811 - coeff_determination: 0.1925 - val_loss: 72.0635 - val_coeff_determination: 0.3152 - 161ms/epoch - 3ms/step\n",
            "Epoch 59/80\n",
            "60/60 - 0s - loss: 80.6775 - coeff_determination: 0.1856 - val_loss: 68.3211 - val_coeff_determination: 0.3750 - 146ms/epoch - 2ms/step\n",
            "Epoch 60/80\n",
            "60/60 - 0s - loss: 81.1702 - coeff_determination: 0.1341 - val_loss: 72.3474 - val_coeff_determination: 0.3166 - 151ms/epoch - 3ms/step\n",
            "Epoch 61/80\n",
            "60/60 - 0s - loss: 79.9753 - coeff_determination: 0.1733 - val_loss: 67.0587 - val_coeff_determination: 0.3826 - 154ms/epoch - 3ms/step\n",
            "Epoch 62/80\n",
            "60/60 - 0s - loss: 76.1687 - coeff_determination: 0.2328 - val_loss: 73.6609 - val_coeff_determination: 0.2858 - 149ms/epoch - 2ms/step\n",
            "Epoch 63/80\n",
            "60/60 - 0s - loss: 74.1095 - coeff_determination: 0.2433 - val_loss: 73.7216 - val_coeff_determination: 0.2996 - 152ms/epoch - 3ms/step\n",
            "Epoch 64/80\n",
            "60/60 - 0s - loss: 74.7681 - coeff_determination: 0.2682 - val_loss: 73.5513 - val_coeff_determination: 0.3053 - 144ms/epoch - 2ms/step\n",
            "Epoch 65/80\n",
            "60/60 - 0s - loss: 78.8054 - coeff_determination: 0.1753 - val_loss: 64.1390 - val_coeff_determination: 0.4058 - 143ms/epoch - 2ms/step\n",
            "Epoch 66/80\n",
            "60/60 - 0s - loss: 73.7661 - coeff_determination: 0.2989 - val_loss: 72.1837 - val_coeff_determination: 0.3177 - 156ms/epoch - 3ms/step\n",
            "Epoch 67/80\n",
            "60/60 - 0s - loss: 73.9473 - coeff_determination: 0.2082 - val_loss: 73.2335 - val_coeff_determination: 0.2941 - 144ms/epoch - 2ms/step\n",
            "Epoch 68/80\n",
            "60/60 - 0s - loss: 78.3456 - coeff_determination: 0.2377 - val_loss: 69.1663 - val_coeff_determination: 0.3370 - 181ms/epoch - 3ms/step\n",
            "Epoch 69/80\n",
            "60/60 - 0s - loss: 75.6399 - coeff_determination: 0.2634 - val_loss: 75.9785 - val_coeff_determination: 0.2499 - 161ms/epoch - 3ms/step\n",
            "Epoch 70/80\n",
            "60/60 - 0s - loss: 82.0187 - coeff_determination: 0.1713 - val_loss: 70.1426 - val_coeff_determination: 0.3288 - 175ms/epoch - 3ms/step\n",
            "Epoch 71/80\n",
            "60/60 - 0s - loss: 79.7074 - coeff_determination: 0.1903 - val_loss: 73.0600 - val_coeff_determination: 0.2978 - 176ms/epoch - 3ms/step\n",
            "Epoch 72/80\n",
            "60/60 - 0s - loss: 74.7322 - coeff_determination: 0.2330 - val_loss: 69.4312 - val_coeff_determination: 0.3670 - 155ms/epoch - 3ms/step\n",
            "Epoch 73/80\n",
            "60/60 - 0s - loss: 75.1217 - coeff_determination: 0.2232 - val_loss: 72.7632 - val_coeff_determination: 0.3038 - 145ms/epoch - 2ms/step\n",
            "Epoch 74/80\n",
            "60/60 - 0s - loss: 70.7034 - coeff_determination: 0.2968 - val_loss: 72.1548 - val_coeff_determination: 0.3259 - 152ms/epoch - 3ms/step\n",
            "Epoch 75/80\n",
            "60/60 - 0s - loss: 76.7957 - coeff_determination: 0.2717 - val_loss: 67.0691 - val_coeff_determination: 0.3767 - 150ms/epoch - 2ms/step\n",
            "Epoch 76/80\n",
            "60/60 - 0s - loss: 77.5397 - coeff_determination: 0.2239 - val_loss: 70.1363 - val_coeff_determination: 0.3356 - 147ms/epoch - 2ms/step\n",
            "Epoch 77/80\n",
            "60/60 - 0s - loss: 77.2547 - coeff_determination: 0.1966 - val_loss: 65.9686 - val_coeff_determination: 0.3871 - 142ms/epoch - 2ms/step\n",
            "Epoch 78/80\n",
            "WARNING:tensorflow:Your input ran out of data; interrupting training. Make sure that your dataset or generator can generate at least `steps_per_epoch * epochs` batches (in this case, 4800 batches). You may need to use the repeat() function when building your dataset.\n",
            "60/60 - 0s - loss: 77.9496 - coeff_determination: 0.2561 - val_loss: 68.1909 - val_coeff_determination: 0.3627 - 115ms/epoch - 2ms/step\n"
          ]
        }
      ]
    },
    {
      "cell_type": "code",
      "metadata": {
        "id": "04ugJnzVlhgC",
        "outputId": "8c280b69-8863-4840-a80d-1a0d92f1a9c2",
        "colab": {
          "base_uri": "https://localhost:8080/",
          "height": 500
        }
      },
      "source": [
        "pd.DataFrame(history.history).plot(figsize=(12, 8))"
      ],
      "execution_count": 108,
      "outputs": [
        {
          "output_type": "execute_result",
          "data": {
            "text/plain": [
              "<matplotlib.axes._subplots.AxesSubplot at 0x7f70a4e0bb10>"
            ]
          },
          "metadata": {},
          "execution_count": 108
        },
        {
          "output_type": "display_data",
          "data": {
            "image/png": "[encoded data removed]",
            "text/plain": [
              "<Figure size 864x576 with 1 Axes>"
            ]
          },
          "metadata": {
            "needs_background": "light"
          }
        }
      ]
    },
    {
      "cell_type": "code",
      "metadata": {
        "id": "biFUuFOEZ5QK",
        "colab": {
          "base_uri": "https://localhost:8080/",
          "height": 483
        },
        "outputId": "8b21076d-743d-4b09-f8fb-23fab306fd94"
      },
      "source": [
        "data = pd.DataFrame(history.history)\n",
        "data[\"val_coeff_determination\"].plot(figsize=(12, 8))\n",
        "data[\"coeff_determination\"].plot(figsize=(12, 8))\n",
        "plt.grid(True)"
      ],
      "execution_count": 109,
      "outputs": [
        {
          "output_type": "display_data",
          "data": {
            "image/png": "[encoded data removed]",
            "text/plain": [
              "<Figure size 864x576 with 1 Axes>"
            ]
          },
          "metadata": {
            "needs_background": "light"
          }
        }
      ]
    },
    {
      "cell_type": "code",
      "metadata": {
        "id": "EhnP133ZEs3A"
      },
      "source": [
        ""
      ],
      "execution_count": 99,
      "outputs": []
    },
    {
      "cell_type": "code",
      "metadata": {
        "id": "ZHHhn_0aaXSq",
        "colab": {
          "base_uri": "https://localhost:8080/",
          "height": 198
        },
        "outputId": "dc9b3ff9-b64b-4120-fac0-69cf49d3bd8c"
      },
      "source": [
        "y_pred = firANN.predict(X_valid)\n",
        "r_score = r2_score(y_valid, y_pred)\n",
        "print(\"Validation score:\", r_score)"
      ],
      "execution_count": 100,
      "outputs": [
        {
          "output_type": "error",
          "ename": "NameError",
          "evalue": "ignored",
          "traceback": [
            "\u001b[0;31m---------------------------------------------------------------------------\u001b[0m",
            "\u001b[0;31mNameError\u001b[0m                                 Traceback (most recent call last)",
            "\u001b[0;32m<ipython-input-100-7aa5879f4024>\u001b[0m in \u001b[0;36m<module>\u001b[0;34m()\u001b[0m\n\u001b[0;32m----> 1\u001b[0;31m \u001b[0my_pred\u001b[0m \u001b[0;34m=\u001b[0m \u001b[0mfirANN\u001b[0m\u001b[0;34m.\u001b[0m\u001b[0mpredict\u001b[0m\u001b[0;34m(\u001b[0m\u001b[0mX_valid\u001b[0m\u001b[0;34m)\u001b[0m\u001b[0;34m\u001b[0m\u001b[0;34m\u001b[0m\u001b[0m\n\u001b[0m\u001b[1;32m      2\u001b[0m \u001b[0mr_score\u001b[0m \u001b[0;34m=\u001b[0m \u001b[0mr2_score\u001b[0m\u001b[0;34m(\u001b[0m\u001b[0my_valid\u001b[0m\u001b[0;34m,\u001b[0m \u001b[0my_pred\u001b[0m\u001b[0;34m)\u001b[0m\u001b[0;34m\u001b[0m\u001b[0;34m\u001b[0m\u001b[0m\n\u001b[1;32m      3\u001b[0m \u001b[0mprint\u001b[0m\u001b[0;34m(\u001b[0m\u001b[0;34m\"Validation score:\"\u001b[0m\u001b[0;34m,\u001b[0m \u001b[0mr_score\u001b[0m\u001b[0;34m)\u001b[0m\u001b[0;34m\u001b[0m\u001b[0;34m\u001b[0m\u001b[0m\n",
            "\u001b[0;31mNameError\u001b[0m: name 'firANN' is not defined"
          ]
        }
      ]
    },
    {
      "cell_type": "markdown",
      "metadata": {
        "id": "XHIMBLLWdfYr"
      },
      "source": [
        "## 5.1 KernelRidgeRegression\n",
        "Not good at all. Best score ~0.2"
      ]
    },
    {
      "cell_type": "code",
      "metadata": {
        "id": "QU8Q7CETdfYr"
      },
      "source": [
        "# model = KernelRidge()\n",
        "# parameters = {'alpha':[0.01, 0.05, 0.1, 0.2, 0.5, 0.8, 1.0, 3.0, 5.0], 'kernel':['chi2', 'rbf', 'sigmoid', 'laplacian'], 'gamma':[0.1, 1, 5, 10]}\n",
        "# grid = GridSearchCV(model, parameters, scoring='r2', cv=5, verbose=3, n_jobs=-1)\n",
        "# grid.fit(X_train, y_train.ravel())\n",
        "# print(grid.best_estimator_)\n",
        "# print(grid.best_score_)\n",
        "\n",
        "# y_pred = grid.predict(X_valid)\n",
        "# r_score = r2_score(y_valid, y_pred)\n",
        "# print(\"Validation score:\", r_score)"
      ],
      "execution_count": null,
      "outputs": []
    },
    {
      "cell_type": "markdown",
      "metadata": {
        "id": "-FPMn0jOdfYr"
      },
      "source": [
        "## 5.2 ExtraTreesRegression"
      ]
    },
    {
      "cell_type": "code",
      "metadata": {
        "id": "zthBRwH_dfYs"
      },
      "source": [
        "# model = ExtraTreesRegressor()\n",
        "# parameters = {'n_estimators':[100, 125, 150, 175, 200, 300, 325, 350,400], 'min_samples_split':[2, 3, 4]}\n",
        "# grid = GridSearchCV(model, parameters, scoring='r2', cv=5, verbose=3, n_jobs=-1)\n",
        "# grid.fit(X_train, y_train)\n",
        "# print(grid.best_estimator_)\n",
        "# print(grid.best_score_)\n",
        "\n",
        "# y_pred = grid.predict(X_valid)\n",
        "# r_score = r2_score(y_valid, y_pred)\n",
        "# print(\"Validation score:\", r_score)"
      ],
      "execution_count": null,
      "outputs": []
    },
    {
      "cell_type": "markdown",
      "metadata": {
        "id": "RQGOgd3OdfYs"
      },
      "source": [
        "## 5.3 RandomForestRegression"
      ]
    },
    {
      "cell_type": "code",
      "metadata": {
        "id": "xSshk4rtdfYs"
      },
      "source": [
        "model = RandomForestRegressor()\n",
        "parameters = {'n_estimators':[200, 300, 325, 350, 400, 430, 450, 500], 'min_samples_split':[2, 3, 4, 5]}\n",
        "grid = GridSearchCV(model, parameters, scoring='r2', verbose=1, cv=5, n_jobs=-1)\n",
        "grid.fit(X_train, y_train.ravel())\n",
        "print(grid.best_estimator_)\n",
        "print(grid.best_score_)\n",
        "\n",
        "y_pred = grid.predict(X_valid)\n",
        "r_score = r2_score(y_valid, y_pred)\n",
        "print(\"Validation score:\", r_score)\n"
      ],
      "execution_count": null,
      "outputs": []
    },
    {
      "cell_type": "code",
      "metadata": {
        "id": "LdH88kvcdfYt"
      },
      "source": [
        "# estimator2 = grid.best_estimator_\n",
        "# selector2 = SelectFromModel(estimator2, max_features=150, threshold=\"mean\")\n",
        "# selector2 = selector2.fit(X_data_2, y_data.ravel())\n",
        "# X_data_3 = selector2.transform(X_data_2)\n",
        "# X_test_3 = selector2.transform(X_test_2)\n",
        "\n",
        "# X_train, X_valid, y_train, y_valid = train_test_split(X_data_3, y_data, test_size=0.2, random_state=1)\n",
        "# print(\"X_train shape: \", X_train.shape)\n",
        "\n",
        "# rfr = estimator2.fit(X_train, y_train.ravel())\n",
        "# y_pred = rfr.predict(X_valid)\n",
        "# r_score = r2_score(y_valid,y_pred)\n",
        "# print(\"Validation score:\", r_score)\n"
      ],
      "execution_count": null,
      "outputs": []
    },
    {
      "cell_type": "code",
      "metadata": {
        "id": "ZfalK3gldfYt"
      },
      "source": [
        "rfr = estimator.fit(X_train, y_train)\n",
        "y_pred = rfr.predict(X_valid)\n",
        "r_score = r2_score(y_valid,y_pred)\n",
        "print(\"Validation score:\", r_score)"
      ],
      "execution_count": null,
      "outputs": []
    },
    {
      "cell_type": "markdown",
      "metadata": {
        "id": "YJqkvh0ldfYt"
      },
      "source": [
        "## 5.4 SupportVectorRegression\n",
        "score ~ 0.5"
      ]
    },
    {
      "cell_type": "code",
      "metadata": {
        "id": "ZWnZvVUydfYu"
      },
      "source": [
        "# model = SVR()\n",
        "# parameters = {'kernel':['sigmoid', 'rbf', 'poly'], 'degree':[3, 4, 5, 7, 9], 'gamma':[0.005, 0.01, 0.05, 0.1, 1], 'C':[0.01, 0.05, 0.1, 1, 2]}\n",
        "# grid = GridSearchCV(model, parameters, scoring='r2', cv=5, verbose=1, n_jobs=8)\n",
        "# grid.fit(X_train, y_train.ravel())\n",
        "# print(grid.best_estimator_)\n",
        "# print(grid.best_score_)\n",
        "\n",
        "# y_pred = grid.predict(X_valid)\n",
        "# r_score = r2_score(y_valid, y_pred)\n",
        "# print(\"Validation score:\", r_score)"
      ],
      "execution_count": null,
      "outputs": []
    },
    {
      "cell_type": "markdown",
      "metadata": {
        "id": "xetUrkygdfYu"
      },
      "source": [
        "# 6. Export the prediction"
      ]
    },
    {
      "cell_type": "code",
      "metadata": {
        "id": "vORmNt23dfYu"
      },
      "source": [
        "# rfr = grid.best_estimator_\n",
        "rfr = XGB_reg.fit(X_data_3, y_data.ravel())\n",
        "\n",
        "y_test = rfr.predict(X_test_3)\n",
        "data_id = X_df['id']\n",
        "result = list(zip(data_id,y_test))\n",
        "result_table = pd.DataFrame(data = result, columns = ['id', 'y'])\n",
        "result_table.tail()\n",
        "result_table.to_csv('rfr7.csv', index = False)"
      ],
      "execution_count": null,
      "outputs": []
    }
  ]
}
