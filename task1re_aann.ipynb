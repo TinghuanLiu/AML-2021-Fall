{
  "nbformat": 4,
  "nbformat_minor": 0,
  "metadata": {
    "interpreter": {
      "hash": "11d2696aa44a2f0a370d91ea6517e7b889927749bc2cd16347a8ce4083dc1b7d"
    },
    "kernelspec": {
      "display_name": "Python 3.9.5 64-bit ('base': conda)",
      "name": "python3"
    },
    "language_info": {
      "codemirror_mode": {
        "name": "ipython",
        "version": 3
      },
      "file_extension": ".py",
      "mimetype": "text/x-python",
      "name": "python",
      "nbconvert_exporter": "python",
      "pygments_lexer": "ipython3",
      "version": "3.9.5"
    },
    "orig_nbformat": 4,
    "colab": {
      "name": "task1re.ipynb",
      "provenance": [],
      "collapsed_sections": []
    }
  },
  "cells": [
    {
      "cell_type": "code",
      "metadata": {
        "id": "ooW5LQ6rdfYK"
      },
      "source": [
        "import pandas as pd\n",
        "from sklearn.model_selection import train_test_split\n",
        "from sklearn.ensemble import IsolationForest\n",
        "from sklearn.feature_selection import SelectKBest, chi2, RFECV, RFE, SelectFromModel\n",
        "from sklearn.impute import KNNImputer\n",
        "from sklearn.preprocessing import MinMaxScaler, StandardScaler, RobustScaler\n",
        "from sklearn.kernel_ridge import KernelRidge\n",
        "from sklearn.ensemble import RandomForestRegressor\n",
        "from sklearn.ensemble import ExtraTreesRegressor\n",
        "from sklearn.svm import SVR\n",
        "from sklearn.model_selection import GridSearchCV\n",
        "from sklearn.metrics import r2_score\n",
        "import matplotlib.pyplot as plt\n",
        "import numpy as np"
      ],
      "execution_count": 30,
      "outputs": []
    },
    {
      "cell_type": "code",
      "metadata": {
        "colab": {
          "base_uri": "https://localhost:8080/"
        },
        "id": "ZpezHrtfk1Ah",
        "outputId": "007d5009-df26-40a9-9f0a-8b1c249537ff"
      },
      "source": [
        "from google.colab import drive\n",
        "drive.mount('/content/drive')"
      ],
      "execution_count": 31,
      "outputs": [
        {
          "output_type": "stream",
          "name": "stdout",
          "text": [
            "Drive already mounted at /content/drive; to attempt to forcibly remount, call drive.mount(\"/content/drive\", force_remount=True).\n"
          ]
        }
      ]
    },
    {
      "cell_type": "markdown",
      "metadata": {
        "id": "IALC37a0dfYS"
      },
      "source": [
        "# 1. Load training data and test data"
      ]
    },
    {
      "cell_type": "markdown",
      "metadata": {
        "id": "pxlxT0E1dfYq"
      },
      "source": [
        "# 5. Model Selection"
      ]
    },
    {
      "cell_type": "code",
      "metadata": {
        "id": "Y9mYwdJxs1Aa"
      },
      "source": [
        "X_data_3 = pd.read_csv('/content/drive/MyDrive/AML/task1/RandomForest_features_train.csv') # df stands for dataframe\n",
        "y_data = pd.read_csv('/content/drive/MyDrive/AML/task1/RandomForest_target_train.csv')\n",
        "X_test = pd.read_csv('/content/drive/MyDrive/AML/task1/RandomForest_features_test.csv')"
      ],
      "execution_count": 32,
      "outputs": []
    },
    {
      "cell_type": "code",
      "metadata": {
        "id": "yMwnxwaidfYq",
        "colab": {
          "base_uri": "https://localhost:8080/"
        },
        "outputId": "ac56743f-8b64-4234-b002-3133e2835c70"
      },
      "source": [
        "X_train, X_valid, y_train, y_valid = train_test_split(X_data_3, y_data, test_size=0.2, random_state=1)\n",
        "print(\"X_train shape: \", X_train.shape)"
      ],
      "execution_count": 33,
      "outputs": [
        {
          "output_type": "stream",
          "name": "stdout",
          "text": [
            "X_train shape:  (959, 70)\n"
          ]
        }
      ]
    },
    {
      "cell_type": "markdown",
      "metadata": {
        "id": "lMVwbmTRPc4-"
      },
      "source": [
        "## ANN"
      ]
    },
    {
      "cell_type": "code",
      "metadata": {
        "id": "xDunWMYpPfVI"
      },
      "source": [
        "import tensorflow as tf\n",
        "from tensorflow import keras\n",
        "from tensorflow.keras import regularizers"
      ],
      "execution_count": 34,
      "outputs": []
    },
    {
      "cell_type": "code",
      "metadata": {
        "id": "gu8GU5JvBS4A"
      },
      "source": [
        "from keras.models import Sequential\n",
        "from keras.layers import Dense\n",
        "from keras.layers import LeakyReLU\n",
        "from keras.layers import Dropout\n",
        "from keras import regularizers\n",
        "# fix random seed for reproducibility\n",
        "\n",
        "def coeff_determination(y_true, y_pred):\n",
        "    from keras import backend as K\n",
        "    SS_res =  K.sum(K.square( y_true-y_pred ))\n",
        "    SS_tot = K.sum(K.square( y_true - K.mean(y_true) ) )\n",
        "    return ( 1 - SS_res/(SS_tot + K.epsilon()) )"
      ],
      "execution_count": 35,
      "outputs": []
    },
    {
      "cell_type": "code",
      "metadata": {
        "id": "ORyrtHMjPgca",
        "colab": {
          "base_uri": "https://localhost:8080/"
        },
        "outputId": "acb78bed-3ed2-4405-c1f1-227fb61ef6ab"
      },
      "source": [
        "dropout=0.1\n",
        "\n",
        "model = Sequential()\n",
        "model.add(Dense(30, input_dim=X_train.shape[1], kernel_regularizer = regularizers.l2(1), kernel_initializer='he_uniform'))\n",
        "model.add(LeakyReLU(alpha=0.1))\n",
        "model.add(Dropout(rate = dropout))\n",
        "model.add(Dense(30, input_dim=72, kernel_regularizer = regularizers.l2(1), kernel_initializer='he_uniform'))\n",
        "model.add(LeakyReLU(alpha=0.1))\n",
        "model.add(Dropout(rate = dropout))\n",
        "model.add(Dense(30, input_dim=72, kernel_regularizer = regularizers.l2(1), kernel_initializer='he_uniform'))\n",
        "model.add(LeakyReLU(alpha=0.1))\n",
        "model.add(Dropout(rate = dropout))\n",
        "model.add(Dense(30, input_dim=72, kernel_regularizer = regularizers.l2(1), kernel_initializer='he_uniform'))\n",
        "model.add(LeakyReLU(alpha=0.1))\n",
        "model.add(Dropout(rate = dropout))\n",
        "model.add(Dense(30, input_dim=72, kernel_regularizer = regularizers.l2(1), kernel_initializer='he_uniform'))\n",
        "model.add(LeakyReLU(alpha=0.1))\n",
        "model.add(Dropout(rate = dropout))\n",
        "model.add(Dense(30, input_dim=72, kernel_regularizer = regularizers.l2(1), kernel_initializer='he_uniform'))\n",
        "model.add(LeakyReLU(alpha=0.1))\n",
        "model.add(Dropout(rate = dropout))\n",
        "\n",
        "model.add(Dense(1, kernel_initializer='he_uniform'))\n",
        "# Compile model\n",
        "opt = keras.optimizers.Adam(lr=0.005, beta_1=0.9, beta_2=0.999, epsilon=None, decay=0.0, amsgrad=False)\n",
        "\n",
        "model.compile(loss='mean_squared_error', optimizer=opt, metrics=[coeff_determination])"
      ],
      "execution_count": 36,
      "outputs": [
        {
          "output_type": "stream",
          "name": "stderr",
          "text": [
            "/usr/local/lib/python3.7/dist-packages/keras/optimizer_v2/adam.py:105: UserWarning: The `lr` argument is deprecated, use `learning_rate` instead.\n",
            "  super(Adam, self).__init__(name, **kwargs)\n"
          ]
        }
      ]
    },
    {
      "cell_type": "code",
      "metadata": {
        "colab": {
          "base_uri": "https://localhost:8080/"
        },
        "id": "ejd-xbQdPnrp",
        "outputId": "833c7676-773c-418b-a378-1937ba00414f"
      },
      "source": [
        "model.summary()"
      ],
      "execution_count": 37,
      "outputs": [
        {
          "output_type": "stream",
          "name": "stdout",
          "text": [
            "Model: \"sequential_1\"\n",
            "_________________________________________________________________\n",
            " Layer (type)                Output Shape              Param #   \n",
            "=================================================================\n",
            " dense_7 (Dense)             (None, 30)                2130      \n",
            "                                                                 \n",
            " leaky_re_lu_6 (LeakyReLU)   (None, 30)                0         \n",
            "                                                                 \n",
            " dropout_6 (Dropout)         (None, 30)                0         \n",
            "                                                                 \n",
            " dense_8 (Dense)             (None, 30)                930       \n",
            "                                                                 \n",
            " leaky_re_lu_7 (LeakyReLU)   (None, 30)                0         \n",
            "                                                                 \n",
            " dropout_7 (Dropout)         (None, 30)                0         \n",
            "                                                                 \n",
            " dense_9 (Dense)             (None, 30)                930       \n",
            "                                                                 \n",
            " leaky_re_lu_8 (LeakyReLU)   (None, 30)                0         \n",
            "                                                                 \n",
            " dropout_8 (Dropout)         (None, 30)                0         \n",
            "                                                                 \n",
            " dense_10 (Dense)            (None, 30)                930       \n",
            "                                                                 \n",
            " leaky_re_lu_9 (LeakyReLU)   (None, 30)                0         \n",
            "                                                                 \n",
            " dropout_9 (Dropout)         (None, 30)                0         \n",
            "                                                                 \n",
            " dense_11 (Dense)            (None, 30)                930       \n",
            "                                                                 \n",
            " leaky_re_lu_10 (LeakyReLU)  (None, 30)                0         \n",
            "                                                                 \n",
            " dropout_10 (Dropout)        (None, 30)                0         \n",
            "                                                                 \n",
            " dense_12 (Dense)            (None, 30)                930       \n",
            "                                                                 \n",
            " leaky_re_lu_11 (LeakyReLU)  (None, 30)                0         \n",
            "                                                                 \n",
            " dropout_11 (Dropout)        (None, 30)                0         \n",
            "                                                                 \n",
            " dense_13 (Dense)            (None, 1)                 31        \n",
            "                                                                 \n",
            "=================================================================\n",
            "Total params: 6,811\n",
            "Trainable params: 6,811\n",
            "Non-trainable params: 0\n",
            "_________________________________________________________________\n"
          ]
        }
      ]
    },
    {
      "cell_type": "code",
      "metadata": {
        "colab": {
          "base_uri": "https://localhost:8080/"
        },
        "id": "TsXBu6YKPrhk",
        "outputId": "51141d8f-294d-484e-efc4-cf7c4b3a7fd6"
      },
      "source": [
        "# Fit the model\n",
        "history = model.fit(X_train, y_train, epochs=80, verbose=2, validation_split=0.1,\n",
        "                    shuffle=True, steps_per_epoch=60, initial_epoch=0, validation_steps=5)"
      ],
      "execution_count": 38,
      "outputs": [
        {
          "output_type": "stream",
          "name": "stdout",
          "text": [
            "Epoch 1/80\n",
            "60/60 - 1s - loss: 2353.4194 - coeff_determination: -2.3816e+01 - val_loss: 806.2446 - val_coeff_determination: -4.5593e+00 - 1s/epoch - 25ms/step\n",
            "Epoch 2/80\n",
            "60/60 - 0s - loss: 768.8040 - coeff_determination: -5.1843e+00 - val_loss: 451.3792 - val_coeff_determination: -7.7484e-01 - 192ms/epoch - 3ms/step\n",
            "Epoch 3/80\n",
            "60/60 - 0s - loss: 588.7427 - coeff_determination: -3.0802e+00 - val_loss: 393.0356 - val_coeff_determination: -3.6807e-01 - 212ms/epoch - 4ms/step\n",
            "Epoch 4/80\n",
            "60/60 - 0s - loss: 500.6831 - coeff_determination: -1.8911e+00 - val_loss: 336.4132 - val_coeff_determination: 0.0498 - 225ms/epoch - 4ms/step\n",
            "Epoch 5/80\n",
            "60/60 - 0s - loss: 465.8874 - coeff_determination: -1.7589e+00 - val_loss: 307.3650 - val_coeff_determination: 0.1874 - 201ms/epoch - 3ms/step\n",
            "Epoch 6/80\n",
            "60/60 - 0s - loss: 419.0119 - coeff_determination: -1.4831e+00 - val_loss: 283.0840 - val_coeff_determination: 0.2750 - 188ms/epoch - 3ms/step\n",
            "Epoch 7/80\n",
            "60/60 - 0s - loss: 373.4423 - coeff_determination: -9.2912e-01 - val_loss: 254.4678 - val_coeff_determination: 0.4374 - 168ms/epoch - 3ms/step\n",
            "Epoch 8/80\n",
            "60/60 - 0s - loss: 355.3762 - coeff_determination: -1.0960e+00 - val_loss: 273.9539 - val_coeff_determination: 0.0500 - 192ms/epoch - 3ms/step\n",
            "Epoch 9/80\n",
            "60/60 - 0s - loss: 330.8222 - coeff_determination: -7.1023e-01 - val_loss: 241.5223 - val_coeff_determination: 0.2787 - 173ms/epoch - 3ms/step\n",
            "Epoch 10/80\n",
            "60/60 - 0s - loss: 314.0995 - coeff_determination: -1.1567e+00 - val_loss: 232.1263 - val_coeff_determination: 0.2431 - 168ms/epoch - 3ms/step\n",
            "Epoch 11/80\n",
            "60/60 - 0s - loss: 284.6469 - coeff_determination: -5.0518e-01 - val_loss: 212.5116 - val_coeff_determination: 0.3451 - 197ms/epoch - 3ms/step\n",
            "Epoch 12/80\n",
            "60/60 - 0s - loss: 286.9221 - coeff_determination: -7.9078e-01 - val_loss: 202.6886 - val_coeff_determination: 0.3460 - 171ms/epoch - 3ms/step\n",
            "Epoch 13/80\n",
            "60/60 - 0s - loss: 278.9053 - coeff_determination: -8.3085e-01 - val_loss: 184.9733 - val_coeff_determination: 0.4391 - 186ms/epoch - 3ms/step\n",
            "Epoch 14/80\n",
            "60/60 - 0s - loss: 258.6342 - coeff_determination: -6.5138e-01 - val_loss: 173.7952 - val_coeff_determination: 0.4742 - 186ms/epoch - 3ms/step\n",
            "Epoch 15/80\n",
            "60/60 - 0s - loss: 258.5067 - coeff_determination: -7.6423e-01 - val_loss: 167.2620 - val_coeff_determination: 0.4634 - 162ms/epoch - 3ms/step\n",
            "Epoch 16/80\n",
            "60/60 - 0s - loss: 233.8865 - coeff_determination: -4.3952e-01 - val_loss: 159.2488 - val_coeff_determination: 0.4708 - 178ms/epoch - 3ms/step\n",
            "Epoch 17/80\n",
            "60/60 - 0s - loss: 232.4478 - coeff_determination: -5.6249e-01 - val_loss: 180.0036 - val_coeff_determination: 0.1454 - 185ms/epoch - 3ms/step\n",
            "Epoch 18/80\n",
            "60/60 - 0s - loss: 212.8472 - coeff_determination: -4.4288e-01 - val_loss: 152.1385 - val_coeff_determination: 0.3829 - 182ms/epoch - 3ms/step\n",
            "Epoch 19/80\n",
            "60/60 - 0s - loss: 209.8082 - coeff_determination: -4.1812e-01 - val_loss: 153.1145 - val_coeff_determination: 0.3138 - 162ms/epoch - 3ms/step\n",
            "Epoch 20/80\n",
            "60/60 - 0s - loss: 210.2397 - coeff_determination: -6.7731e-01 - val_loss: 137.1018 - val_coeff_determination: 0.4345 - 170ms/epoch - 3ms/step\n",
            "Epoch 21/80\n",
            "60/60 - 0s - loss: 197.1825 - coeff_determination: -4.8177e-01 - val_loss: 128.1954 - val_coeff_determination: 0.4851 - 178ms/epoch - 3ms/step\n",
            "Epoch 22/80\n",
            "60/60 - 0s - loss: 179.4333 - coeff_determination: -1.3157e-01 - val_loss: 125.5688 - val_coeff_determination: 0.4537 - 192ms/epoch - 3ms/step\n",
            "Epoch 23/80\n",
            "60/60 - 0s - loss: 180.2927 - coeff_determination: -4.4446e-01 - val_loss: 121.0876 - val_coeff_determination: 0.4544 - 165ms/epoch - 3ms/step\n",
            "Epoch 24/80\n",
            "60/60 - 0s - loss: 191.5986 - coeff_determination: -5.2748e-01 - val_loss: 118.9561 - val_coeff_determination: 0.4244 - 174ms/epoch - 3ms/step\n",
            "Epoch 25/80\n",
            "60/60 - 0s - loss: 173.3500 - coeff_determination: -3.1487e-01 - val_loss: 113.4065 - val_coeff_determination: 0.4516 - 195ms/epoch - 3ms/step\n",
            "Epoch 26/80\n",
            "60/60 - 0s - loss: 171.8708 - coeff_determination: -4.6254e-01 - val_loss: 107.4827 - val_coeff_determination: 0.4708 - 184ms/epoch - 3ms/step\n",
            "Epoch 27/80\n",
            "60/60 - 0s - loss: 152.1129 - coeff_determination: -1.0543e-01 - val_loss: 103.3966 - val_coeff_determination: 0.4805 - 161ms/epoch - 3ms/step\n",
            "Epoch 28/80\n",
            "60/60 - 0s - loss: 149.5123 - coeff_determination: -1.8013e-01 - val_loss: 121.1534 - val_coeff_determination: 0.2311 - 194ms/epoch - 3ms/step\n",
            "Epoch 29/80\n",
            "60/60 - 0s - loss: 144.4363 - coeff_determination: -1.7050e-01 - val_loss: 102.7395 - val_coeff_determination: 0.4034 - 192ms/epoch - 3ms/step\n",
            "Epoch 30/80\n",
            "60/60 - 0s - loss: 138.5744 - coeff_determination: -1.8022e-01 - val_loss: 105.2077 - val_coeff_determination: 0.3463 - 171ms/epoch - 3ms/step\n",
            "Epoch 31/80\n",
            "60/60 - 0s - loss: 142.9296 - coeff_determination: -1.3658e-01 - val_loss: 93.9497 - val_coeff_determination: 0.4568 - 193ms/epoch - 3ms/step\n",
            "Epoch 32/80\n",
            "60/60 - 0s - loss: 137.7654 - coeff_determination: -1.8875e-01 - val_loss: 92.8444 - val_coeff_determination: 0.4406 - 173ms/epoch - 3ms/step\n",
            "Epoch 33/80\n",
            "60/60 - 0s - loss: 134.4424 - coeff_determination: -9.9665e-02 - val_loss: 88.9401 - val_coeff_determination: 0.4576 - 173ms/epoch - 3ms/step\n",
            "Epoch 34/80\n",
            "60/60 - 0s - loss: 132.0786 - coeff_determination: -1.5773e-01 - val_loss: 85.2136 - val_coeff_determination: 0.4754 - 179ms/epoch - 3ms/step\n",
            "Epoch 35/80\n",
            "60/60 - 0s - loss: 130.4241 - coeff_determination: -7.9539e-02 - val_loss: 81.0017 - val_coeff_determination: 0.5027 - 217ms/epoch - 4ms/step\n",
            "Epoch 36/80\n",
            "60/60 - 0s - loss: 126.6479 - coeff_determination: -1.6130e-01 - val_loss: 80.7774 - val_coeff_determination: 0.4866 - 186ms/epoch - 3ms/step\n",
            "Epoch 37/80\n",
            "60/60 - 0s - loss: 132.1679 - coeff_determination: -2.5128e-01 - val_loss: 87.2376 - val_coeff_determination: 0.3924 - 166ms/epoch - 3ms/step\n",
            "Epoch 38/80\n",
            "60/60 - 0s - loss: 120.0603 - coeff_determination: -4.5677e-02 - val_loss: 78.1783 - val_coeff_determination: 0.4885 - 178ms/epoch - 3ms/step\n",
            "Epoch 39/80\n",
            "60/60 - 0s - loss: 121.9175 - coeff_determination: -1.8370e-01 - val_loss: 79.7191 - val_coeff_determination: 0.4475 - 159ms/epoch - 3ms/step\n",
            "Epoch 40/80\n",
            "60/60 - 0s - loss: 122.9193 - coeff_determination: -1.5526e-01 - val_loss: 76.8439 - val_coeff_determination: 0.4686 - 173ms/epoch - 3ms/step\n",
            "Epoch 41/80\n",
            "60/60 - 0s - loss: 121.7698 - coeff_determination: -1.5591e-01 - val_loss: 77.7035 - val_coeff_determination: 0.4385 - 182ms/epoch - 3ms/step\n",
            "Epoch 42/80\n",
            "60/60 - 0s - loss: 116.2340 - coeff_determination: -8.9884e-02 - val_loss: 92.5915 - val_coeff_determination: 0.2586 - 181ms/epoch - 3ms/step\n",
            "Epoch 43/80\n",
            "60/60 - 0s - loss: 112.9526 - coeff_determination: -1.3950e-01 - val_loss: 70.2669 - val_coeff_determination: 0.5048 - 192ms/epoch - 3ms/step\n",
            "Epoch 44/80\n",
            "60/60 - 0s - loss: 112.2896 - coeff_determination: -9.5195e-02 - val_loss: 70.6679 - val_coeff_determination: 0.4858 - 210ms/epoch - 3ms/step\n",
            "Epoch 45/80\n",
            "60/60 - 0s - loss: 113.5977 - coeff_determination: -1.4345e-01 - val_loss: 72.8878 - val_coeff_determination: 0.4321 - 169ms/epoch - 3ms/step\n",
            "Epoch 46/80\n",
            "60/60 - 0s - loss: 106.6382 - coeff_determination: -4.5356e-02 - val_loss: 72.3731 - val_coeff_determination: 0.4388 - 197ms/epoch - 3ms/step\n",
            "Epoch 47/80\n",
            "60/60 - 0s - loss: 105.0400 - coeff_determination: -1.1582e-02 - val_loss: 71.2945 - val_coeff_determination: 0.4476 - 182ms/epoch - 3ms/step\n",
            "Epoch 48/80\n",
            "60/60 - 0s - loss: 106.1237 - coeff_determination: -2.2061e-02 - val_loss: 70.5076 - val_coeff_determination: 0.4516 - 184ms/epoch - 3ms/step\n",
            "Epoch 49/80\n",
            "60/60 - 0s - loss: 112.6272 - coeff_determination: -1.6369e-01 - val_loss: 89.4917 - val_coeff_determination: 0.2137 - 170ms/epoch - 3ms/step\n",
            "Epoch 50/80\n",
            "60/60 - 0s - loss: 113.1056 - coeff_determination: -1.6760e-01 - val_loss: 71.7733 - val_coeff_determination: 0.4251 - 177ms/epoch - 3ms/step\n",
            "Epoch 51/80\n",
            "60/60 - 0s - loss: 102.2984 - coeff_determination: -2.2796e-02 - val_loss: 64.7804 - val_coeff_determination: 0.5002 - 173ms/epoch - 3ms/step\n",
            "Epoch 52/80\n",
            "60/60 - 0s - loss: 96.1871 - coeff_determination: 0.0824 - val_loss: 64.2783 - val_coeff_determination: 0.4920 - 203ms/epoch - 3ms/step\n",
            "Epoch 53/80\n",
            "60/60 - 0s - loss: 94.9542 - coeff_determination: 0.0611 - val_loss: 71.1949 - val_coeff_determination: 0.4077 - 189ms/epoch - 3ms/step\n",
            "Epoch 54/80\n",
            "60/60 - 0s - loss: 99.8878 - coeff_determination: -5.1853e-02 - val_loss: 67.3905 - val_coeff_determination: 0.4544 - 183ms/epoch - 3ms/step\n",
            "Epoch 55/80\n",
            "60/60 - 0s - loss: 93.6046 - coeff_determination: 0.1070 - val_loss: 65.5481 - val_coeff_determination: 0.4722 - 175ms/epoch - 3ms/step\n",
            "Epoch 56/80\n",
            "60/60 - 0s - loss: 95.0265 - coeff_determination: 0.0557 - val_loss: 67.0606 - val_coeff_determination: 0.4436 - 170ms/epoch - 3ms/step\n",
            "Epoch 57/80\n",
            "60/60 - 0s - loss: 98.4450 - coeff_determination: -3.6119e-02 - val_loss: 84.8485 - val_coeff_determination: 0.2247 - 188ms/epoch - 3ms/step\n",
            "Epoch 58/80\n",
            "60/60 - 0s - loss: 101.9891 - coeff_determination: -1.6114e-02 - val_loss: 61.9268 - val_coeff_determination: 0.5032 - 168ms/epoch - 3ms/step\n",
            "Epoch 59/80\n",
            "60/60 - 0s - loss: 98.2610 - coeff_determination: 0.0405 - val_loss: 66.4746 - val_coeff_determination: 0.4483 - 199ms/epoch - 3ms/step\n",
            "Epoch 60/80\n",
            "60/60 - 0s - loss: 95.0454 - coeff_determination: -6.1706e-03 - val_loss: 68.1589 - val_coeff_determination: 0.4178 - 186ms/epoch - 3ms/step\n",
            "Epoch 61/80\n",
            "60/60 - 0s - loss: 89.9845 - coeff_determination: 0.0966 - val_loss: 68.1449 - val_coeff_determination: 0.4179 - 179ms/epoch - 3ms/step\n",
            "Epoch 62/80\n",
            "60/60 - 0s - loss: 94.2863 - coeff_determination: 0.0520 - val_loss: 67.2028 - val_coeff_determination: 0.4346 - 200ms/epoch - 3ms/step\n",
            "Epoch 63/80\n",
            "60/60 - 0s - loss: 91.2319 - coeff_determination: 0.0607 - val_loss: 64.5733 - val_coeff_determination: 0.4586 - 183ms/epoch - 3ms/step\n",
            "Epoch 64/80\n",
            "60/60 - 0s - loss: 89.3508 - coeff_determination: 0.1754 - val_loss: 63.7798 - val_coeff_determination: 0.4612 - 193ms/epoch - 3ms/step\n",
            "Epoch 65/80\n",
            "60/60 - 0s - loss: 93.7667 - coeff_determination: 0.0061 - val_loss: 65.5310 - val_coeff_determination: 0.4551 - 191ms/epoch - 3ms/step\n",
            "Epoch 66/80\n",
            "60/60 - 0s - loss: 99.4396 - coeff_determination: 0.0438 - val_loss: 59.9986 - val_coeff_determination: 0.5106 - 175ms/epoch - 3ms/step\n",
            "Epoch 67/80\n",
            "60/60 - 0s - loss: 93.8125 - coeff_determination: 0.0458 - val_loss: 61.6933 - val_coeff_determination: 0.4878 - 170ms/epoch - 3ms/step\n",
            "Epoch 68/80\n",
            "60/60 - 0s - loss: 95.2260 - coeff_determination: 0.0209 - val_loss: 61.9821 - val_coeff_determination: 0.4839 - 181ms/epoch - 3ms/step\n",
            "Epoch 69/80\n",
            "60/60 - 0s - loss: 100.1272 - coeff_determination: -4.8741e-02 - val_loss: 64.7405 - val_coeff_determination: 0.4472 - 179ms/epoch - 3ms/step\n",
            "Epoch 70/80\n",
            "60/60 - 0s - loss: 86.8056 - coeff_determination: 0.0762 - val_loss: 67.9797 - val_coeff_determination: 0.4176 - 181ms/epoch - 3ms/step\n",
            "Epoch 71/80\n",
            "60/60 - 0s - loss: 92.7879 - coeff_determination: 0.0186 - val_loss: 64.6742 - val_coeff_determination: 0.4441 - 158ms/epoch - 3ms/step\n",
            "Epoch 72/80\n",
            "60/60 - 0s - loss: 89.2344 - coeff_determination: 0.0964 - val_loss: 71.5281 - val_coeff_determination: 0.3696 - 180ms/epoch - 3ms/step\n",
            "Epoch 73/80\n",
            "60/60 - 0s - loss: 96.4259 - coeff_determination: 0.0554 - val_loss: 60.4550 - val_coeff_determination: 0.4938 - 205ms/epoch - 3ms/step\n",
            "Epoch 74/80\n",
            "60/60 - 0s - loss: 82.2031 - coeff_determination: 0.0577 - val_loss: 63.2505 - val_coeff_determination: 0.4440 - 188ms/epoch - 3ms/step\n",
            "Epoch 75/80\n",
            "60/60 - 0s - loss: 96.2578 - coeff_determination: 0.1063 - val_loss: 74.8274 - val_coeff_determination: 0.3301 - 173ms/epoch - 3ms/step\n",
            "Epoch 76/80\n",
            "60/60 - 0s - loss: 86.1670 - coeff_determination: 0.1192 - val_loss: 70.7997 - val_coeff_determination: 0.3756 - 171ms/epoch - 3ms/step\n",
            "Epoch 77/80\n",
            "60/60 - 0s - loss: 91.8148 - coeff_determination: 0.0753 - val_loss: 69.4403 - val_coeff_determination: 0.3870 - 182ms/epoch - 3ms/step\n",
            "Epoch 78/80\n",
            "WARNING:tensorflow:Your input ran out of data; interrupting training. Make sure that your dataset or generator can generate at least `steps_per_epoch * epochs` batches (in this case, 4800 batches). You may need to use the repeat() function when building your dataset.\n",
            "60/60 - 0s - loss: 90.5474 - coeff_determination: 0.1304 - val_loss: 65.9329 - val_coeff_determination: 0.4381 - 128ms/epoch - 2ms/step\n"
          ]
        }
      ]
    },
    {
      "cell_type": "code",
      "metadata": {
        "id": "04ugJnzVlhgC",
        "colab": {
          "base_uri": "https://localhost:8080/",
          "height": 500
        },
        "outputId": "e2e39d49-b237-476f-9a57-30f19ef2c721"
      },
      "source": [
        "pd.DataFrame(history.history).plot(figsize=(12, 8))"
      ],
      "execution_count": 39,
      "outputs": [
        {
          "output_type": "execute_result",
          "data": {
            "text/plain": [
              "<matplotlib.axes._subplots.AxesSubplot at 0x7fb8e3fc7d50>"
            ]
          },
          "metadata": {},
          "execution_count": 39
        },
        {
          "output_type": "display_data",
          "data": {
            "image/png": "[encoded data removed]",
            "text/plain": [
              "<Figure size 864x576 with 1 Axes>"
            ]
          },
          "metadata": {
            "needs_background": "light"
          }
        }
      ]
    },
    {
      "cell_type": "code",
      "metadata": {
        "id": "biFUuFOEZ5QK",
        "colab": {
          "base_uri": "https://localhost:8080/",
          "height": 483
        },
        "outputId": "82ccff0b-eca8-42c8-bb3b-b8a3df5ae832"
      },
      "source": [
        "data = pd.DataFrame(history.history)\n",
        "data[\"val_coeff_determination\"].plot(figsize=(12, 8))\n",
        "data[\"coeff_determination\"].plot(figsize=(12, 8))\n",
        "plt.grid(True)"
      ],
      "execution_count": 40,
      "outputs": [
        {
          "output_type": "display_data",
          "data": {
            "image/png": "[encoded data removed]",
            "text/plain": [
              "<Figure size 864x576 with 1 Axes>"
            ]
          },
          "metadata": {
            "needs_background": "light"
          }
        }
      ]
    },
    {
      "cell_type": "code",
      "metadata": {
        "id": "EhnP133ZEs3A"
      },
      "source": [
        ""
      ],
      "execution_count": 40,
      "outputs": []
    },
    {
      "cell_type": "code",
      "metadata": {
        "id": "ZHHhn_0aaXSq",
        "colab": {
          "base_uri": "https://localhost:8080/"
        },
        "outputId": "3dd760e1-edf5-4f69-a7f7-bf2bc3cc823e"
      },
      "source": [
        "y_pred = model.predict(X_valid)\n",
        "r_score = r2_score(y_valid, y_pred)\n",
        "print(\"Validation score:\", r_score)"
      ],
      "execution_count": 41,
      "outputs": [
        {
          "output_type": "stream",
          "name": "stdout",
          "text": [
            "Validation score: 0.5003135991995754\n"
          ]
        }
      ]
    },
    {
      "cell_type": "markdown",
      "metadata": {
        "id": "xetUrkygdfYu"
      },
      "source": [
        "# 6. Export the prediction"
      ]
    },
    {
      "cell_type": "code",
      "metadata": {
        "id": "vORmNt23dfYu",
        "colab": {
          "base_uri": "https://localhost:8080/"
        },
        "outputId": "50a7c646-e252-4b2f-85be-901b11b03096"
      },
      "source": [
        "# rfr = grid.best_estimator_\n",
        "rfr = model.fit(X_data_3, y_data, epochs=80, verbose=2, validation_split=0.1,\n",
        "                    shuffle=True, steps_per_epoch=60, initial_epoch=0, validation_steps=5)\n",
        "y_predict = rfr.model.predict(X_test)\n",
        "\n",
        "result_table = pd.DataFrame(data = y_predict, columns = ['y'])\n",
        "result_table.tail()\n",
        "result_table.to_csv('ann.csv', index = False)"
      ],
      "execution_count": 42,
      "outputs": [
        {
          "output_type": "stream",
          "name": "stdout",
          "text": [
            "Epoch 1/80\n",
            "60/60 - 0s - loss: 91.0529 - coeff_determination: 0.1169 - val_loss: 61.7861 - val_coeff_determination: 0.4899 - 461ms/epoch - 8ms/step\n",
            "Epoch 2/80\n",
            "60/60 - 0s - loss: 83.9084 - coeff_determination: 0.1553 - val_loss: 67.7469 - val_coeff_determination: 0.4207 - 151ms/epoch - 3ms/step\n",
            "Epoch 3/80\n",
            "60/60 - 0s - loss: 87.0209 - coeff_determination: 0.1577 - val_loss: 68.4945 - val_coeff_determination: 0.4124 - 165ms/epoch - 3ms/step\n",
            "Epoch 4/80\n",
            "60/60 - 0s - loss: 89.6093 - coeff_determination: 0.1033 - val_loss: 67.1231 - val_coeff_determination: 0.4243 - 154ms/epoch - 3ms/step\n",
            "Epoch 5/80\n",
            "60/60 - 0s - loss: 84.7551 - coeff_determination: 0.1752 - val_loss: 68.8562 - val_coeff_determination: 0.4153 - 181ms/epoch - 3ms/step\n",
            "Epoch 6/80\n",
            "60/60 - 0s - loss: 83.3006 - coeff_determination: 0.1703 - val_loss: 67.6318 - val_coeff_determination: 0.4144 - 158ms/epoch - 3ms/step\n",
            "Epoch 7/80\n",
            "60/60 - 0s - loss: 84.7227 - coeff_determination: 0.1705 - val_loss: 69.1017 - val_coeff_determination: 0.3931 - 170ms/epoch - 3ms/step\n",
            "Epoch 8/80\n",
            "60/60 - 0s - loss: 80.9891 - coeff_determination: 0.1776 - val_loss: 69.7720 - val_coeff_determination: 0.3930 - 170ms/epoch - 3ms/step\n",
            "Epoch 9/80\n",
            "60/60 - 0s - loss: 84.8958 - coeff_determination: 0.1835 - val_loss: 71.9412 - val_coeff_determination: 0.3533 - 154ms/epoch - 3ms/step\n",
            "Epoch 10/80\n",
            "60/60 - 0s - loss: 84.4011 - coeff_determination: 0.1565 - val_loss: 69.3341 - val_coeff_determination: 0.3968 - 173ms/epoch - 3ms/step\n",
            "Epoch 11/80\n",
            "60/60 - 0s - loss: 81.7559 - coeff_determination: 0.1924 - val_loss: 64.6653 - val_coeff_determination: 0.4476 - 165ms/epoch - 3ms/step\n",
            "Epoch 12/80\n",
            "60/60 - 0s - loss: 90.2167 - coeff_determination: 0.1000 - val_loss: 68.7994 - val_coeff_determination: 0.3961 - 178ms/epoch - 3ms/step\n",
            "Epoch 13/80\n",
            "60/60 - 0s - loss: 87.8720 - coeff_determination: 0.0870 - val_loss: 70.1933 - val_coeff_determination: 0.3830 - 168ms/epoch - 3ms/step\n",
            "Epoch 14/80\n",
            "60/60 - 0s - loss: 81.2365 - coeff_determination: 0.1790 - val_loss: 73.7182 - val_coeff_determination: 0.3437 - 176ms/epoch - 3ms/step\n",
            "Epoch 15/80\n",
            "60/60 - 0s - loss: 82.4517 - coeff_determination: 0.1797 - val_loss: 79.0006 - val_coeff_determination: 0.2789 - 158ms/epoch - 3ms/step\n",
            "Epoch 16/80\n",
            "60/60 - 0s - loss: 85.4668 - coeff_determination: 0.1777 - val_loss: 76.7128 - val_coeff_determination: 0.3175 - 167ms/epoch - 3ms/step\n",
            "Epoch 17/80\n",
            "60/60 - 0s - loss: 89.0327 - coeff_determination: 0.0720 - val_loss: 74.7116 - val_coeff_determination: 0.3237 - 208ms/epoch - 3ms/step\n",
            "Epoch 18/80\n",
            "60/60 - 0s - loss: 87.2943 - coeff_determination: 0.1286 - val_loss: 65.0465 - val_coeff_determination: 0.4446 - 181ms/epoch - 3ms/step\n",
            "Epoch 19/80\n",
            "60/60 - 0s - loss: 91.8389 - coeff_determination: 0.0647 - val_loss: 76.1134 - val_coeff_determination: 0.3204 - 187ms/epoch - 3ms/step\n",
            "Epoch 20/80\n",
            "60/60 - 0s - loss: 91.8259 - coeff_determination: 0.0850 - val_loss: 84.2440 - val_coeff_determination: 0.2301 - 177ms/epoch - 3ms/step\n",
            "Epoch 21/80\n",
            "60/60 - 0s - loss: 85.7937 - coeff_determination: 0.1382 - val_loss: 66.9483 - val_coeff_determination: 0.4128 - 173ms/epoch - 3ms/step\n",
            "Epoch 22/80\n",
            "60/60 - 0s - loss: 81.1567 - coeff_determination: 0.2052 - val_loss: 65.6454 - val_coeff_determination: 0.4290 - 166ms/epoch - 3ms/step\n",
            "Epoch 23/80\n",
            "60/60 - 0s - loss: 83.3939 - coeff_determination: 0.2177 - val_loss: 75.2425 - val_coeff_determination: 0.3178 - 183ms/epoch - 3ms/step\n",
            "Epoch 24/80\n",
            "60/60 - 0s - loss: 81.5781 - coeff_determination: 0.2017 - val_loss: 66.1385 - val_coeff_determination: 0.4241 - 170ms/epoch - 3ms/step\n",
            "Epoch 25/80\n",
            "60/60 - 0s - loss: 82.2674 - coeff_determination: 0.1849 - val_loss: 80.3757 - val_coeff_determination: 0.2494 - 178ms/epoch - 3ms/step\n",
            "Epoch 26/80\n",
            "60/60 - 0s - loss: 85.3983 - coeff_determination: 0.1103 - val_loss: 74.9049 - val_coeff_determination: 0.3253 - 181ms/epoch - 3ms/step\n",
            "Epoch 27/80\n",
            "60/60 - 0s - loss: 82.3611 - coeff_determination: 0.1994 - val_loss: 70.5582 - val_coeff_determination: 0.3757 - 195ms/epoch - 3ms/step\n",
            "Epoch 28/80\n",
            "60/60 - 0s - loss: 79.4518 - coeff_determination: 0.2337 - val_loss: 68.9333 - val_coeff_determination: 0.3884 - 166ms/epoch - 3ms/step\n",
            "Epoch 29/80\n",
            "60/60 - 0s - loss: 80.5157 - coeff_determination: 0.2240 - val_loss: 66.1104 - val_coeff_determination: 0.4263 - 174ms/epoch - 3ms/step\n",
            "Epoch 30/80\n",
            "60/60 - 0s - loss: 79.6314 - coeff_determination: 0.2367 - val_loss: 69.3611 - val_coeff_determination: 0.3814 - 189ms/epoch - 3ms/step\n",
            "Epoch 31/80\n",
            "60/60 - 0s - loss: 81.3812 - coeff_determination: 0.1780 - val_loss: 76.6743 - val_coeff_determination: 0.2840 - 181ms/epoch - 3ms/step\n",
            "Epoch 32/80\n",
            "60/60 - 0s - loss: 83.1281 - coeff_determination: 0.2112 - val_loss: 68.8116 - val_coeff_determination: 0.3917 - 180ms/epoch - 3ms/step\n",
            "Epoch 33/80\n",
            "60/60 - 0s - loss: 80.2122 - coeff_determination: 0.2058 - val_loss: 69.7036 - val_coeff_determination: 0.3692 - 159ms/epoch - 3ms/step\n",
            "Epoch 34/80\n",
            "60/60 - 0s - loss: 85.4483 - coeff_determination: 0.1320 - val_loss: 73.6293 - val_coeff_determination: 0.3363 - 161ms/epoch - 3ms/step\n",
            "Epoch 35/80\n",
            "60/60 - 0s - loss: 79.6591 - coeff_determination: 0.2128 - val_loss: 69.9938 - val_coeff_determination: 0.3723 - 190ms/epoch - 3ms/step\n",
            "Epoch 36/80\n",
            "60/60 - 0s - loss: 79.0950 - coeff_determination: 0.2214 - val_loss: 72.5907 - val_coeff_determination: 0.3411 - 174ms/epoch - 3ms/step\n",
            "Epoch 37/80\n",
            "60/60 - 0s - loss: 80.2678 - coeff_determination: 0.2014 - val_loss: 73.7667 - val_coeff_determination: 0.3295 - 161ms/epoch - 3ms/step\n",
            "Epoch 38/80\n",
            "60/60 - 0s - loss: 78.5313 - coeff_determination: 0.1814 - val_loss: 72.9124 - val_coeff_determination: 0.3429 - 152ms/epoch - 3ms/step\n",
            "Epoch 39/80\n",
            "60/60 - 0s - loss: 84.9548 - coeff_determination: 0.1423 - val_loss: 64.7352 - val_coeff_determination: 0.4361 - 180ms/epoch - 3ms/step\n",
            "Epoch 40/80\n",
            "60/60 - 0s - loss: 76.4195 - coeff_determination: 0.2900 - val_loss: 71.1791 - val_coeff_determination: 0.3573 - 168ms/epoch - 3ms/step\n",
            "Epoch 41/80\n",
            "60/60 - 0s - loss: 81.0550 - coeff_determination: 0.2131 - val_loss: 74.5511 - val_coeff_determination: 0.3254 - 165ms/epoch - 3ms/step\n",
            "Epoch 42/80\n",
            "60/60 - 0s - loss: 78.2607 - coeff_determination: 0.2564 - val_loss: 68.7045 - val_coeff_determination: 0.3851 - 162ms/epoch - 3ms/step\n",
            "Epoch 43/80\n",
            "60/60 - 0s - loss: 78.9919 - coeff_determination: 0.2404 - val_loss: 70.4724 - val_coeff_determination: 0.3677 - 147ms/epoch - 2ms/step\n",
            "Epoch 44/80\n",
            "60/60 - 0s - loss: 83.0378 - coeff_determination: 0.1421 - val_loss: 72.6740 - val_coeff_determination: 0.3406 - 161ms/epoch - 3ms/step\n",
            "Epoch 45/80\n",
            "60/60 - 0s - loss: 79.9375 - coeff_determination: 0.2091 - val_loss: 71.8768 - val_coeff_determination: 0.3506 - 177ms/epoch - 3ms/step\n",
            "Epoch 46/80\n",
            "60/60 - 0s - loss: 74.2988 - coeff_determination: 0.2704 - val_loss: 67.5692 - val_coeff_determination: 0.3952 - 152ms/epoch - 3ms/step\n",
            "Epoch 47/80\n",
            "60/60 - 0s - loss: 80.9222 - coeff_determination: 0.1949 - val_loss: 76.6982 - val_coeff_determination: 0.2816 - 180ms/epoch - 3ms/step\n",
            "Epoch 48/80\n",
            "60/60 - 0s - loss: 83.5167 - coeff_determination: 0.1577 - val_loss: 68.9263 - val_coeff_determination: 0.3847 - 172ms/epoch - 3ms/step\n",
            "Epoch 49/80\n",
            "60/60 - 0s - loss: 81.5843 - coeff_determination: 0.1702 - val_loss: 82.7201 - val_coeff_determination: 0.2332 - 160ms/epoch - 3ms/step\n",
            "Epoch 50/80\n",
            "60/60 - 0s - loss: 80.7842 - coeff_determination: 0.2025 - val_loss: 71.4516 - val_coeff_determination: 0.3443 - 186ms/epoch - 3ms/step\n",
            "Epoch 51/80\n",
            "60/60 - 0s - loss: 75.3034 - coeff_determination: 0.2878 - val_loss: 68.0274 - val_coeff_determination: 0.3976 - 177ms/epoch - 3ms/step\n",
            "Epoch 52/80\n",
            "60/60 - 0s - loss: 77.2198 - coeff_determination: 0.2613 - val_loss: 73.5900 - val_coeff_determination: 0.3421 - 162ms/epoch - 3ms/step\n",
            "Epoch 53/80\n",
            "60/60 - 0s - loss: 80.6500 - coeff_determination: 0.1538 - val_loss: 76.5970 - val_coeff_determination: 0.2892 - 175ms/epoch - 3ms/step\n",
            "Epoch 54/80\n",
            "60/60 - 0s - loss: 84.0753 - coeff_determination: 0.1740 - val_loss: 68.6811 - val_coeff_determination: 0.3811 - 155ms/epoch - 3ms/step\n",
            "Epoch 55/80\n",
            "60/60 - 0s - loss: 75.5046 - coeff_determination: 0.2389 - val_loss: 68.5679 - val_coeff_determination: 0.3753 - 156ms/epoch - 3ms/step\n",
            "Epoch 56/80\n",
            "60/60 - 0s - loss: 78.6433 - coeff_determination: 0.2230 - val_loss: 71.8860 - val_coeff_determination: 0.3464 - 181ms/epoch - 3ms/step\n",
            "Epoch 57/80\n",
            "60/60 - 0s - loss: 78.9638 - coeff_determination: 0.2299 - val_loss: 69.0066 - val_coeff_determination: 0.3774 - 174ms/epoch - 3ms/step\n",
            "Epoch 58/80\n",
            "60/60 - 0s - loss: 77.8362 - coeff_determination: 0.2539 - val_loss: 66.0247 - val_coeff_determination: 0.4168 - 169ms/epoch - 3ms/step\n",
            "Epoch 59/80\n",
            "60/60 - 0s - loss: 77.9590 - coeff_determination: 0.2480 - val_loss: 77.5232 - val_coeff_determination: 0.2734 - 161ms/epoch - 3ms/step\n",
            "Epoch 60/80\n",
            "60/60 - 0s - loss: 78.4954 - coeff_determination: 0.2459 - val_loss: 66.2436 - val_coeff_determination: 0.4181 - 172ms/epoch - 3ms/step\n",
            "Epoch 61/80\n",
            "60/60 - 0s - loss: 84.6706 - coeff_determination: 0.1715 - val_loss: 84.7458 - val_coeff_determination: 0.2122 - 173ms/epoch - 3ms/step\n",
            "Epoch 62/80\n",
            "60/60 - 0s - loss: 76.2727 - coeff_determination: 0.2702 - val_loss: 67.1425 - val_coeff_determination: 0.4056 - 181ms/epoch - 3ms/step\n",
            "Epoch 63/80\n",
            "60/60 - 0s - loss: 77.2742 - coeff_determination: 0.2323 - val_loss: 70.2984 - val_coeff_determination: 0.3808 - 157ms/epoch - 3ms/step\n",
            "Epoch 64/80\n",
            "60/60 - 0s - loss: 78.0782 - coeff_determination: 0.2201 - val_loss: 70.6363 - val_coeff_determination: 0.3666 - 171ms/epoch - 3ms/step\n",
            "Epoch 65/80\n",
            "60/60 - 0s - loss: 78.3585 - coeff_determination: 0.2044 - val_loss: 67.1765 - val_coeff_determination: 0.4107 - 184ms/epoch - 3ms/step\n",
            "Epoch 66/80\n",
            "60/60 - 0s - loss: 77.5402 - coeff_determination: 0.2452 - val_loss: 67.3081 - val_coeff_determination: 0.3998 - 180ms/epoch - 3ms/step\n",
            "Epoch 67/80\n",
            "60/60 - 0s - loss: 80.8840 - coeff_determination: 0.1993 - val_loss: 71.1405 - val_coeff_determination: 0.3668 - 168ms/epoch - 3ms/step\n",
            "Epoch 68/80\n",
            "60/60 - 0s - loss: 76.2083 - coeff_determination: 0.2801 - val_loss: 74.0976 - val_coeff_determination: 0.3272 - 160ms/epoch - 3ms/step\n",
            "Epoch 69/80\n",
            "60/60 - 0s - loss: 75.2354 - coeff_determination: 0.2505 - val_loss: 70.2600 - val_coeff_determination: 0.3826 - 177ms/epoch - 3ms/step\n",
            "Epoch 70/80\n",
            "60/60 - 0s - loss: 82.7021 - coeff_determination: 0.1465 - val_loss: 67.0638 - val_coeff_determination: 0.4043 - 165ms/epoch - 3ms/step\n",
            "Epoch 71/80\n",
            "60/60 - 0s - loss: 77.4518 - coeff_determination: 0.2268 - val_loss: 71.3270 - val_coeff_determination: 0.3542 - 172ms/epoch - 3ms/step\n",
            "Epoch 72/80\n",
            "60/60 - 0s - loss: 74.4196 - coeff_determination: 0.2685 - val_loss: 67.3773 - val_coeff_determination: 0.3956 - 174ms/epoch - 3ms/step\n",
            "Epoch 73/80\n",
            "60/60 - 0s - loss: 79.4366 - coeff_determination: 0.2152 - val_loss: 68.6236 - val_coeff_determination: 0.3829 - 177ms/epoch - 3ms/step\n",
            "Epoch 74/80\n",
            "60/60 - 0s - loss: 74.2823 - coeff_determination: 0.2843 - val_loss: 70.1630 - val_coeff_determination: 0.3509 - 193ms/epoch - 3ms/step\n",
            "Epoch 75/80\n",
            "60/60 - 0s - loss: 75.1884 - coeff_determination: 0.2856 - val_loss: 65.7898 - val_coeff_determination: 0.4277 - 199ms/epoch - 3ms/step\n",
            "Epoch 76/80\n",
            "60/60 - 0s - loss: 75.4554 - coeff_determination: 0.2506 - val_loss: 69.5746 - val_coeff_determination: 0.3671 - 161ms/epoch - 3ms/step\n",
            "Epoch 77/80\n",
            "60/60 - 0s - loss: 78.9595 - coeff_determination: 0.1880 - val_loss: 68.0022 - val_coeff_determination: 0.3923 - 175ms/epoch - 3ms/step\n",
            "Epoch 78/80\n",
            "60/60 - 0s - loss: 77.7160 - coeff_determination: 0.2396 - val_loss: 70.0649 - val_coeff_determination: 0.3611 - 176ms/epoch - 3ms/step\n",
            "Epoch 79/80\n",
            "60/60 - 0s - loss: 76.2538 - coeff_determination: 0.2479 - val_loss: 69.3760 - val_coeff_determination: 0.3745 - 176ms/epoch - 3ms/step\n",
            "Epoch 80/80\n",
            "60/60 - 0s - loss: 75.3415 - coeff_determination: 0.2901 - val_loss: 66.9635 - val_coeff_determination: 0.4025 - 174ms/epoch - 3ms/step\n"
          ]
        }
      ]
    },
    {
      "cell_type": "markdown",
      "metadata": {
        "id": "ix6RdKgyt-gm"
      },
      "source": [
        ""
      ]
    }
  ]
}