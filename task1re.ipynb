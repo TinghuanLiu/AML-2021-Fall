{
  "nbformat": 4,
  "nbformat_minor": 0,
  "metadata": {
    "interpreter": {
      "hash": "11d2696aa44a2f0a370d91ea6517e7b889927749bc2cd16347a8ce4083dc1b7d"
    },
    "kernelspec": {
      "display_name": "Python 3.9.5 64-bit ('base': conda)",
      "name": "python3"
    },
    "language_info": {
      "codemirror_mode": {
        "name": "ipython",
        "version": 3
      },
      "file_extension": ".py",
      "mimetype": "text/x-python",
      "name": "python",
      "nbconvert_exporter": "python",
      "pygments_lexer": "ipython3",
      "version": "3.9.5"
    },
    "orig_nbformat": 4,
    "colab": {
      "name": "task1re.ipynb",
      "provenance": [],
      "collapsed_sections": []
    },
    "accelerator": "GPU"
  },
  "cells": [
    {
      "cell_type": "code",
      "metadata": {
        "id": "ooW5LQ6rdfYK"
      },
      "source": [
        "import pandas as pd\n",
        "from sklearn.model_selection import train_test_split\n",
        "from sklearn.ensemble import IsolationForest\n",
        "from sklearn.feature_selection import SelectKBest, chi2, RFECV, RFE, SelectFromModel\n",
        "from sklearn.impute import KNNImputer\n",
        "from sklearn.preprocessing import MinMaxScaler, StandardScaler, RobustScaler\n",
        "from sklearn.kernel_ridge import KernelRidge\n",
        "from sklearn.ensemble import RandomForestRegressor\n",
        "from sklearn.ensemble import ExtraTreesRegressor\n",
        "from sklearn.svm import SVR\n",
        "from sklearn.model_selection import GridSearchCV\n",
        "from sklearn.metrics import r2_score"
      ],
      "execution_count": null,
      "outputs": []
    },
    {
      "cell_type": "markdown",
      "metadata": {
        "id": "IALC37a0dfYS"
      },
      "source": [
        "# 1. Load training data and test data"
      ]
    },
    {
      "cell_type": "markdown",
      "metadata": {
        "id": "m5YoPW9ZdfYV"
      },
      "source": [
        "## 1.1 Read the csv files and get an overview of the data"
      ]
    },
    {
      "cell_type": "code",
      "metadata": {
        "id": "Nhh0V-nkdfYW",
        "outputId": "d1bd0f84-e48c-4964-aa6d-2aab7525168e"
      },
      "source": [
        "X_df = pd.read_csv('X_train.csv') # df stands for dataframe\n",
        "y_df = pd.read_csv('y_train.csv')\n",
        "X_test_df = pd.read_csv('X_test.csv')\n",
        "print(\"Dimension of X: {}\".format(X_df.shape))\n",
        "print(\"Dimension of y: {}\".format(y_df.shape))\n",
        "print(X_df.tail())\n",
        "print(y_df.tail())"
      ],
      "execution_count": null,
      "outputs": [
        {
          "name": "stdout",
          "output_type": "stream",
          "text": [
            "Dimension of X: (1212, 833)\n",
            "Dimension of y: (1212, 2)\n",
            "          id        x0             x1            x2           x3  \\\n",
            "1207  1207.0  9.895208  832442.883343  20585.510774  1082.657477   \n",
            "1208  1208.0  9.838322  832442.816133  20585.530631  1020.816077   \n",
            "1209  1209.0  9.267322  832442.815687  20585.525811  1076.663108   \n",
            "1210  1210.0       NaN  832442.826707  20585.564056  1076.359217   \n",
            "1211  1211.0  9.070810  832442.841694  20585.531908  1077.977276   \n",
            "\n",
            "                x4         x5             x6            x7            x8  ...  \\\n",
            "1207  1.107019e+06  10.915545  597900.459438           NaN  1.020097e+06  ...   \n",
            "1208  9.834291e+05        NaN  597900.428561  10842.043309  1.110318e+06  ...   \n",
            "1209  7.651645e+05   9.579855            NaN           NaN  1.092330e+06  ...   \n",
            "1210  9.332198e+05   8.863739  597900.402740  13121.042555  8.245987e+05  ...   \n",
            "1211  9.568525e+05  10.894921  597900.446646   9947.064942  1.010069e+06  ...   \n",
            "\n",
            "              x822         x823          x824       x825       x826  \\\n",
            "1207  1.004860e+06  -999.439794  17689.388714  10.472291   9.792557   \n",
            "1208  1.080810e+06 -1113.072752  15994.070051  10.269221   9.771282   \n",
            "1209  1.047013e+06  -482.079954  11539.602821  10.346105  10.361797   \n",
            "1210  1.070566e+06 -1063.653564  15108.683504  10.831122  10.167780   \n",
            "1211  1.063663e+06  -857.771913  14506.181447  10.312122   8.608383   \n",
            "\n",
            "             x827       x828          x829           x830           x831  \n",
            "1207  1249.098796  10.939983  1.092890e+06   97402.723818  107110.572397  \n",
            "1208  1402.080672  10.958833  1.083262e+06  107100.133295  109984.169649  \n",
            "1209   965.008332  10.483549  1.007871e+06  119139.273272  105240.374580  \n",
            "1210          NaN  10.647956  1.047863e+06  104741.008263  100272.537058  \n",
            "1211  1237.051235        NaN  1.029894e+06            NaN  104448.183527  \n",
            "\n",
            "[5 rows x 833 columns]\n",
            "          id     y\n",
            "1207  1207.0  67.0\n",
            "1208  1208.0  48.0\n",
            "1209  1209.0  82.0\n",
            "1210  1210.0  76.0\n",
            "1211  1211.0  81.0\n"
          ]
        }
      ]
    },
    {
      "cell_type": "markdown",
      "metadata": {
        "id": "bFjGgi4IdfYZ"
      },
      "source": [
        "## 1.2 Get rid of the id column"
      ]
    },
    {
      "cell_type": "code",
      "metadata": {
        "id": "WnkLRmSodfYa",
        "outputId": "9c34d57e-c1b6-4d09-c93f-f2ac5d061622"
      },
      "source": [
        "X_data = X_df.iloc[:,1:]\n",
        "y_data = y_df.iloc[:,1:]\n",
        "X_test = X_test_df.iloc[:, 1:]\n",
        "print(\"X_data shape:\", X_data.shape)\n",
        "print(\"y_data shape:\", y_data.shape)\n",
        "print(\"X_test shape:\", X_test.shape)"
      ],
      "execution_count": null,
      "outputs": [
        {
          "name": "stdout",
          "output_type": "stream",
          "text": [
            "X_data shape: (1212, 832)\n",
            "y_data shape: (1212, 1)\n",
            "X_test shape: (776, 832)\n"
          ]
        }
      ]
    },
    {
      "cell_type": "markdown",
      "metadata": {
        "id": "wJ4oR4S8dfYb"
      },
      "source": [
        "# 2. Fill the missing values"
      ]
    },
    {
      "cell_type": "markdown",
      "metadata": {
        "id": "E8RYQ2ewdfYc"
      },
      "source": [
        "## 2.1 Get to know how many missing values there are"
      ]
    },
    {
      "cell_type": "code",
      "metadata": {
        "id": "y1vrYI34dfYe",
        "outputId": "5774fd91-2d71-443c-c046-5dde150d039e"
      },
      "source": [
        "feature_missing_values = X_data.isna().sum(axis = 0)\n",
        "print (\"Number of missing values for each feature:\\n\", feature_missing_values)\n",
        "\n",
        "record_missing_values = X_data.isna().sum(axis = 1)\n",
        "print (\"Number of missing values for each record:\\n\", record_missing_values)"
      ],
      "execution_count": null,
      "outputs": [
        {
          "name": "stdout",
          "output_type": "stream",
          "text": [
            "Number of missing values for each feature:\n",
            " x0       94\n",
            "x1       98\n",
            "x2       95\n",
            "x3      106\n",
            "x4       95\n",
            "       ... \n",
            "x827    103\n",
            "x828     97\n",
            "x829    100\n",
            "x830     88\n",
            "x831    121\n",
            "Length: 832, dtype: int64\n",
            "Number of missing values for each record:\n",
            " 0       59\n",
            "1       67\n",
            "2       61\n",
            "3       57\n",
            "4       62\n",
            "        ..\n",
            "1207    55\n",
            "1208    76\n",
            "1209    60\n",
            "1210    51\n",
            "1211    69\n",
            "Length: 1212, dtype: int64\n"
          ]
        }
      ]
    },
    {
      "cell_type": "markdown",
      "metadata": {
        "id": "5mwUC84WdfYf"
      },
      "source": [
        "## 2.2 Using median"
      ]
    },
    {
      "cell_type": "code",
      "metadata": {
        "id": "t9dCin5bdfYg",
        "outputId": "fd4fb2a1-16c4-4d66-8365-8f54f7436cf1"
      },
      "source": [
        "# X_data_1 = X_data.fillna(X_data.median())\n",
        "# X_test_1 = X_test.fillna(X_test.median())\n",
        "# missing_values = X_data_1.isna().any() # any(): Return whether any element is True, potentially over an axis.\n",
        "# print (\"After filling, number of missing values for each feature:\\n\", missing_values)"
      ],
      "execution_count": null,
      "outputs": [
        {
          "name": "stdout",
          "output_type": "stream",
          "text": [
            "After filling, number of missing values for each feature:\n",
            " x0      False\n",
            "x1      False\n",
            "x2      False\n",
            "x3      False\n",
            "x4      False\n",
            "        ...  \n",
            "x827    False\n",
            "x828    False\n",
            "x829    False\n",
            "x830    False\n",
            "x831    False\n",
            "Length: 832, dtype: bool\n"
          ]
        }
      ]
    },
    {
      "cell_type": "markdown",
      "metadata": {
        "id": "RfFT_rYFdfYh"
      },
      "source": [
        "## 2.3 Using KNN"
      ]
    },
    {
      "cell_type": "code",
      "metadata": {
        "id": "pTNraXPudfYi"
      },
      "source": [
        "# To use KNN imputer, we need to first normalize our data so the distance measure of each feature is the same\n",
        "scaler = RobustScaler(quantile_range=(10, 90))\n",
        "X_data_sc = pd.DataFrame(scaler.fit_transform(X_data), columns=X_data.columns)\n",
        "X_test_sc = pd.DataFrame(scaler.fit_transform(X_test), columns=X_test.columns)\n",
        "\n",
        "imputer = KNNImputer(n_neighbors=5)\n",
        "X_data_1 = pd.DataFrame(imputer.fit_transform(X_data_sc), columns=X_data.columns)\n",
        "X_test_1 = pd.DataFrame(imputer.fit_transform(X_test_sc), columns=X_test.columns)\n",
        "\n",
        "print(\"Missing values\", X_data_1.isna().any())"
      ],
      "execution_count": null,
      "outputs": []
    },
    {
      "cell_type": "markdown",
      "metadata": {
        "id": "ppDH6lyLdfYj"
      },
      "source": [
        "# 3. Outlier detection"
      ]
    },
    {
      "cell_type": "markdown",
      "metadata": {
        "id": "zvOm9H3sdfYj"
      },
      "source": [
        "## 3.1 Using IsolationForest"
      ]
    },
    {
      "cell_type": "code",
      "metadata": {
        "id": "uQOicDn4dfYj",
        "outputId": "baa0434a-4f7e-4d2e-ddbc-eb04d033ec64"
      },
      "source": [
        "iso_forest = IsolationForest(n_estimators=500, contamination=0.05)\n",
        "iso_forest = iso_forest.fit(X_data_1)\n",
        "isof_outliers = iso_forest.predict(X_data_1)\n",
        "X_data_2 = X_data_1.iloc[isof_outliers == 1, :]\n",
        "y_data = y_data.iloc[isof_outliers == 1].values\n",
        "print(X_data_2.shape)\n",
        "\n",
        "X_test_2 = X_test_1\n",
        "\n",
        "# # Delete nothing\n",
        "# X_data_2 = X_data_1\n",
        "# X_test_2 = X_test_1\n",
        "# y_data = y_data.values"
      ],
      "execution_count": null,
      "outputs": [
        {
          "name": "stdout",
          "output_type": "stream",
          "text": [
            "(1151, 832)\n"
          ]
        }
      ]
    },
    {
      "cell_type": "markdown",
      "metadata": {
        "id": "6cJge2LpdfYl"
      },
      "source": [
        "# 4. Feature selection"
      ]
    },
    {
      "cell_type": "markdown",
      "metadata": {
        "id": "XCSg-Br-dfYl"
      },
      "source": [
        "## 4.1 Using SelectKBest"
      ]
    },
    {
      "cell_type": "code",
      "metadata": {
        "id": "RvEVldnRdfYm",
        "outputId": "6ed01307-834e-43d2-da63-4df82d8c79f1"
      },
      "source": [
        "# selector = SelectKBest(score_func=chi2, k=85)\n",
        "# selector = selector.fit(X_data_2.abs(), y = y_data)\n",
        "# X_data_3 = selector.transform(X_data_2)\n",
        "# X_test_3 = selector.transform(X_test_2)\n",
        "# print(\"X_data shape\", X_data_3.shape)"
      ],
      "execution_count": null,
      "outputs": [
        {
          "name": "stdout",
          "output_type": "stream",
          "text": [
            "X_data shape (1151, 85)\n"
          ]
        }
      ]
    },
    {
      "cell_type": "markdown",
      "metadata": {
        "id": "0UkYCOG3dfYm"
      },
      "source": [
        "## 4.2 Using SelectFromModel"
      ]
    },
    {
      "cell_type": "code",
      "metadata": {
        "id": "a1H4pXiBdfYn"
      },
      "source": [
        "# For RFR\n",
        "# estimator2 = RandomForestRegressor()\n",
        "# selector2 = SelectFromModel(estimator2, max_features=150, threshold=\"mean\")\n",
        "# selector2 = selector2.fit(X_data_2, y_data)\n",
        "# X_data_3 = selector2.transform(X_data_2)\n",
        "# X_test_3 = selector2.transform(X_test_2)\n",
        "\n",
        "# For SVR\n",
        "# estimator2 = KernelRidge()\n",
        "# selector2 = SelectFromModel(estimator2, max_features=150, threshold=\"mean\", importance_getter='dual_coef_')\n",
        "# selector2 = selector2.fit(X_data_2, y_data.ravel())\n",
        "# X_data_3 = selector2.transform(X_data_2)\n",
        "# X_test_3 = selector2.transform(X_test_2)"
      ],
      "execution_count": null,
      "outputs": []
    },
    {
      "cell_type": "markdown",
      "metadata": {
        "id": "07UKviPbdfYo"
      },
      "source": [
        "## 4.3 Using RFE"
      ]
    },
    {
      "cell_type": "code",
      "metadata": {
        "id": "ZbcVlpF0dfYo"
      },
      "source": [
        "# Make RFE faster\n",
        "selector = SelectKBest(score_func=chi2, k=300)\n",
        "selector = selector.fit(X_data_2.abs(), y = y_data)\n",
        "X_data_2_c = selector.transform(X_data_2)\n",
        "X_test_2_c = selector.transform(X_test_2)\n",
        "\n",
        "estimator = RandomForestRegressor(n_estimators=320, min_samples_split=3)\n",
        "selector = RFE(estimator, step=5, n_features_to_select=85, verbose=2)\n",
        "selector = selector.fit(X_data_2_c, y_data.ravel())\n",
        "X_data_3 = selector.transform(X_data_2_c)\n",
        "X_test_3 = selector.transform(X_test_2_c)"
      ],
      "execution_count": null,
      "outputs": []
    },
    {
      "cell_type": "code",
      "metadata": {
        "id": "E7OMQzHgdfYp"
      },
      "source": [
        "# estimator = RandomForestRegressor(n_estimators=200, min_samples_split=3)\n",
        "# selector = RFE(estimator, step=5, n_features_to_select=85, verbose=2)\n",
        "# selector = selector.fit(X_data_2, y_data.ravel())\n",
        "# X_data_3 = selector.transform(X_data_2)\n",
        "# X_test_3 = selector.transform(X_test_2)"
      ],
      "execution_count": null,
      "outputs": []
    },
    {
      "cell_type": "markdown",
      "metadata": {
        "id": "dC3iZFJ7dfYp"
      },
      "source": [
        "## 4.4 Using RFECV"
      ]
    },
    {
      "cell_type": "code",
      "metadata": {
        "id": "yKnAaHDydfYq"
      },
      "source": [
        "selector = SelectKBest(score_func=chi2, k=400)\n",
        "selector = selector.fit(X_data_2.abs(), y = y_data)\n",
        "X_data_2_c = selector.transform(X_data_2)\n",
        "X_test_2_c = selector.transform(X_test_2)\n",
        "\n",
        "estimator = RandomForestRegressor(n_estimators=320, min_samples_split=3)\n",
        "selector = RFECV(estimator, step=10, cv=5, n_features_to_select=85, verbose=2)\n",
        "selector = selector.fit(X_data_2_c, y_data.ravel())\n",
        "X_data_3 = selector.transform(X_data_2_c)\n",
        "X_test_3 = selector.transform(X_test_2_c)"
      ],
      "execution_count": null,
      "outputs": []
    },
    {
      "cell_type": "markdown",
      "metadata": {
        "id": "pxlxT0E1dfYq"
      },
      "source": [
        "# 5. Model Selection"
      ]
    },
    {
      "cell_type": "code",
      "metadata": {
        "id": "yMwnxwaidfYq",
        "outputId": "681e8d1c-f4a8-4911-8683-47f7dc44c2d2"
      },
      "source": [
        "X_train, X_valid, y_train, y_valid = train_test_split(X_data_3, y_data, test_size=0.2, random_state=1)\n",
        "print(\"X_train shape: \", X_train.shape)"
      ],
      "execution_count": null,
      "outputs": [
        {
          "name": "stdout",
          "output_type": "stream",
          "text": [
            "X_train shape:  (920, 85)\n"
          ]
        }
      ]
    },
    {
      "cell_type": "markdown",
      "metadata": {
        "id": "XHIMBLLWdfYr"
      },
      "source": [
        "## 5.1 KernelRidgeRegression\n",
        "Not good at all. Best score ~0.2"
      ]
    },
    {
      "cell_type": "code",
      "metadata": {
        "id": "QU8Q7CETdfYr"
      },
      "source": [
        "# model = KernelRidge()\n",
        "# parameters = {'alpha':[0.01, 0.05, 0.1, 0.2, 0.5, 0.8, 1.0, 3.0, 5.0], 'kernel':['chi2', 'rbf', 'sigmoid', 'laplacian'], 'gamma':[0.1, 1, 5, 10]}\n",
        "# grid = GridSearchCV(model, parameters, scoring='r2', cv=5, verbose=3, n_jobs=-1)\n",
        "# grid.fit(X_train, y_train.ravel())\n",
        "# print(grid.best_estimator_)\n",
        "# print(grid.best_score_)\n",
        "\n",
        "# y_pred = grid.predict(X_valid)\n",
        "# r_score = r2_score(y_valid, y_pred)\n",
        "# print(\"Validation score:\", r_score)"
      ],
      "execution_count": null,
      "outputs": []
    },
    {
      "cell_type": "markdown",
      "metadata": {
        "id": "-FPMn0jOdfYr"
      },
      "source": [
        "## 5.2 ExtraTreesRegression"
      ]
    },
    {
      "cell_type": "code",
      "metadata": {
        "id": "zthBRwH_dfYs"
      },
      "source": [
        "# model = ExtraTreesRegressor()\n",
        "# parameters = {'n_estimators':[100, 125, 150, 175, 200, 300, 325, 350,400], 'min_samples_split':[2, 3, 4]}\n",
        "# grid = GridSearchCV(model, parameters, scoring='r2', cv=5, verbose=3, n_jobs=-1)\n",
        "# grid.fit(X_train, y_train)\n",
        "# print(grid.best_estimator_)\n",
        "# print(grid.best_score_)\n",
        "\n",
        "# y_pred = grid.predict(X_valid)\n",
        "# r_score = r2_score(y_valid, y_pred)\n",
        "# print(\"Validation score:\", r_score)"
      ],
      "execution_count": null,
      "outputs": []
    },
    {
      "cell_type": "markdown",
      "metadata": {
        "id": "RQGOgd3OdfYs"
      },
      "source": [
        "## 5.3 RandomForestRegression"
      ]
    },
    {
      "cell_type": "code",
      "metadata": {
        "id": "xSshk4rtdfYs",
        "outputId": "35787dba-1c4c-49b1-b6d7-d9c6d5ee4b41"
      },
      "source": [
        "model = RandomForestRegressor()\n",
        "parameters = {'n_estimators':[200, 300, 325, 350, 400, 430, 450, 500], 'min_samples_split':[2, 3, 4, 5]}\n",
        "grid = GridSearchCV(model, parameters, scoring='r2', verbose=1, cv=5, n_jobs=-1)\n",
        "grid.fit(X_train, y_train.ravel())\n",
        "print(grid.best_estimator_)\n",
        "print(grid.best_score_)\n",
        "\n",
        "y_pred = grid.predict(X_valid)\n",
        "r_score = r2_score(y_valid, y_pred)\n",
        "print(\"Validation score:\", r_score)\n"
      ],
      "execution_count": null,
      "outputs": [
        {
          "name": "stdout",
          "output_type": "stream",
          "text": [
            "Fitting 5 folds for each of 32 candidates, totalling 160 fits\n",
            "RandomForestRegressor(n_estimators=200)\n",
            "0.4998341358542165\n",
            "Validation score: 0.4525354011722176\n"
          ]
        }
      ]
    },
    {
      "cell_type": "code",
      "metadata": {
        "id": "LdH88kvcdfYt"
      },
      "source": [
        "# estimator2 = grid.best_estimator_\n",
        "# selector2 = SelectFromModel(estimator2, max_features=150, threshold=\"mean\")\n",
        "# selector2 = selector2.fit(X_data_2, y_data.ravel())\n",
        "# X_data_3 = selector2.transform(X_data_2)\n",
        "# X_test_3 = selector2.transform(X_test_2)\n",
        "\n",
        "# X_train, X_valid, y_train, y_valid = train_test_split(X_data_3, y_data, test_size=0.2, random_state=1)\n",
        "# print(\"X_train shape: \", X_train.shape)\n",
        "\n",
        "# rfr = estimator2.fit(X_train, y_train.ravel())\n",
        "# y_pred = rfr.predict(X_valid)\n",
        "# r_score = r2_score(y_valid,y_pred)\n",
        "# print(\"Validation score:\", r_score)\n"
      ],
      "execution_count": null,
      "outputs": []
    },
    {
      "cell_type": "code",
      "metadata": {
        "id": "ZfalK3gldfYt"
      },
      "source": [
        "rfr = estimator.fit(X_train, y_train)\n",
        "y_pred = rfr.predict(X_valid)\n",
        "r_score = r2_score(y_valid,y_pred)\n",
        "print(\"Validation score:\", r_score)"
      ],
      "execution_count": null,
      "outputs": []
    },
    {
      "cell_type": "markdown",
      "metadata": {
        "id": "YJqkvh0ldfYt"
      },
      "source": [
        "## 5.4 SupportVectorRegression\n",
        "score ~ 0.5"
      ]
    },
    {
      "cell_type": "code",
      "metadata": {
        "id": "ZWnZvVUydfYu"
      },
      "source": [
        "# model = SVR()\n",
        "# parameters = {'kernel':['sigmoid', 'rbf', 'poly'], 'degree':[3, 4, 5, 7, 9], 'gamma':[0.005, 0.01, 0.05, 0.1, 1], 'C':[0.01, 0.05, 0.1, 1, 2]}\n",
        "# grid = GridSearchCV(model, parameters, scoring='r2', cv=5, verbose=1, n_jobs=8)\n",
        "# grid.fit(X_train, y_train.ravel())\n",
        "# print(grid.best_estimator_)\n",
        "# print(grid.best_score_)\n",
        "\n",
        "# y_pred = grid.predict(X_valid)\n",
        "# r_score = r2_score(y_valid, y_pred)\n",
        "# print(\"Validation score:\", r_score)"
      ],
      "execution_count": null,
      "outputs": []
    },
    {
      "cell_type": "markdown",
      "metadata": {
        "id": "xetUrkygdfYu"
      },
      "source": [
        "# 6. Export the prediction"
      ]
    },
    {
      "cell_type": "code",
      "metadata": {
        "id": "vORmNt23dfYu"
      },
      "source": [
        "# rfr = grid.best_estimator_\n",
        "rfr = rfr.fit(X_data_3, y_data.ravel())\n",
        "\n",
        "y_test = rfr.predict(X_test_3)\n",
        "data_id = X_df['id']\n",
        "result = list(zip(data_id,y_test))\n",
        "result_table = pd.DataFrame(data = result, columns = ['id', 'y'])\n",
        "result_table.tail()\n",
        "result_table.to_csv('rfr7.csv', index = False)"
      ],
      "execution_count": null,
      "outputs": []
    }
  ]
}